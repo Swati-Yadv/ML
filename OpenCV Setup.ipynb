{
 "cells": [
  {
   "cell_type": "markdown",
   "id": "b3824cdf",
   "metadata": {},
   "source": [
    "## Installing OpenCV"
   ]
  },
  {
   "cell_type": "markdown",
   "id": "1394f1f3",
   "metadata": {},
   "source": [
    "### Upgrading PIP"
   ]
  },
  {
   "cell_type": "code",
   "execution_count": 1,
   "id": "b890f0c1",
   "metadata": {},
   "outputs": [
    {
     "name": "stdout",
     "output_type": "stream",
     "text": [
      "Requirement already satisfied: pip in c:\\users\\swati\\anaconda3\\lib\\site-packages (21.0.1)\n",
      "Collecting pip\n",
      "  Using cached pip-22.2.1-py3-none-any.whl (2.0 MB)\n",
      "Installing collected packages: pip\n",
      "  Attempting uninstall: pip\n",
      "    Found existing installation: pip 21.0.1\n",
      "    Uninstalling pip-21.0.1:\n",
      "      Successfully uninstalled pip-21.0.1\n",
      "Successfully installed pip-22.2.1\n"
     ]
    }
   ],
   "source": [
    "!python -m pip install --upgrade pip"
   ]
  },
  {
   "cell_type": "markdown",
   "id": "b22d6fd4",
   "metadata": {},
   "source": [
    "### Installing OpenCV"
   ]
  },
  {
   "cell_type": "code",
   "execution_count": 2,
   "id": "c65d8d9d",
   "metadata": {},
   "outputs": [
    {
     "name": "stdout",
     "output_type": "stream",
     "text": [
      "Collecting opencv-python\n",
      "  Downloading opencv_python-4.6.0.66-cp36-abi3-win_amd64.whl (35.6 MB)\n",
      "     -------------------------------------- 35.6/35.6 MB 394.0 kB/s eta 0:00:00\n",
      "Requirement already satisfied: numpy>=1.17.3 in c:\\users\\swati\\anaconda3\\lib\\site-packages (from opencv-python) (1.20.1)\n",
      "Installing collected packages: opencv-python\n",
      "Successfully installed opencv-python-4.6.0.66\n"
     ]
    }
   ],
   "source": [
    "!pip3 install opencv-python"
   ]
  },
  {
   "cell_type": "code",
   "execution_count": 3,
   "id": "995b1d18",
   "metadata": {},
   "outputs": [],
   "source": [
    "# importing opencv\n",
    "import cv2\n"
   ]
  },
  {
   "cell_type": "code",
   "execution_count": 4,
   "id": "c92c6df3",
   "metadata": {},
   "outputs": [
    {
     "name": "stdout",
     "output_type": "stream",
     "text": [
      "4.6.0\n"
     ]
    }
   ],
   "source": [
    "print(cv2.__version__)"
   ]
  },
  {
   "cell_type": "markdown",
   "id": "f03cb806",
   "metadata": {},
   "source": [
    "## Reading Images"
   ]
  },
  {
   "cell_type": "code",
   "execution_count": 5,
   "id": "995ec02b",
   "metadata": {},
   "outputs": [],
   "source": [
    "img_path = \"C://Users/Swati/Python_Basics//sample_images//apple.jpg\"\n",
    "img = cv2.imread(img_path)"
   ]
  },
  {
   "cell_type": "markdown",
   "id": "66acd63d",
   "metadata": {},
   "source": [
    "## Displaying images"
   ]
  },
  {
   "cell_type": "code",
   "execution_count": 6,
   "id": "bfaa2dfb",
   "metadata": {},
   "outputs": [],
   "source": [
    "# Wait for keyboard input to close image window\n",
    "# Window name , image\n",
    "cv2.imshow(\"Apple\", img)\n",
    "cv2.waitKey(0)                      #Wait for any key to be pressed\n",
    "cv2.destroyAllWindows()             #close al windows"
   ]
  },
  {
   "cell_type": "code",
   "execution_count": 5,
   "id": "1b5c2073",
   "metadata": {},
   "outputs": [
    {
     "data": {
      "text/plain": [
       "-1"
      ]
     },
     "execution_count": 5,
     "metadata": {},
     "output_type": "execute_result"
    }
   ],
   "source": [
    "# Auto close window after 2000 milliseconds\n",
    "cv2.imshow(\"Apple image\", img)\n",
    "cv2.waitKey(2000)      #wait for 2000m\n",
    "cv2.destroyAllWindows()"
   ]
  },
  {
   "cell_type": "markdown",
   "id": "183b57ee",
   "metadata": {},
   "source": [
    "### Images are represented as NumPy arrays"
   ]
  },
  {
   "cell_type": "code",
   "execution_count": 6,
   "id": "649dfd0d",
   "metadata": {},
   "outputs": [
    {
     "name": "stdout",
     "output_type": "stream",
     "text": [
      "<class 'numpy.ndarray'>\n"
     ]
    }
   ],
   "source": [
    "print(type(img))"
   ]
  },
  {
   "cell_type": "markdown",
   "id": "0a5e8934",
   "metadata": {},
   "source": [
    "### Saving image"
   ]
  },
  {
   "cell_type": "code",
   "execution_count": 7,
   "id": "33bd5048",
   "metadata": {},
   "outputs": [
    {
     "data": {
      "text/plain": [
       "True"
      ]
     },
     "execution_count": 7,
     "metadata": {},
     "output_type": "execute_result"
    }
   ],
   "source": [
    "cv2.imwrite(\"output.jpg\", img)\n",
    "#             \"File name\", Image"
   ]
  },
  {
   "cell_type": "markdown",
   "id": "5bd400b1",
   "metadata": {},
   "source": [
    "### Capturing image from camera"
   ]
  },
  {
   "cell_type": "code",
   "execution_count": 8,
   "id": "ba5b9240",
   "metadata": {},
   "outputs": [],
   "source": [
    "cap = cv2.VideoCapture(0)\n",
    "if(cap.isOpened()):\n",
    "    ret.frame = cap.read()\n",
    "    if(ret):\n",
    "        cv2.imshow('Capture', frame)\n",
    "        cv2.imwrite(\"captured_img.jpg\", frame)   #saving image\n",
    "        cv2.waitKey(0)\n",
    "        cv2.detroyAllWindows()\n",
    "cap.release()"
   ]
  },
  {
   "cell_type": "markdown",
   "id": "fcc8b397",
   "metadata": {},
   "source": [
    "## Reading Image as Grayscale"
   ]
  },
  {
   "cell_type": "markdown",
   "id": "d0330b65",
   "metadata": {},
   "source": [
    "cv2.IMREAD_COLOR : Loads a color image.Any transparency or image will be neglected.It is the default flag\n",
    "cv2.IMREAD_GREYSCALE: Loads image in grayscale mode\n",
    "cv2.IMREAD_UNCHANGED: Loads image as such including alpha channel\n",
    "Instead of these flags, integers (1,0,-1) can be used"
   ]
  },
  {
   "cell_type": "code",
   "execution_count": 9,
   "id": "a476160f",
   "metadata": {},
   "outputs": [],
   "source": [
    "gs_img = cv2.imread(img_path,0)\n",
    "cv2.imshow('Grayscale Apple Image', gs_img)\n",
    "cv2.waitKey(2000)\n",
    "cv2.destroyAllWindows()"
   ]
  },
  {
   "cell_type": "markdown",
   "id": "eaa4a97f",
   "metadata": {},
   "source": [
    "## Saving the read grayscale image"
   ]
  },
  {
   "cell_type": "code",
   "execution_count": 10,
   "id": "0c2494bd",
   "metadata": {},
   "outputs": [
    {
     "data": {
      "text/plain": [
       "True"
      ]
     },
     "execution_count": 10,
     "metadata": {},
     "output_type": "execute_result"
    }
   ],
   "source": [
    "cv2.imwrite(\"gs_output.jpg\", gs_img)"
   ]
  },
  {
   "cell_type": "markdown",
   "id": "dc444b11",
   "metadata": {},
   "source": [
    "## Reading and Playing Videos"
   ]
  },
  {
   "cell_type": "code",
   "execution_count": null,
   "id": "9d2f8cb3",
   "metadata": {},
   "outputs": [],
   "source": [
    "cap = cv2.VideoCapture('360.avi')\n",
    "\n",
    "while(cap.isOpened()):\n",
    "    ret, frame = cap.read()\n",
    "    cv2.imshow('frame', frame)\n",
    "    if cv2.waitKey(10) & 0xFF == ord('x'):   #if input is x the while loop will break, change delay in order to change speed\n",
    "        break\n",
    "cap.release()\n"
   ]
  }
 ],
 "metadata": {
  "kernelspec": {
   "display_name": "Python 3",
   "language": "python",
   "name": "python3"
  },
  "language_info": {
   "codemirror_mode": {
    "name": "ipython",
    "version": 3
   },
   "file_extension": ".py",
   "mimetype": "text/x-python",
   "name": "python",
   "nbconvert_exporter": "python",
   "pygments_lexer": "ipython3",
   "version": "3.8.8"
  }
 },
 "nbformat": 4,
 "nbformat_minor": 5
}
