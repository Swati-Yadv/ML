{
 "cells": [
  {
   "cell_type": "code",
   "execution_count": 1,
   "id": "95072d94",
   "metadata": {},
   "outputs": [],
   "source": [
    "import cv2\n",
    "import numpy as np"
   ]
  },
  {
   "cell_type": "code",
   "execution_count": 2,
   "id": "cf9dfaeb",
   "metadata": {},
   "outputs": [],
   "source": [
    "path1 = \"C:\\\\Users\\\\Swati\\\\Python_Basics\\\\sample_images\\\\apple.jpg\"\n",
    "path2 = \"C:\\\\Users\\\\Swati\\\\Python_Basics\\\\sample_images\\\\baboon.jpg\"\n",
    "apple = cv2.imread(path1)\n",
    "baboon = cv2.imread(path2)"
   ]
  },
  {
   "cell_type": "code",
   "execution_count": 3,
   "id": "9123200c",
   "metadata": {},
   "outputs": [],
   "source": [
    "cv2.imshow(\"Apple\", apple)\n",
    "cv2.imshow(\"Baboon\", baboon)\n",
    "cv2.waitKey(0)\n",
    "cv2.destroyAllWindows()"
   ]
  },
  {
   "cell_type": "markdown",
   "id": "551290f1",
   "metadata": {},
   "source": [
    "## Arithmetic operations"
   ]
  },
  {
   "cell_type": "code",
   "execution_count": 4,
   "id": "bd1f2681",
   "metadata": {},
   "outputs": [
    {
     "name": "stdout",
     "output_type": "stream",
     "text": [
      "(512, 512, 3)\n",
      "(512, 512, 3)\n"
     ]
    }
   ],
   "source": [
    "# Shape of both images to be added must be same\n",
    "print(apple.shape)\n",
    "print(baboon.shape)\n"
   ]
  },
  {
   "cell_type": "markdown",
   "id": "edfa0a35",
   "metadata": {},
   "source": [
    "## Adding images"
   ]
  },
  {
   "cell_type": "code",
   "execution_count": 5,
   "id": "5dc59800",
   "metadata": {},
   "outputs": [],
   "source": [
    "added1 = cv2.add(apple,baboon)\n",
    "added2 = cv2.add(baboon, apple)\n",
    "cv2.imshow(\"Apple\", apple)\n",
    "cv2.imshow(\"Baboon\", baboon)\n",
    "cv2.imshow(\"Added1\", added1)\n",
    "cv2.imshow(\"Added2\", added2)\n",
    "cv2.waitKey(0)\n",
    "cv2.destroyAllWindows()"
   ]
  },
  {
   "cell_type": "markdown",
   "id": "507ce78a",
   "metadata": {},
   "source": [
    "## Weighted addition"
   ]
  },
  {
   "cell_type": "code",
   "execution_count": 6,
   "id": "e6e4248f",
   "metadata": {},
   "outputs": [],
   "source": [
    "img3 = cv2.addWeighted(apple,0.7, baboon, 0.3, 0)\n",
    "cv2.imshow(\"Image\", img3)\n",
    "cv2.waitKey(0)\n",
    "cv2.destroyAllWindows()"
   ]
  },
  {
   "cell_type": "markdown",
   "id": "6261375c",
   "metadata": {},
   "source": [
    "## Image transition"
   ]
  },
  {
   "cell_type": "code",
   "execution_count": 7,
   "id": "12284d32",
   "metadata": {},
   "outputs": [],
   "source": [
    "for i in np.linspace(0,1,100):\n",
    "    img3 = cv2.addWeighted(apple,(i),baboon, (1-i),0)\n",
    "    cv2.imshow(\"Image\",img3)\n",
    "    if cv2.waitKey(100) & 0xFF == ord(\"x\"):\n",
    "        break\n",
    "cv2.destroyAllWindows()"
   ]
  },
  {
   "cell_type": "markdown",
   "id": "d23e8d5e",
   "metadata": {},
   "source": [
    "## Subtracting images"
   ]
  },
  {
   "cell_type": "code",
   "execution_count": 8,
   "id": "93007353",
   "metadata": {},
   "outputs": [],
   "source": [
    "sub1 = cv2.subtract(apple,baboon)\n",
    "sub2 = cv2.subtract(baboon, apple)\n",
    "cv2.imshow(\"Subtraction 1\", sub1)\n",
    "cv2.imshow(\"Subtraction 2\", sub2)\n",
    "cv2.waitKey(0)\n",
    "cv2.destroyAllWindows()"
   ]
  },
  {
   "cell_type": "markdown",
   "id": "5f801adc",
   "metadata": {},
   "source": [
    "## Flipping images"
   ]
  },
  {
   "cell_type": "code",
   "execution_count": 10,
   "id": "2c49425b",
   "metadata": {},
   "outputs": [],
   "source": [
    "path3 = \"C:\\\\Users\\\\Swati\\\\Python_Basics\\\\sample_images\\\\messi5.jpg\"\n",
    "messi = cv2.imread(path3)\n",
    "cv2.imshow(\"Messi\",messi)\n",
    "cv2.waitKey(0)\n",
    "cv2.destroyAllWindows()"
   ]
  },
  {
   "cell_type": "code",
   "execution_count": 11,
   "id": "2bea651b",
   "metadata": {},
   "outputs": [],
   "source": [
    "cv2.imshow(\"Messi original\", messi)\n",
    "cv2.imshow(\"Operated\", np.flip(messi,0))\n",
    "cv2.waitKey(0)\n",
    "cv2.destroyAllWindows()"
   ]
  },
  {
   "cell_type": "code",
   "execution_count": null,
   "id": "a6ed9312",
   "metadata": {},
   "outputs": [],
   "source": [
    "cv2.imshow(\"Messi original\", messi)\n",
    "cv2.imshow(\"Operated\", np.flipud(messi))\n",
    "cv2.waitKey(0)\n",
    "cv2.destroyAllWindows()"
   ]
  },
  {
   "cell_type": "code",
   "execution_count": null,
   "id": "f884bd8f",
   "metadata": {},
   "outputs": [],
   "source": [
    "cv2.imshow(\"Messi original\", messi)\n",
    "cv2.imshow(\"Operated\", np.flip(messi,1))\n",
    "cv2.waitKey(0)\n",
    "cv2.destroyAllWindows()"
   ]
  },
  {
   "cell_type": "code",
   "execution_count": null,
   "id": "d3e3d280",
   "metadata": {},
   "outputs": [],
   "source": []
  }
 ],
 "metadata": {
  "kernelspec": {
   "display_name": "Python 3",
   "language": "python",
   "name": "python3"
  },
  "language_info": {
   "codemirror_mode": {
    "name": "ipython",
    "version": 3
   },
   "file_extension": ".py",
   "mimetype": "text/x-python",
   "name": "python",
   "nbconvert_exporter": "python",
   "pygments_lexer": "ipython3",
   "version": "3.8.8"
  }
 },
 "nbformat": 4,
 "nbformat_minor": 5
}
