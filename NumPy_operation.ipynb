{
 "cells": [
  {
   "cell_type": "markdown",
   "id": "84ec5582",
   "metadata": {},
   "source": [
    "# Arithmetic "
   ]
  },
  {
   "cell_type": "code",
   "execution_count": 9,
   "id": "19fc44fe",
   "metadata": {},
   "outputs": [
    {
     "name": "stdout",
     "output_type": "stream",
     "text": [
      "[ 5  4 14  8  9]\n"
     ]
    }
   ],
   "source": [
    "import numpy as np\n",
    "arr =  np.random.randint(0,20,5)\n",
    "print(arr)\n"
   ]
  },
  {
   "cell_type": "code",
   "execution_count": 10,
   "id": "5608964d",
   "metadata": {},
   "outputs": [
    {
     "name": "stdout",
     "output_type": "stream",
     "text": [
      "[10  8 28 16 18]\n"
     ]
    }
   ],
   "source": [
    "arr = arr+arr\n",
    "print(arr)"
   ]
  },
  {
   "cell_type": "code",
   "execution_count": 11,
   "id": "1f470a05",
   "metadata": {},
   "outputs": [
    {
     "name": "stdout",
     "output_type": "stream",
     "text": [
      "[100  64 784 256 324]\n"
     ]
    }
   ],
   "source": [
    "print(arr * arr)"
   ]
  },
  {
   "cell_type": "code",
   "execution_count": 12,
   "id": "02c71cf4",
   "metadata": {},
   "outputs": [
    {
     "name": "stdout",
     "output_type": "stream",
     "text": [
      "[100  64 784 256 324]\n"
     ]
    }
   ],
   "source": [
    "print(arr**2)"
   ]
  },
  {
   "cell_type": "code",
   "execution_count": 13,
   "id": "f244afd0",
   "metadata": {},
   "outputs": [
    {
     "name": "stdout",
     "output_type": "stream",
     "text": [
      "[1. 1. 1. 1. 1.]\n"
     ]
    }
   ],
   "source": [
    "print(arr/arr)"
   ]
  },
  {
   "cell_type": "code",
   "execution_count": 14,
   "id": "7f5bf5d5",
   "metadata": {},
   "outputs": [
    {
     "name": "stdout",
     "output_type": "stream",
     "text": [
      "[ True  True  True  True  True]\n"
     ]
    }
   ],
   "source": [
    "print(arr< 30)       #compare the array values with 30 and prints result in boolean values"
   ]
  },
  {
   "cell_type": "markdown",
   "id": "9726a6ed",
   "metadata": {},
   "source": [
    "# Matrix Operation"
   ]
  },
  {
   "cell_type": "code",
   "execution_count": 15,
   "id": "29a64020",
   "metadata": {},
   "outputs": [],
   "source": [
    "A = np.array([[1,0],[1,1]])\n",
    "B = np.array([[2,3],[5,1]])"
   ]
  },
  {
   "cell_type": "code",
   "execution_count": 16,
   "id": "376dbf41",
   "metadata": {},
   "outputs": [
    {
     "name": "stdout",
     "output_type": "stream",
     "text": [
      "[[2 0]\n",
      " [5 1]]\n"
     ]
    }
   ],
   "source": [
    "print(A*B)      #elementwise product"
   ]
  },
  {
   "cell_type": "code",
   "execution_count": 17,
   "id": "38ddf2d3",
   "metadata": {},
   "outputs": [
    {
     "name": "stdout",
     "output_type": "stream",
     "text": [
      "[[2 3]\n",
      " [7 4]]\n"
     ]
    }
   ],
   "source": [
    "print(A@B)         #matrix product"
   ]
  },
  {
   "cell_type": "markdown",
   "id": "28c5293b",
   "metadata": {},
   "source": [
    "# Universal Array Functions"
   ]
  },
  {
   "cell_type": "code",
   "execution_count": 18,
   "id": "4b78bdeb",
   "metadata": {},
   "outputs": [
    {
     "name": "stdout",
     "output_type": "stream",
     "text": [
      "[3.16227766 2.82842712 5.29150262 4.         4.24264069]\n"
     ]
    }
   ],
   "source": [
    "print(np.sqrt(arr))"
   ]
  },
  {
   "cell_type": "code",
   "execution_count": 19,
   "id": "3208d045",
   "metadata": {},
   "outputs": [
    {
     "name": "stdout",
     "output_type": "stream",
     "text": [
      "[2.20264658e+04 2.98095799e+03 1.44625706e+12 8.88611052e+06\n",
      " 6.56599691e+07]\n"
     ]
    }
   ],
   "source": [
    "print(np.exp(arr))"
   ]
  },
  {
   "cell_type": "code",
   "execution_count": 20,
   "id": "7ab5b02c",
   "metadata": {},
   "outputs": [],
   "source": [
    "new_arr = np.random.randint(9,32,5)"
   ]
  },
  {
   "cell_type": "code",
   "execution_count": 21,
   "id": "8f763652",
   "metadata": {},
   "outputs": [
    {
     "name": "stdout",
     "output_type": "stream",
     "text": [
      "[37 31 37 39 35]\n"
     ]
    }
   ],
   "source": [
    "print(np.add(arr,new_arr))"
   ]
  },
  {
   "cell_type": "code",
   "execution_count": 23,
   "id": "8a7873c9",
   "metadata": {},
   "outputs": [
    {
     "name": "stdout",
     "output_type": "stream",
     "text": [
      "[-0.54402111  0.98935825  0.27090579 -0.28790332 -0.75098725]\n"
     ]
    }
   ],
   "source": [
    "print(np.sin(arr))"
   ]
  },
  {
   "cell_type": "code",
   "execution_count": 24,
   "id": "c5e9bc37",
   "metadata": {},
   "outputs": [
    {
     "name": "stdout",
     "output_type": "stream",
     "text": [
      "[2.30258509 2.07944154 3.33220451 2.77258872 2.89037176]\n"
     ]
    }
   ],
   "source": [
    "print(np.log(arr))"
   ]
  },
  {
   "cell_type": "code",
   "execution_count": null,
   "id": "290fa65d",
   "metadata": {},
   "outputs": [],
   "source": []
  }
 ],
 "metadata": {
  "kernelspec": {
   "display_name": "Python 3",
   "language": "python",
   "name": "python3"
  },
  "language_info": {
   "codemirror_mode": {
    "name": "ipython",
    "version": 3
   },
   "file_extension": ".py",
   "mimetype": "text/x-python",
   "name": "python",
   "nbconvert_exporter": "python",
   "pygments_lexer": "ipython3",
   "version": "3.8.8"
  }
 },
 "nbformat": 4,
 "nbformat_minor": 5
}
