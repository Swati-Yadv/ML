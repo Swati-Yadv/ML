{
 "cells": [
  {
   "cell_type": "markdown",
   "id": "23eda495",
   "metadata": {},
   "source": [
    "# NumPy"
   ]
  },
  {
   "cell_type": "code",
   "execution_count": 2,
   "id": "7ed3d976",
   "metadata": {},
   "outputs": [
    {
     "name": "stdout",
     "output_type": "stream",
     "text": [
      "[ 2  7  8  4  3  0 11  9 78 45  6]\n"
     ]
    }
   ],
   "source": [
    "import numpy as np\n",
    "list1 = [2,7,8, 4,3 ,0,11,9,78,45, 6]\n",
    "array1 = np.array(list1)\n",
    "print(array1)"
   ]
  },
  {
   "cell_type": "code",
   "execution_count": 3,
   "id": "e03f8880",
   "metadata": {},
   "outputs": [
    {
     "name": "stdout",
     "output_type": "stream",
     "text": [
      "[[1 2 3]\n",
      " [4 5 6]\n",
      " [7 8 9]]\n"
     ]
    }
   ],
   "source": [
    "import numpy as np\n",
    "list_of_list = [[1,2,3],[4,5,6],[7,8,9]]\n",
    "array2 = np.array(list_of_list)\n",
    "print(array2)"
   ]
  },
  {
   "cell_type": "code",
   "execution_count": 5,
   "id": "9aeb1534",
   "metadata": {},
   "outputs": [
    {
     "name": "stdout",
     "output_type": "stream",
     "text": [
      "[1 2 3]\n"
     ]
    }
   ],
   "source": [
    "row_vector = np.array([1,2,3])\n",
    "print(row_vector)"
   ]
  },
  {
   "cell_type": "code",
   "execution_count": 6,
   "id": "3a0766c5",
   "metadata": {},
   "outputs": [
    {
     "name": "stdout",
     "output_type": "stream",
     "text": [
      "[[1]\n",
      " [2]\n",
      " [3]]\n"
     ]
    }
   ],
   "source": [
    "column_vector = np.array([[1],[2],[3]])\n",
    "print(column_vector)"
   ]
  },
  {
   "cell_type": "code",
   "execution_count": 4,
   "id": "d4f4838c",
   "metadata": {},
   "outputs": [
    {
     "name": "stdout",
     "output_type": "stream",
     "text": [
      "[0 1 2 3 4]\n",
      "<class 'numpy.ndarray'>\n"
     ]
    }
   ],
   "source": [
    "array1 = (np.arange(0,5))\n",
    "print(array1)\n",
    "print(type(array1))"
   ]
  },
  {
   "cell_type": "markdown",
   "id": "5234e1f2",
   "metadata": {},
   "source": [
    "## arange"
   ]
  },
  {
   "cell_type": "code",
   "execution_count": 10,
   "id": "69143b1b",
   "metadata": {},
   "outputs": [
    {
     "name": "stdout",
     "output_type": "stream",
     "text": [
      "[ 0  1  2  3  4  5  6  7  8  9 10 11 12 13 14 15 16 17 18 19]\n",
      "<class 'numpy.ndarray'>\n"
     ]
    }
   ],
   "source": [
    "array1 = np.arange(0,20)\n",
    "print(array1)\n",
    "print(type(array1))"
   ]
  },
  {
   "cell_type": "code",
   "execution_count": 11,
   "id": "173e57cf",
   "metadata": {},
   "outputs": [
    {
     "name": "stdout",
     "output_type": "stream",
     "text": [
      "[ 0  3  6  9 12 15 18]\n"
     ]
    }
   ],
   "source": [
    "array1 = np.arange(0,20,3)\n",
    "print(array1)"
   ]
  },
  {
   "cell_type": "code",
   "execution_count": 12,
   "id": "62a18fe2",
   "metadata": {},
   "outputs": [
    {
     "name": "stdout",
     "output_type": "stream",
     "text": [
      "[0. 0. 0. 0. 0. 0. 0. 0. 0. 0.]\n"
     ]
    }
   ],
   "source": [
    "print(np.zeros(10))"
   ]
  },
  {
   "cell_type": "code",
   "execution_count": 13,
   "id": "5fb1b8d1",
   "metadata": {},
   "outputs": [
    {
     "name": "stdout",
     "output_type": "stream",
     "text": [
      "[1. 1. 1. 1. 1. 1. 1. 1. 1. 1.]\n"
     ]
    }
   ],
   "source": [
    "print(np.ones(10))"
   ]
  },
  {
   "cell_type": "code",
   "execution_count": 16,
   "id": "a06442a0",
   "metadata": {},
   "outputs": [
    {
     "name": "stdout",
     "output_type": "stream",
     "text": [
      "[[1. 1. 1.]\n",
      " [1. 1. 1.]\n",
      " [1. 1. 1.]\n",
      " [1. 1. 1.]]\n"
     ]
    }
   ],
   "source": [
    "print(np.ones((4,3)))"
   ]
  },
  {
   "cell_type": "code",
   "execution_count": 17,
   "id": "56e69c2e",
   "metadata": {},
   "outputs": [
    {
     "name": "stdout",
     "output_type": "stream",
     "text": [
      "[[0. 0. 0.]\n",
      " [0. 0. 0.]\n",
      " [0. 0. 0.]\n",
      " [0. 0. 0.]]\n"
     ]
    }
   ],
   "source": [
    "print(np.zeros((4,3)))"
   ]
  },
  {
   "cell_type": "markdown",
   "id": "8a61781a",
   "metadata": {},
   "source": [
    "## Fill"
   ]
  },
  {
   "cell_type": "code",
   "execution_count": 3,
   "id": "a39db625",
   "metadata": {},
   "outputs": [
    {
     "name": "stdout",
     "output_type": "stream",
     "text": [
      "[[7 7 7 7]\n",
      " [7 7 7 7]\n",
      " [7 7 7 7]\n",
      " [7 7 7 7]]\n"
     ]
    }
   ],
   "source": [
    "filled_array = np.full((4,4), 7)           #fills 4x4 array with value 7\n",
    "print(filled_array)"
   ]
  },
  {
   "cell_type": "markdown",
   "id": "a0b4c0b5",
   "metadata": {},
   "source": [
    "## linspace"
   ]
  },
  {
   "cell_type": "code",
   "execution_count": 5,
   "id": "7afc4f9e",
   "metadata": {},
   "outputs": [
    {
     "name": "stdout",
     "output_type": "stream",
     "text": [
      "[ 0.  5. 10. 15. 20.]\n"
     ]
    }
   ],
   "source": [
    "print(np.linspace(0,20,5))   #stop value is also considered in this case\n",
    "#start, stop, step value are mentioned"
   ]
  },
  {
   "cell_type": "markdown",
   "id": "cc0910ca",
   "metadata": {},
   "source": [
    "## eye"
   ]
  },
  {
   "cell_type": "code",
   "execution_count": 8,
   "id": "23158857",
   "metadata": {},
   "outputs": [
    {
     "name": "stdout",
     "output_type": "stream",
     "text": [
      "[[1. 0. 0. 0. 0. 0. 0. 0. 0.]\n",
      " [0. 1. 0. 0. 0. 0. 0. 0. 0.]\n",
      " [0. 0. 1. 0. 0. 0. 0. 0. 0.]\n",
      " [0. 0. 0. 1. 0. 0. 0. 0. 0.]\n",
      " [0. 0. 0. 0. 1. 0. 0. 0. 0.]\n",
      " [0. 0. 0. 0. 0. 1. 0. 0. 0.]\n",
      " [0. 0. 0. 0. 0. 0. 1. 0. 0.]\n",
      " [0. 0. 0. 0. 0. 0. 0. 1. 0.]\n",
      " [0. 0. 0. 0. 0. 0. 0. 0. 1.]]\n"
     ]
    }
   ],
   "source": [
    "print(np.eye(9))          #prints an identity matrix"
   ]
  },
  {
   "cell_type": "code",
   "execution_count": 9,
   "id": "9ad43420",
   "metadata": {},
   "outputs": [
    {
     "name": "stdout",
     "output_type": "stream",
     "text": [
      "[[0. 1. 0. 0. 0. 0. 0. 0. 0.]\n",
      " [0. 0. 1. 0. 0. 0. 0. 0. 0.]\n",
      " [0. 0. 0. 1. 0. 0. 0. 0. 0.]\n",
      " [0. 0. 0. 0. 1. 0. 0. 0. 0.]\n",
      " [0. 0. 0. 0. 0. 1. 0. 0. 0.]\n",
      " [0. 0. 0. 0. 0. 0. 1. 0. 0.]\n",
      " [0. 0. 0. 0. 0. 0. 0. 1. 0.]\n",
      " [0. 0. 0. 0. 0. 0. 0. 0. 1.]\n",
      " [0. 0. 0. 0. 0. 0. 0. 0. 0.]]\n"
     ]
    }
   ],
   "source": [
    "print(np.eye(9,k = 1))   #sets the diagonal offset by 1"
   ]
  },
  {
   "cell_type": "markdown",
   "id": "6f6125bb",
   "metadata": {},
   "source": [
    "## random"
   ]
  },
  {
   "cell_type": "markdown",
   "id": "94cf43fb",
   "metadata": {},
   "source": [
    "### rand"
   ]
  },
  {
   "cell_type": "code",
   "execution_count": 10,
   "id": "21cef53c",
   "metadata": {},
   "outputs": [
    {
     "name": "stdout",
     "output_type": "stream",
     "text": [
      "[0.01994301 0.67939701 0.98196632 0.03873447 0.47061187]\n"
     ]
    }
   ],
   "source": [
    "print(np.random.rand(5))"
   ]
  },
  {
   "cell_type": "code",
   "execution_count": 11,
   "id": "ae023163",
   "metadata": {},
   "outputs": [
    {
     "name": "stdout",
     "output_type": "stream",
     "text": [
      "[[0.29412065 0.12399044 0.29333954 0.58703143]\n",
      " [0.83063403 0.00929754 0.59402764 0.24222652]\n",
      " [0.72458943 0.10367566 0.35415791 0.32582407]\n",
      " [0.90376084 0.01922191 0.54584119 0.39426707]\n",
      " [0.62736611 0.90754764 0.20780701 0.74844406]]\n"
     ]
    }
   ],
   "source": [
    "print(np.random.rand(5, 4))"
   ]
  },
  {
   "cell_type": "markdown",
   "id": "abac9711",
   "metadata": {},
   "source": [
    "### randn"
   ]
  },
  {
   "cell_type": "code",
   "execution_count": 12,
   "id": "5766b622",
   "metadata": {},
   "outputs": [
    {
     "name": "stdout",
     "output_type": "stream",
     "text": [
      "[-0.41852383  0.1312722  -0.68548697  0.59926675 -0.2997983 ]\n"
     ]
    }
   ],
   "source": [
    "print(np.random.randn(5))"
   ]
  },
  {
   "cell_type": "code",
   "execution_count": 13,
   "id": "3233ba78",
   "metadata": {},
   "outputs": [
    {
     "name": "stdout",
     "output_type": "stream",
     "text": [
      "[[-1.03582258  0.18164515  0.32671069 -0.00838525]\n",
      " [-0.02740261  0.7233207  -0.30992929 -0.6159328 ]\n",
      " [-0.59728509 -1.07222663 -0.26987911 -0.40113113]\n",
      " [ 0.04872213 -0.06031894  1.69928607 -0.32647597]\n",
      " [-0.43969654 -0.53336228  2.41348852 -0.69803584]]\n"
     ]
    }
   ],
   "source": [
    "print(np.random.randn(5, 4))"
   ]
  },
  {
   "cell_type": "markdown",
   "id": "c6eafce3",
   "metadata": {},
   "source": [
    "### randint"
   ]
  },
  {
   "cell_type": "code",
   "execution_count": 14,
   "id": "9feb8c14",
   "metadata": {},
   "outputs": [
    {
     "name": "stdout",
     "output_type": "stream",
     "text": [
      "[2 3 0 2 0]\n"
     ]
    }
   ],
   "source": [
    "print(np.random.randint(4, size = 5))      #prints an array of size 5 b/w 0 and 4 (4 is excluded)"
   ]
  },
  {
   "cell_type": "code",
   "execution_count": 15,
   "id": "b0c49662",
   "metadata": {},
   "outputs": [
    {
     "name": "stdout",
     "output_type": "stream",
     "text": [
      "[3 1 3 1 1]\n"
     ]
    }
   ],
   "source": [
    "print(np.random.randint(1,4, size = 5))"
   ]
  },
  {
   "cell_type": "code",
   "execution_count": 16,
   "id": "6dfb3419",
   "metadata": {},
   "outputs": [
    {
     "name": "stdout",
     "output_type": "stream",
     "text": [
      "[[2 1 1 1 3]\n",
      " [1 1 3 1 1]\n",
      " [1 2 3 3 1]\n",
      " [2 1 1 2 3]\n",
      " [1 1 1 1 3]]\n"
     ]
    }
   ],
   "source": [
    "print(np.random.randint(1,4, size = (5,5)))"
   ]
  },
  {
   "cell_type": "markdown",
   "id": "038010a1",
   "metadata": {},
   "source": [
    "# Attributes of ndArray"
   ]
  },
  {
   "cell_type": "code",
   "execution_count": 18,
   "id": "cfd3e026",
   "metadata": {},
   "outputs": [
    {
     "name": "stdout",
     "output_type": "stream",
     "text": [
      "[ 0  1  2  3  4  5  6  7  8  9 10 11 12 13 14 15 16 17 18 19]\n"
     ]
    }
   ],
   "source": [
    "sample_arrays = np.arange(20)\n",
    "print(sample_arrays)"
   ]
  },
  {
   "cell_type": "code",
   "execution_count": 20,
   "id": "7d072df8",
   "metadata": {},
   "outputs": [
    {
     "name": "stdout",
     "output_type": "stream",
     "text": [
      "[[1 2 3]\n",
      " [4 5 6]\n",
      " [7 8 9]]\n"
     ]
    }
   ],
   "source": [
    "sample_array_2 = np.array([[1,2,3],[4,5,6],[7,8,9]])\n",
    "print(sample_array_2)"
   ]
  },
  {
   "cell_type": "code",
   "execution_count": 21,
   "id": "5a466315",
   "metadata": {},
   "outputs": [
    {
     "name": "stdout",
     "output_type": "stream",
     "text": [
      "(20,)\n"
     ]
    }
   ],
   "source": [
    "print(sample_arrays.shape)"
   ]
  },
  {
   "cell_type": "code",
   "execution_count": 22,
   "id": "6b912e7d",
   "metadata": {},
   "outputs": [
    {
     "name": "stdout",
     "output_type": "stream",
     "text": [
      "(3, 3)\n"
     ]
    }
   ],
   "source": [
    "print(sample_array_2.shape)"
   ]
  },
  {
   "cell_type": "code",
   "execution_count": 23,
   "id": "db935158",
   "metadata": {},
   "outputs": [
    {
     "name": "stdout",
     "output_type": "stream",
     "text": [
      "20\n"
     ]
    }
   ],
   "source": [
    "print(sample_arrays.size)"
   ]
  },
  {
   "cell_type": "code",
   "execution_count": 24,
   "id": "dc7ab1f6",
   "metadata": {},
   "outputs": [
    {
     "name": "stdout",
     "output_type": "stream",
     "text": [
      "9\n"
     ]
    }
   ],
   "source": [
    "print(sample_array_2.size)"
   ]
  },
  {
   "cell_type": "markdown",
   "id": "7bb3daa0",
   "metadata": {},
   "source": [
    "### ndim"
   ]
  },
  {
   "cell_type": "code",
   "execution_count": 25,
   "id": "38c3a066",
   "metadata": {},
   "outputs": [
    {
     "name": "stdout",
     "output_type": "stream",
     "text": [
      "1\n"
     ]
    }
   ],
   "source": [
    "print(sample_arrays.ndim)"
   ]
  },
  {
   "cell_type": "code",
   "execution_count": 26,
   "id": "24885563",
   "metadata": {},
   "outputs": [
    {
     "name": "stdout",
     "output_type": "stream",
     "text": [
      "2\n"
     ]
    }
   ],
   "source": [
    "print(sample_array_2.ndim)"
   ]
  },
  {
   "cell_type": "markdown",
   "id": "dbad6c41",
   "metadata": {},
   "source": [
    "# Methods to change shape of an array"
   ]
  },
  {
   "cell_type": "markdown",
   "id": "b73a76d3",
   "metadata": {},
   "source": [
    "## reshape"
   ]
  },
  {
   "cell_type": "code",
   "execution_count": 29,
   "id": "33da1e39",
   "metadata": {},
   "outputs": [
    {
     "name": "stdout",
     "output_type": "stream",
     "text": [
      "[[ 0  1  2  3  4]\n",
      " [ 5  6  7  8  9]\n",
      " [10 11 12 13 14]\n",
      " [15 16 17 18 19]]\n"
     ]
    }
   ],
   "source": [
    "print(sample_arrays.reshape(4,5))"
   ]
  },
  {
   "cell_type": "code",
   "execution_count": 32,
   "id": "243d1e9d",
   "metadata": {},
   "outputs": [
    {
     "name": "stdout",
     "output_type": "stream",
     "text": [
      "[[ 0  1  2  3  4  5  6  7  8  9]\n",
      " [10 11 12 13 14 15 16 17 18 19]]\n"
     ]
    }
   ],
   "source": [
    "print(sample_arrays.reshape(2,10))"
   ]
  },
  {
   "cell_type": "markdown",
   "id": "579f4448",
   "metadata": {},
   "source": [
    "## ravel"
   ]
  },
  {
   "cell_type": "code",
   "execution_count": 34,
   "id": "cf8e4e55",
   "metadata": {},
   "outputs": [
    {
     "name": "stdout",
     "output_type": "stream",
     "text": [
      "[1 2 3 4 5 6 7 8 9]\n"
     ]
    }
   ],
   "source": [
    "print(sample_array_2.ravel())"
   ]
  },
  {
   "cell_type": "code",
   "execution_count": 35,
   "id": "aafe5095",
   "metadata": {},
   "outputs": [
    {
     "name": "stdout",
     "output_type": "stream",
     "text": [
      "[[1 4 7]\n",
      " [2 5 8]\n",
      " [3 6 9]]\n"
     ]
    }
   ],
   "source": [
    "print(sample_array_2.T)       #returns transpose "
   ]
  },
  {
   "cell_type": "markdown",
   "id": "49420e46",
   "metadata": {},
   "source": [
    "## max, min, argmax, argmin"
   ]
  },
  {
   "cell_type": "code",
   "execution_count": 38,
   "id": "8df85302",
   "metadata": {},
   "outputs": [
    {
     "name": "stdout",
     "output_type": "stream",
     "text": [
      "[ 2 18  2]\n"
     ]
    }
   ],
   "source": [
    "rand_array = np.random.randint(0,20,3) \n",
    "print(rand_array)"
   ]
  },
  {
   "cell_type": "code",
   "execution_count": 39,
   "id": "659abb76",
   "metadata": {},
   "outputs": [
    {
     "name": "stdout",
     "output_type": "stream",
     "text": [
      "18\n"
     ]
    }
   ],
   "source": [
    "print(rand_array.max())"
   ]
  },
  {
   "cell_type": "code",
   "execution_count": 40,
   "id": "71f9bd21",
   "metadata": {},
   "outputs": [
    {
     "name": "stdout",
     "output_type": "stream",
     "text": [
      "1\n"
     ]
    }
   ],
   "source": [
    "print(rand_array.argmax())"
   ]
  },
  {
   "cell_type": "code",
   "execution_count": 41,
   "id": "40f169fe",
   "metadata": {},
   "outputs": [
    {
     "name": "stdout",
     "output_type": "stream",
     "text": [
      "2\n"
     ]
    }
   ],
   "source": [
    "print(rand_array.min())"
   ]
  },
  {
   "cell_type": "code",
   "execution_count": 42,
   "id": "525b9b2e",
   "metadata": {},
   "outputs": [
    {
     "name": "stdout",
     "output_type": "stream",
     "text": [
      "0\n"
     ]
    }
   ],
   "source": [
    "print(rand_array.argmin())"
   ]
  },
  {
   "cell_type": "code",
   "execution_count": 43,
   "id": "7e031af5",
   "metadata": {},
   "outputs": [
    {
     "name": "stdout",
     "output_type": "stream",
     "text": [
      "22\n"
     ]
    }
   ],
   "source": [
    "print(rand_array.sum())"
   ]
  },
  {
   "cell_type": "code",
   "execution_count": null,
   "id": "ed9c65ae",
   "metadata": {},
   "outputs": [],
   "source": []
  }
 ],
 "metadata": {
  "kernelspec": {
   "display_name": "Python 3",
   "language": "python",
   "name": "python3"
  },
  "language_info": {
   "codemirror_mode": {
    "name": "ipython",
    "version": 3
   },
   "file_extension": ".py",
   "mimetype": "text/x-python",
   "name": "python",
   "nbconvert_exporter": "python",
   "pygments_lexer": "ipython3",
   "version": "3.8.8"
  }
 },
 "nbformat": 4,
 "nbformat_minor": 5
}
