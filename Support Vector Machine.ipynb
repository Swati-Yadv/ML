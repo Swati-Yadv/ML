{
 "cells": [
  {
   "cell_type": "code",
   "execution_count": 1,
   "id": "1e765f62",
   "metadata": {},
   "outputs": [],
   "source": [
    "import numpy as np\n",
    "import pandas as pd\n",
    "import matplotlib.pyplot as plt\n",
    "import seaborn as sns\n",
    "%matplotlib inline"
   ]
  },
  {
   "cell_type": "code",
   "execution_count": 2,
   "id": "4108eec7",
   "metadata": {},
   "outputs": [],
   "source": [
    "from sklearn.datasets import load_breast_cancer\n",
    "dataset = load_breast_cancer()"
   ]
  },
  {
   "cell_type": "code",
   "execution_count": 3,
   "id": "95d4e31f",
   "metadata": {},
   "outputs": [
    {
     "data": {
      "text/plain": [
       "dict_keys(['data', 'target', 'frame', 'target_names', 'DESCR', 'feature_names', 'filename'])"
      ]
     },
     "execution_count": 3,
     "metadata": {},
     "output_type": "execute_result"
    }
   ],
   "source": [
    "dataset.keys()"
   ]
  },
  {
   "cell_type": "code",
   "execution_count": 4,
   "id": "68738261",
   "metadata": {},
   "outputs": [
    {
     "name": "stdout",
     "output_type": "stream",
     "text": [
      ".. _breast_cancer_dataset:\n",
      "\n",
      "Breast cancer wisconsin (diagnostic) dataset\n",
      "--------------------------------------------\n",
      "\n",
      "**Data Set Characteristics:**\n",
      "\n",
      "    :Number of Instances: 569\n",
      "\n",
      "    :Number of Attributes: 30 numeric, predictive attributes and the class\n",
      "\n",
      "    :Attribute Information:\n",
      "        - radius (mean of distances from center to points on the perimeter)\n",
      "        - texture (standard deviation of gray-scale values)\n",
      "        - perimeter\n",
      "        - area\n",
      "        - smoothness (local variation in radius lengths)\n",
      "        - compactness (perimeter^2 / area - 1.0)\n",
      "        - concavity (severity of concave portions of the contour)\n",
      "        - concave points (number of concave portions of the contour)\n",
      "        - symmetry\n",
      "        - fractal dimension (\"coastline approximation\" - 1)\n",
      "\n",
      "        The mean, standard error, and \"worst\" or largest (mean of the three\n",
      "        worst/largest values) of these features were computed for each image,\n",
      "        resulting in 30 features.  For instance, field 0 is Mean Radius, field\n",
      "        10 is Radius SE, field 20 is Worst Radius.\n",
      "\n",
      "        - class:\n",
      "                - WDBC-Malignant\n",
      "                - WDBC-Benign\n",
      "\n",
      "    :Summary Statistics:\n",
      "\n",
      "    ===================================== ====== ======\n",
      "                                           Min    Max\n",
      "    ===================================== ====== ======\n",
      "    radius (mean):                        6.981  28.11\n",
      "    texture (mean):                       9.71   39.28\n",
      "    perimeter (mean):                     43.79  188.5\n",
      "    area (mean):                          143.5  2501.0\n",
      "    smoothness (mean):                    0.053  0.163\n",
      "    compactness (mean):                   0.019  0.345\n",
      "    concavity (mean):                     0.0    0.427\n",
      "    concave points (mean):                0.0    0.201\n",
      "    symmetry (mean):                      0.106  0.304\n",
      "    fractal dimension (mean):             0.05   0.097\n",
      "    radius (standard error):              0.112  2.873\n",
      "    texture (standard error):             0.36   4.885\n",
      "    perimeter (standard error):           0.757  21.98\n",
      "    area (standard error):                6.802  542.2\n",
      "    smoothness (standard error):          0.002  0.031\n",
      "    compactness (standard error):         0.002  0.135\n",
      "    concavity (standard error):           0.0    0.396\n",
      "    concave points (standard error):      0.0    0.053\n",
      "    symmetry (standard error):            0.008  0.079\n",
      "    fractal dimension (standard error):   0.001  0.03\n",
      "    radius (worst):                       7.93   36.04\n",
      "    texture (worst):                      12.02  49.54\n",
      "    perimeter (worst):                    50.41  251.2\n",
      "    area (worst):                         185.2  4254.0\n",
      "    smoothness (worst):                   0.071  0.223\n",
      "    compactness (worst):                  0.027  1.058\n",
      "    concavity (worst):                    0.0    1.252\n",
      "    concave points (worst):               0.0    0.291\n",
      "    symmetry (worst):                     0.156  0.664\n",
      "    fractal dimension (worst):            0.055  0.208\n",
      "    ===================================== ====== ======\n",
      "\n",
      "    :Missing Attribute Values: None\n",
      "\n",
      "    :Class Distribution: 212 - Malignant, 357 - Benign\n",
      "\n",
      "    :Creator:  Dr. William H. Wolberg, W. Nick Street, Olvi L. Mangasarian\n",
      "\n",
      "    :Donor: Nick Street\n",
      "\n",
      "    :Date: November, 1995\n",
      "\n",
      "This is a copy of UCI ML Breast Cancer Wisconsin (Diagnostic) datasets.\n",
      "https://goo.gl/U2Uwz2\n",
      "\n",
      "Features are computed from a digitized image of a fine needle\n",
      "aspirate (FNA) of a breast mass.  They describe\n",
      "characteristics of the cell nuclei present in the image.\n",
      "\n",
      "Separating plane described above was obtained using\n",
      "Multisurface Method-Tree (MSM-T) [K. P. Bennett, \"Decision Tree\n",
      "Construction Via Linear Programming.\" Proceedings of the 4th\n",
      "Midwest Artificial Intelligence and Cognitive Science Society,\n",
      "pp. 97-101, 1992], a classification method which uses linear\n",
      "programming to construct a decision tree.  Relevant features\n",
      "were selected using an exhaustive search in the space of 1-4\n",
      "features and 1-3 separating planes.\n",
      "\n",
      "The actual linear program used to obtain the separating plane\n",
      "in the 3-dimensional space is that described in:\n",
      "[K. P. Bennett and O. L. Mangasarian: \"Robust Linear\n",
      "Programming Discrimination of Two Linearly Inseparable Sets\",\n",
      "Optimization Methods and Software 1, 1992, 23-34].\n",
      "\n",
      "This database is also available through the UW CS ftp server:\n",
      "\n",
      "ftp ftp.cs.wisc.edu\n",
      "cd math-prog/cpo-dataset/machine-learn/WDBC/\n",
      "\n",
      ".. topic:: References\n",
      "\n",
      "   - W.N. Street, W.H. Wolberg and O.L. Mangasarian. Nuclear feature extraction \n",
      "     for breast tumor diagnosis. IS&T/SPIE 1993 International Symposium on \n",
      "     Electronic Imaging: Science and Technology, volume 1905, pages 861-870,\n",
      "     San Jose, CA, 1993.\n",
      "   - O.L. Mangasarian, W.N. Street and W.H. Wolberg. Breast cancer diagnosis and \n",
      "     prognosis via linear programming. Operations Research, 43(4), pages 570-577, \n",
      "     July-August 1995.\n",
      "   - W.H. Wolberg, W.N. Street, and O.L. Mangasarian. Machine learning techniques\n",
      "     to diagnose breast cancer from fine-needle aspirates. Cancer Letters 77 (1994) \n",
      "     163-171.\n"
     ]
    }
   ],
   "source": [
    "print(dataset[\"DESCR\"])"
   ]
  },
  {
   "cell_type": "code",
   "execution_count": 5,
   "id": "56baa650",
   "metadata": {},
   "outputs": [
    {
     "data": {
      "text/plain": [
       "array(['mean radius', 'mean texture', 'mean perimeter', 'mean area',\n",
       "       'mean smoothness', 'mean compactness', 'mean concavity',\n",
       "       'mean concave points', 'mean symmetry', 'mean fractal dimension',\n",
       "       'radius error', 'texture error', 'perimeter error', 'area error',\n",
       "       'smoothness error', 'compactness error', 'concavity error',\n",
       "       'concave points error', 'symmetry error',\n",
       "       'fractal dimension error', 'worst radius', 'worst texture',\n",
       "       'worst perimeter', 'worst area', 'worst smoothness',\n",
       "       'worst compactness', 'worst concavity', 'worst concave points',\n",
       "       'worst symmetry', 'worst fractal dimension'], dtype='<U23')"
      ]
     },
     "execution_count": 5,
     "metadata": {},
     "output_type": "execute_result"
    }
   ],
   "source": [
    "dataset[\"feature_names\"]"
   ]
  },
  {
   "cell_type": "code",
   "execution_count": 6,
   "id": "7eaedfb8",
   "metadata": {},
   "outputs": [
    {
     "data": {
      "text/plain": [
       "array(['malignant', 'benign'], dtype='<U9')"
      ]
     },
     "execution_count": 6,
     "metadata": {},
     "output_type": "execute_result"
    }
   ],
   "source": [
    "dataset[\"target_names\"]"
   ]
  },
  {
   "cell_type": "code",
   "execution_count": 8,
   "id": "cd105793",
   "metadata": {},
   "outputs": [
    {
     "data": {
      "text/plain": [
       "array([[1.799e+01, 1.038e+01, 1.228e+02, ..., 2.654e-01, 4.601e-01,\n",
       "        1.189e-01],\n",
       "       [2.057e+01, 1.777e+01, 1.329e+02, ..., 1.860e-01, 2.750e-01,\n",
       "        8.902e-02],\n",
       "       [1.969e+01, 2.125e+01, 1.300e+02, ..., 2.430e-01, 3.613e-01,\n",
       "        8.758e-02],\n",
       "       ...,\n",
       "       [1.660e+01, 2.808e+01, 1.083e+02, ..., 1.418e-01, 2.218e-01,\n",
       "        7.820e-02],\n",
       "       [2.060e+01, 2.933e+01, 1.401e+02, ..., 2.650e-01, 4.087e-01,\n",
       "        1.240e-01],\n",
       "       [7.760e+00, 2.454e+01, 4.792e+01, ..., 0.000e+00, 2.871e-01,\n",
       "        7.039e-02]])"
      ]
     },
     "execution_count": 8,
     "metadata": {},
     "output_type": "execute_result"
    }
   ],
   "source": [
    "# dataset[\"data\"]"
   ]
  },
  {
   "cell_type": "code",
   "execution_count": null,
   "id": "f63284cd",
   "metadata": {},
   "outputs": [],
   "source": []
  },
  {
   "cell_type": "code",
   "execution_count": 9,
   "id": "907d5da3",
   "metadata": {},
   "outputs": [
    {
     "name": "stdout",
     "output_type": "stream",
     "text": [
      "<class 'pandas.core.frame.DataFrame'>\n",
      "RangeIndex: 569 entries, 0 to 568\n",
      "Data columns (total 30 columns):\n",
      " #   Column                   Non-Null Count  Dtype  \n",
      "---  ------                   --------------  -----  \n",
      " 0   mean radius              569 non-null    float64\n",
      " 1   mean texture             569 non-null    float64\n",
      " 2   mean perimeter           569 non-null    float64\n",
      " 3   mean area                569 non-null    float64\n",
      " 4   mean smoothness          569 non-null    float64\n",
      " 5   mean compactness         569 non-null    float64\n",
      " 6   mean concavity           569 non-null    float64\n",
      " 7   mean concave points      569 non-null    float64\n",
      " 8   mean symmetry            569 non-null    float64\n",
      " 9   mean fractal dimension   569 non-null    float64\n",
      " 10  radius error             569 non-null    float64\n",
      " 11  texture error            569 non-null    float64\n",
      " 12  perimeter error          569 non-null    float64\n",
      " 13  area error               569 non-null    float64\n",
      " 14  smoothness error         569 non-null    float64\n",
      " 15  compactness error        569 non-null    float64\n",
      " 16  concavity error          569 non-null    float64\n",
      " 17  concave points error     569 non-null    float64\n",
      " 18  symmetry error           569 non-null    float64\n",
      " 19  fractal dimension error  569 non-null    float64\n",
      " 20  worst radius             569 non-null    float64\n",
      " 21  worst texture            569 non-null    float64\n",
      " 22  worst perimeter          569 non-null    float64\n",
      " 23  worst area               569 non-null    float64\n",
      " 24  worst smoothness         569 non-null    float64\n",
      " 25  worst compactness        569 non-null    float64\n",
      " 26  worst concavity          569 non-null    float64\n",
      " 27  worst concave points     569 non-null    float64\n",
      " 28  worst symmetry           569 non-null    float64\n",
      " 29  worst fractal dimension  569 non-null    float64\n",
      "dtypes: float64(30)\n",
      "memory usage: 133.5 KB\n"
     ]
    }
   ],
   "source": [
    "# creating pandas dataframe for input features\n",
    "df_inputs = pd.DataFrame(dataset[\"data\"],columns = dataset[\"feature_names\"])\n",
    "df_inputs\n",
    "df_inputs.info()"
   ]
  },
  {
   "cell_type": "code",
   "execution_count": 10,
   "id": "70977e20",
   "metadata": {},
   "outputs": [
    {
     "data": {
      "text/html": [
       "<div>\n",
       "<style scoped>\n",
       "    .dataframe tbody tr th:only-of-type {\n",
       "        vertical-align: middle;\n",
       "    }\n",
       "\n",
       "    .dataframe tbody tr th {\n",
       "        vertical-align: top;\n",
       "    }\n",
       "\n",
       "    .dataframe thead th {\n",
       "        text-align: right;\n",
       "    }\n",
       "</style>\n",
       "<table border=\"1\" class=\"dataframe\">\n",
       "  <thead>\n",
       "    <tr style=\"text-align: right;\">\n",
       "      <th></th>\n",
       "      <th>Class</th>\n",
       "    </tr>\n",
       "  </thead>\n",
       "  <tbody>\n",
       "    <tr>\n",
       "      <th>0</th>\n",
       "      <td>0</td>\n",
       "    </tr>\n",
       "    <tr>\n",
       "      <th>1</th>\n",
       "      <td>0</td>\n",
       "    </tr>\n",
       "    <tr>\n",
       "      <th>2</th>\n",
       "      <td>0</td>\n",
       "    </tr>\n",
       "    <tr>\n",
       "      <th>3</th>\n",
       "      <td>0</td>\n",
       "    </tr>\n",
       "    <tr>\n",
       "      <th>4</th>\n",
       "      <td>0</td>\n",
       "    </tr>\n",
       "    <tr>\n",
       "      <th>...</th>\n",
       "      <td>...</td>\n",
       "    </tr>\n",
       "    <tr>\n",
       "      <th>564</th>\n",
       "      <td>0</td>\n",
       "    </tr>\n",
       "    <tr>\n",
       "      <th>565</th>\n",
       "      <td>0</td>\n",
       "    </tr>\n",
       "    <tr>\n",
       "      <th>566</th>\n",
       "      <td>0</td>\n",
       "    </tr>\n",
       "    <tr>\n",
       "      <th>567</th>\n",
       "      <td>0</td>\n",
       "    </tr>\n",
       "    <tr>\n",
       "      <th>568</th>\n",
       "      <td>1</td>\n",
       "    </tr>\n",
       "  </tbody>\n",
       "</table>\n",
       "<p>569 rows × 1 columns</p>\n",
       "</div>"
      ],
      "text/plain": [
       "     Class\n",
       "0        0\n",
       "1        0\n",
       "2        0\n",
       "3        0\n",
       "4        0\n",
       "..     ...\n",
       "564      0\n",
       "565      0\n",
       "566      0\n",
       "567      0\n",
       "568      1\n",
       "\n",
       "[569 rows x 1 columns]"
      ]
     },
     "execution_count": 10,
     "metadata": {},
     "output_type": "execute_result"
    }
   ],
   "source": [
    "# creating dataframe for output/target class\n",
    "df_output = pd.DataFrame(dataset[\"target\"], columns = [\"Class\"])\n",
    "df_output"
   ]
  },
  {
   "cell_type": "code",
   "execution_count": 11,
   "id": "d72b6ac8",
   "metadata": {},
   "outputs": [
    {
     "name": "stderr",
     "output_type": "stream",
     "text": [
      "C:\\Users\\Swati\\anaconda3\\lib\\site-packages\\seaborn\\_decorators.py:36: FutureWarning: Pass the following variable as a keyword arg: x. From version 0.12, the only valid positional argument will be `data`, and passing other arguments without an explicit keyword will result in an error or misinterpretation.\n",
      "  warnings.warn(\n"
     ]
    },
    {
     "data": {
      "text/plain": [
       "<AxesSubplot:xlabel='Class', ylabel='count'>"
      ]
     },
     "execution_count": 11,
     "metadata": {},
     "output_type": "execute_result"
    },
    {
     "data": {
      "image/png": "[encoded data removed]",
      "text/plain": [
       "<Figure size 432x288 with 1 Axes>"
      ]
     },
     "metadata": {
      "needs_background": "light"
     },
     "output_type": "display_data"
    }
   ],
   "source": [
    "# Checking count of each target class\n",
    "# 0: Malignant\n",
    "# 1: Beningn\n",
    "sns.countplot(df_output[\"Class\"])"
   ]
  },
  {
   "cell_type": "code",
   "execution_count": 12,
   "id": "d536ac4c",
   "metadata": {},
   "outputs": [],
   "source": [
    "# splitting data for training and testing\n",
    "from sklearn.model_selection import train_test_split\n",
    "X_train, X_test, y_train, y_test = train_test_split(df_inputs, df_output[\"Class\"], test_size = 0.30, random_state = 101)"
   ]
  },
  {
   "cell_type": "code",
   "execution_count": 13,
   "id": "a7d609c7",
   "metadata": {},
   "outputs": [
    {
     "data": {
      "text/plain": [
       "SVC()"
      ]
     },
     "execution_count": 13,
     "metadata": {},
     "output_type": "execute_result"
    }
   ],
   "source": [
    "# support vector classifier\n",
    "from sklearn.svm import SVC\n",
    "model = SVC()\n",
    "model.fit(X_train, y_train)"
   ]
  },
  {
   "cell_type": "code",
   "execution_count": 14,
   "id": "d1b7d0ab",
   "metadata": {},
   "outputs": [],
   "source": [
    "predictions = model.predict(X_test)"
   ]
  },
  {
   "cell_type": "markdown",
   "id": "37e121ed",
   "metadata": {},
   "source": [
    "## Creating dataframe to compare actual outputs and predicted outputs"
   ]
  },
  {
   "cell_type": "code",
   "execution_count": 15,
   "id": "80f0244c",
   "metadata": {},
   "outputs": [
    {
     "data": {
      "text/html": [
       "<div>\n",
       "<style scoped>\n",
       "    .dataframe tbody tr th:only-of-type {\n",
       "        vertical-align: middle;\n",
       "    }\n",
       "\n",
       "    .dataframe tbody tr th {\n",
       "        vertical-align: top;\n",
       "    }\n",
       "\n",
       "    .dataframe thead th {\n",
       "        text-align: right;\n",
       "    }\n",
       "</style>\n",
       "<table border=\"1\" class=\"dataframe\">\n",
       "  <thead>\n",
       "    <tr style=\"text-align: right;\">\n",
       "      <th></th>\n",
       "      <th>Actual</th>\n",
       "      <th>Predicted</th>\n",
       "    </tr>\n",
       "  </thead>\n",
       "  <tbody>\n",
       "    <tr>\n",
       "      <th>107</th>\n",
       "      <td>1</td>\n",
       "      <td>1</td>\n",
       "    </tr>\n",
       "    <tr>\n",
       "      <th>437</th>\n",
       "      <td>1</td>\n",
       "      <td>1</td>\n",
       "    </tr>\n",
       "    <tr>\n",
       "      <th>195</th>\n",
       "      <td>1</td>\n",
       "      <td>1</td>\n",
       "    </tr>\n",
       "    <tr>\n",
       "      <th>141</th>\n",
       "      <td>0</td>\n",
       "      <td>0</td>\n",
       "    </tr>\n",
       "    <tr>\n",
       "      <th>319</th>\n",
       "      <td>1</td>\n",
       "      <td>1</td>\n",
       "    </tr>\n",
       "    <tr>\n",
       "      <th>...</th>\n",
       "      <td>...</td>\n",
       "      <td>...</td>\n",
       "    </tr>\n",
       "    <tr>\n",
       "      <th>420</th>\n",
       "      <td>1</td>\n",
       "      <td>1</td>\n",
       "    </tr>\n",
       "    <tr>\n",
       "      <th>279</th>\n",
       "      <td>1</td>\n",
       "      <td>1</td>\n",
       "    </tr>\n",
       "    <tr>\n",
       "      <th>390</th>\n",
       "      <td>1</td>\n",
       "      <td>1</td>\n",
       "    </tr>\n",
       "    <tr>\n",
       "      <th>91</th>\n",
       "      <td>0</td>\n",
       "      <td>1</td>\n",
       "    </tr>\n",
       "    <tr>\n",
       "      <th>297</th>\n",
       "      <td>0</td>\n",
       "      <td>1</td>\n",
       "    </tr>\n",
       "  </tbody>\n",
       "</table>\n",
       "<p>171 rows × 2 columns</p>\n",
       "</div>"
      ],
      "text/plain": [
       "     Actual  Predicted\n",
       "107       1          1\n",
       "437       1          1\n",
       "195       1          1\n",
       "141       0          0\n",
       "319       1          1\n",
       "..      ...        ...\n",
       "420       1          1\n",
       "279       1          1\n",
       "390       1          1\n",
       "91        0          1\n",
       "297       0          1\n",
       "\n",
       "[171 rows x 2 columns]"
      ]
     },
     "execution_count": 15,
     "metadata": {},
     "output_type": "execute_result"
    }
   ],
   "source": [
    "compare = pd.DataFrame({\"Actual\": y_test, \"Predicted\": predictions})\n",
    "compare"
   ]
  },
  {
   "cell_type": "code",
   "execution_count": 16,
   "id": "dadbcdbb",
   "metadata": {},
   "outputs": [
    {
     "name": "stdout",
     "output_type": "stream",
     "text": [
      "[[ 56  10]\n",
      " [  3 102]]\n"
     ]
    }
   ],
   "source": [
    "# model evaluation\n",
    "from sklearn.metrics import classification_report, confusion_matrix\n",
    "print(confusion_matrix(y_test, predictions))"
   ]
  },
  {
   "cell_type": "code",
   "execution_count": 17,
   "id": "fac00532",
   "metadata": {},
   "outputs": [
    {
     "name": "stdout",
     "output_type": "stream",
     "text": [
      "              precision    recall  f1-score   support\n",
      "\n",
      "           0       0.95      0.85      0.90        66\n",
      "           1       0.91      0.97      0.94       105\n",
      "\n",
      "    accuracy                           0.92       171\n",
      "   macro avg       0.93      0.91      0.92       171\n",
      "weighted avg       0.93      0.92      0.92       171\n",
      "\n"
     ]
    }
   ],
   "source": [
    "print(classification_report(y_test, predictions))"
   ]
  },
  {
   "cell_type": "markdown",
   "id": "3d67a411",
   "metadata": {},
   "source": [
    "## Hyper Parameter tuning using GridSearch"
   ]
  },
  {
   "cell_type": "code",
   "execution_count": 18,
   "id": "7f339d34",
   "metadata": {},
   "outputs": [],
   "source": [
    "from sklearn.model_selection import GridSearchCV\n",
    "# dictionary containing hyperparameters to be tuned and theirvalues to be tested\n",
    "grid_parameters = {'C': [0.001, 0.1, 1, 10, 100, 1000], 'gamma': [0.0001, 0.001, 0.01, 0.1, 1, 10, 100]}\n"
   ]
  },
  {
   "cell_type": "code",
   "execution_count": 20,
   "id": "c08eaf34",
   "metadata": {},
   "outputs": [],
   "source": [
    "# SVC() is estimator\n",
    "# grid_parameters from above cell\n",
    "# verbose set to greater than 1 to get the output messages, when the model is being tuned\n",
    "grid = GridSearchCV(SVC(), grid_parameters, verbose = 3)"
   ]
  },
  {
   "cell_type": "code",
   "execution_count": 21,
   "id": "ce60df37",
   "metadata": {},
   "outputs": [
    {
     "name": "stdout",
     "output_type": "stream",
     "text": [
      "Fitting 5 folds for each of 42 candidates, totalling 210 fits\n",
      "[CV 1/5] END ..........................C=0.001, gamma=0.0001; total time=   0.0s\n",
      "[CV 2/5] END ..........................C=0.001, gamma=0.0001; total time=   0.0s\n",
      "[CV 3/5] END ..........................C=0.001, gamma=0.0001; total time=   0.0s\n",
      "[CV 4/5] END ..........................C=0.001, gamma=0.0001; total time=   0.0s\n",
      "[CV 5/5] END ..........................C=0.001, gamma=0.0001; total time=   0.0s\n",
      "[CV 1/5] END ...........................C=0.001, gamma=0.001; total time=   0.0s\n",
      "[CV 2/5] END ...........................C=0.001, gamma=0.001; total time=   0.0s\n",
      "[CV 3/5] END ...........................C=0.001, gamma=0.001; total time=   0.0s\n",
      "[CV 4/5] END ...........................C=0.001, gamma=0.001; total time=   0.0s\n",
      "[CV 5/5] END ...........................C=0.001, gamma=0.001; total time=   0.0s\n",
      "[CV 1/5] END ............................C=0.001, gamma=0.01; total time=   0.0s\n",
      "[CV 2/5] END ............................C=0.001, gamma=0.01; total time=   0.0s\n",
      "[CV 3/5] END ............................C=0.001, gamma=0.01; total time=   0.0s\n",
      "[CV 4/5] END ............................C=0.001, gamma=0.01; total time=   0.0s\n",
      "[CV 5/5] END ............................C=0.001, gamma=0.01; total time=   0.0s\n",
      "[CV 1/5] END .............................C=0.001, gamma=0.1; total time=   0.0s\n",
      "[CV 2/5] END .............................C=0.001, gamma=0.1; total time=   0.0s\n",
      "[CV 3/5] END .............................C=0.001, gamma=0.1; total time=   0.0s\n",
      "[CV 4/5] END .............................C=0.001, gamma=0.1; total time=   0.0s\n",
      "[CV 5/5] END .............................C=0.001, gamma=0.1; total time=   0.0s\n",
      "[CV 1/5] END ...............................C=0.001, gamma=1; total time=   0.0s\n",
      "[CV 2/5] END ...............................C=0.001, gamma=1; total time=   0.0s\n",
      "[CV 3/5] END ...............................C=0.001, gamma=1; total time=   0.0s\n",
      "[CV 4/5] END ...............................C=0.001, gamma=1; total time=   0.0s\n",
      "[CV 5/5] END ...............................C=0.001, gamma=1; total time=   0.0s\n",
      "[CV 1/5] END ..............................C=0.001, gamma=10; total time=   0.0s\n",
      "[CV 2/5] END ..............................C=0.001, gamma=10; total time=   0.0s\n",
      "[CV 3/5] END ..............................C=0.001, gamma=10; total time=   0.0s\n",
      "[CV 4/5] END ..............................C=0.001, gamma=10; total time=   0.0s\n",
      "[CV 5/5] END ..............................C=0.001, gamma=10; total time=   0.0s\n",
      "[CV 1/5] END .............................C=0.001, gamma=100; total time=   0.0s\n",
      "[CV 2/5] END .............................C=0.001, gamma=100; total time=   0.0s\n",
      "[CV 3/5] END .............................C=0.001, gamma=100; total time=   0.0s\n",
      "[CV 4/5] END .............................C=0.001, gamma=100; total time=   0.0s\n",
      "[CV 5/5] END .............................C=0.001, gamma=100; total time=   0.0s\n",
      "[CV 1/5] END ............................C=0.1, gamma=0.0001; total time=   0.0s\n",
      "[CV 2/5] END ............................C=0.1, gamma=0.0001; total time=   0.0s\n",
      "[CV 3/5] END ............................C=0.1, gamma=0.0001; total time=   0.0s\n",
      "[CV 4/5] END ............................C=0.1, gamma=0.0001; total time=   0.0s\n",
      "[CV 5/5] END ............................C=0.1, gamma=0.0001; total time=   0.0s\n",
      "[CV 1/5] END .............................C=0.1, gamma=0.001; total time=   0.0s\n",
      "[CV 2/5] END .............................C=0.1, gamma=0.001; total time=   0.0s\n",
      "[CV 3/5] END .............................C=0.1, gamma=0.001; total time=   0.0s\n",
      "[CV 4/5] END .............................C=0.1, gamma=0.001; total time=   0.0s\n",
      "[CV 5/5] END .............................C=0.1, gamma=0.001; total time=   0.0s\n",
      "[CV 1/5] END ..............................C=0.1, gamma=0.01; total time=   0.0s\n",
      "[CV 2/5] END ..............................C=0.1, gamma=0.01; total time=   0.0s\n",
      "[CV 3/5] END ..............................C=0.1, gamma=0.01; total time=   0.0s\n",
      "[CV 4/5] END ..............................C=0.1, gamma=0.01; total time=   0.0s\n",
      "[CV 5/5] END ..............................C=0.1, gamma=0.01; total time=   0.0s\n",
      "[CV 1/5] END ...............................C=0.1, gamma=0.1; total time=   0.0s\n",
      "[CV 2/5] END ...............................C=0.1, gamma=0.1; total time=   0.0s\n",
      "[CV 3/5] END ...............................C=0.1, gamma=0.1; total time=   0.0s\n",
      "[CV 4/5] END ...............................C=0.1, gamma=0.1; total time=   0.0s\n",
      "[CV 5/5] END ...............................C=0.1, gamma=0.1; total time=   0.0s\n",
      "[CV 1/5] END .................................C=0.1, gamma=1; total time=   0.0s\n",
      "[CV 2/5] END .................................C=0.1, gamma=1; total time=   0.0s\n",
      "[CV 3/5] END .................................C=0.1, gamma=1; total time=   0.0s\n",
      "[CV 4/5] END .................................C=0.1, gamma=1; total time=   0.0s\n",
      "[CV 5/5] END .................................C=0.1, gamma=1; total time=   0.0s\n",
      "[CV 1/5] END ................................C=0.1, gamma=10; total time=   0.0s\n",
      "[CV 2/5] END ................................C=0.1, gamma=10; total time=   0.0s\n",
      "[CV 3/5] END ................................C=0.1, gamma=10; total time=   0.0s\n",
      "[CV 4/5] END ................................C=0.1, gamma=10; total time=   0.0s\n",
      "[CV 5/5] END ................................C=0.1, gamma=10; total time=   0.0s\n",
      "[CV 1/5] END ...............................C=0.1, gamma=100; total time=   0.0s\n",
      "[CV 2/5] END ...............................C=0.1, gamma=100; total time=   0.0s\n",
      "[CV 3/5] END ...............................C=0.1, gamma=100; total time=   0.0s\n",
      "[CV 4/5] END ...............................C=0.1, gamma=100; total time=   0.0s\n",
      "[CV 5/5] END ...............................C=0.1, gamma=100; total time=   0.0s\n",
      "[CV 1/5] END ..............................C=1, gamma=0.0001; total time=   0.0s\n",
      "[CV 2/5] END ..............................C=1, gamma=0.0001; total time=   0.0s\n",
      "[CV 3/5] END ..............................C=1, gamma=0.0001; total time=   0.0s\n",
      "[CV 4/5] END ..............................C=1, gamma=0.0001; total time=   0.0s\n",
      "[CV 5/5] END ..............................C=1, gamma=0.0001; total time=   0.0s\n",
      "[CV 1/5] END ...............................C=1, gamma=0.001; total time=   0.0s\n",
      "[CV 2/5] END ...............................C=1, gamma=0.001; total time=   0.0s\n",
      "[CV 3/5] END ...............................C=1, gamma=0.001; total time=   0.0s\n",
      "[CV 4/5] END ...............................C=1, gamma=0.001; total time=   0.0s\n",
      "[CV 5/5] END ...............................C=1, gamma=0.001; total time=   0.0s\n",
      "[CV 1/5] END ................................C=1, gamma=0.01; total time=   0.0s\n",
      "[CV 2/5] END ................................C=1, gamma=0.01; total time=   0.0s\n",
      "[CV 3/5] END ................................C=1, gamma=0.01; total time=   0.0s\n",
      "[CV 4/5] END ................................C=1, gamma=0.01; total time=   0.0s\n",
      "[CV 5/5] END ................................C=1, gamma=0.01; total time=   0.0s\n",
      "[CV 1/5] END .................................C=1, gamma=0.1; total time=   0.0s\n",
      "[CV 2/5] END .................................C=1, gamma=0.1; total time=   0.0s\n",
      "[CV 3/5] END .................................C=1, gamma=0.1; total time=   0.0s\n",
      "[CV 4/5] END .................................C=1, gamma=0.1; total time=   0.0s\n",
      "[CV 5/5] END .................................C=1, gamma=0.1; total time=   0.0s\n",
      "[CV 1/5] END ...................................C=1, gamma=1; total time=   0.0s\n",
      "[CV 2/5] END ...................................C=1, gamma=1; total time=   0.0s\n",
      "[CV 3/5] END ...................................C=1, gamma=1; total time=   0.0s\n",
      "[CV 4/5] END ...................................C=1, gamma=1; total time=   0.0s\n",
      "[CV 5/5] END ...................................C=1, gamma=1; total time=   0.0s\n",
      "[CV 1/5] END ..................................C=1, gamma=10; total time=   0.0s\n",
      "[CV 2/5] END ..................................C=1, gamma=10; total time=   0.0s\n",
      "[CV 3/5] END ..................................C=1, gamma=10; total time=   0.0s\n",
      "[CV 4/5] END ..................................C=1, gamma=10; total time=   0.0s\n",
      "[CV 5/5] END ..................................C=1, gamma=10; total time=   0.0s\n",
      "[CV 1/5] END .................................C=1, gamma=100; total time=   0.0s\n",
      "[CV 2/5] END .................................C=1, gamma=100; total time=   0.0s\n",
      "[CV 3/5] END .................................C=1, gamma=100; total time=   0.0s\n",
      "[CV 4/5] END .................................C=1, gamma=100; total time=   0.0s\n"
     ]
    },
    {
     "name": "stdout",
     "output_type": "stream",
     "text": [
      "[CV 5/5] END .................................C=1, gamma=100; total time=   0.0s\n",
      "[CV 1/5] END .............................C=10, gamma=0.0001; total time=   0.0s\n",
      "[CV 2/5] END .............................C=10, gamma=0.0001; total time=   0.0s\n",
      "[CV 3/5] END .............................C=10, gamma=0.0001; total time=   0.0s\n",
      "[CV 4/5] END .............................C=10, gamma=0.0001; total time=   0.0s\n",
      "[CV 5/5] END .............................C=10, gamma=0.0001; total time=   0.0s\n",
      "[CV 1/5] END ..............................C=10, gamma=0.001; total time=   0.0s\n",
      "[CV 2/5] END ..............................C=10, gamma=0.001; total time=   0.0s\n",
      "[CV 3/5] END ..............................C=10, gamma=0.001; total time=   0.0s\n",
      "[CV 4/5] END ..............................C=10, gamma=0.001; total time=   0.0s\n",
      "[CV 5/5] END ..............................C=10, gamma=0.001; total time=   0.0s\n",
      "[CV 1/5] END ...............................C=10, gamma=0.01; total time=   0.0s\n",
      "[CV 2/5] END ...............................C=10, gamma=0.01; total time=   0.0s\n",
      "[CV 3/5] END ...............................C=10, gamma=0.01; total time=   0.0s\n",
      "[CV 4/5] END ...............................C=10, gamma=0.01; total time=   0.0s\n",
      "[CV 5/5] END ...............................C=10, gamma=0.01; total time=   0.0s\n",
      "[CV 1/5] END ................................C=10, gamma=0.1; total time=   0.0s\n",
      "[CV 2/5] END ................................C=10, gamma=0.1; total time=   0.0s\n",
      "[CV 3/5] END ................................C=10, gamma=0.1; total time=   0.0s\n",
      "[CV 4/5] END ................................C=10, gamma=0.1; total time=   0.0s\n",
      "[CV 5/5] END ................................C=10, gamma=0.1; total time=   0.0s\n",
      "[CV 1/5] END ..................................C=10, gamma=1; total time=   0.0s\n",
      "[CV 2/5] END ..................................C=10, gamma=1; total time=   0.0s\n",
      "[CV 3/5] END ..................................C=10, gamma=1; total time=   0.0s\n",
      "[CV 4/5] END ..................................C=10, gamma=1; total time=   0.0s\n",
      "[CV 5/5] END ..................................C=10, gamma=1; total time=   0.0s\n",
      "[CV 1/5] END .................................C=10, gamma=10; total time=   0.0s\n",
      "[CV 2/5] END .................................C=10, gamma=10; total time=   0.0s\n",
      "[CV 3/5] END .................................C=10, gamma=10; total time=   0.0s\n",
      "[CV 4/5] END .................................C=10, gamma=10; total time=   0.0s\n",
      "[CV 5/5] END .................................C=10, gamma=10; total time=   0.0s\n",
      "[CV 1/5] END ................................C=10, gamma=100; total time=   0.0s\n",
      "[CV 2/5] END ................................C=10, gamma=100; total time=   0.0s\n",
      "[CV 3/5] END ................................C=10, gamma=100; total time=   0.0s\n",
      "[CV 4/5] END ................................C=10, gamma=100; total time=   0.0s\n",
      "[CV 5/5] END ................................C=10, gamma=100; total time=   0.0s\n",
      "[CV 1/5] END ............................C=100, gamma=0.0001; total time=   0.0s\n",
      "[CV 2/5] END ............................C=100, gamma=0.0001; total time=   0.0s\n",
      "[CV 3/5] END ............................C=100, gamma=0.0001; total time=   0.0s\n",
      "[CV 4/5] END ............................C=100, gamma=0.0001; total time=   0.0s\n",
      "[CV 5/5] END ............................C=100, gamma=0.0001; total time=   0.0s\n",
      "[CV 1/5] END .............................C=100, gamma=0.001; total time=   0.0s\n",
      "[CV 2/5] END .............................C=100, gamma=0.001; total time=   0.0s\n",
      "[CV 3/5] END .............................C=100, gamma=0.001; total time=   0.0s\n",
      "[CV 4/5] END .............................C=100, gamma=0.001; total time=   0.0s\n",
      "[CV 5/5] END .............................C=100, gamma=0.001; total time=   0.0s\n",
      "[CV 1/5] END ..............................C=100, gamma=0.01; total time=   0.0s\n",
      "[CV 2/5] END ..............................C=100, gamma=0.01; total time=   0.0s\n",
      "[CV 3/5] END ..............................C=100, gamma=0.01; total time=   0.0s\n",
      "[CV 4/5] END ..............................C=100, gamma=0.01; total time=   0.0s\n",
      "[CV 5/5] END ..............................C=100, gamma=0.01; total time=   0.0s\n",
      "[CV 1/5] END ...............................C=100, gamma=0.1; total time=   0.0s\n",
      "[CV 2/5] END ...............................C=100, gamma=0.1; total time=   0.0s\n",
      "[CV 3/5] END ...............................C=100, gamma=0.1; total time=   0.0s\n",
      "[CV 4/5] END ...............................C=100, gamma=0.1; total time=   0.0s\n",
      "[CV 5/5] END ...............................C=100, gamma=0.1; total time=   0.0s\n",
      "[CV 1/5] END .................................C=100, gamma=1; total time=   0.0s\n",
      "[CV 2/5] END .................................C=100, gamma=1; total time=   0.0s\n",
      "[CV 3/5] END .................................C=100, gamma=1; total time=   0.0s\n",
      "[CV 4/5] END .................................C=100, gamma=1; total time=   0.0s\n",
      "[CV 5/5] END .................................C=100, gamma=1; total time=   0.0s\n",
      "[CV 1/5] END ................................C=100, gamma=10; total time=   0.0s\n",
      "[CV 2/5] END ................................C=100, gamma=10; total time=   0.0s\n",
      "[CV 3/5] END ................................C=100, gamma=10; total time=   0.0s\n",
      "[CV 4/5] END ................................C=100, gamma=10; total time=   0.0s\n",
      "[CV 5/5] END ................................C=100, gamma=10; total time=   0.0s\n",
      "[CV 1/5] END ...............................C=100, gamma=100; total time=   0.0s\n",
      "[CV 2/5] END ...............................C=100, gamma=100; total time=   0.0s\n",
      "[CV 3/5] END ...............................C=100, gamma=100; total time=   0.0s\n",
      "[CV 4/5] END ...............................C=100, gamma=100; total time=   0.0s\n",
      "[CV 5/5] END ...............................C=100, gamma=100; total time=   0.0s\n",
      "[CV 1/5] END ...........................C=1000, gamma=0.0001; total time=   0.0s\n",
      "[CV 2/5] END ...........................C=1000, gamma=0.0001; total time=   0.0s\n",
      "[CV 3/5] END ...........................C=1000, gamma=0.0001; total time=   0.0s\n",
      "[CV 4/5] END ...........................C=1000, gamma=0.0001; total time=   0.0s\n",
      "[CV 5/5] END ...........................C=1000, gamma=0.0001; total time=   0.0s\n",
      "[CV 1/5] END ............................C=1000, gamma=0.001; total time=   0.0s\n",
      "[CV 2/5] END ............................C=1000, gamma=0.001; total time=   0.0s\n",
      "[CV 3/5] END ............................C=1000, gamma=0.001; total time=   0.0s\n",
      "[CV 4/5] END ............................C=1000, gamma=0.001; total time=   0.0s\n",
      "[CV 5/5] END ............................C=1000, gamma=0.001; total time=   0.0s\n",
      "[CV 1/5] END .............................C=1000, gamma=0.01; total time=   0.0s\n",
      "[CV 2/5] END .............................C=1000, gamma=0.01; total time=   0.0s\n",
      "[CV 3/5] END .............................C=1000, gamma=0.01; total time=   0.0s\n",
      "[CV 4/5] END .............................C=1000, gamma=0.01; total time=   0.0s\n",
      "[CV 5/5] END .............................C=1000, gamma=0.01; total time=   0.0s\n",
      "[CV 1/5] END ..............................C=1000, gamma=0.1; total time=   0.0s\n",
      "[CV 2/5] END ..............................C=1000, gamma=0.1; total time=   0.0s\n",
      "[CV 3/5] END ..............................C=1000, gamma=0.1; total time=   0.0s\n",
      "[CV 4/5] END ..............................C=1000, gamma=0.1; total time=   0.0s\n",
      "[CV 5/5] END ..............................C=1000, gamma=0.1; total time=   0.0s\n",
      "[CV 1/5] END ................................C=1000, gamma=1; total time=   0.0s\n",
      "[CV 2/5] END ................................C=1000, gamma=1; total time=   0.0s\n",
      "[CV 3/5] END ................................C=1000, gamma=1; total time=   0.0s\n",
      "[CV 4/5] END ................................C=1000, gamma=1; total time=   0.0s\n",
      "[CV 5/5] END ................................C=1000, gamma=1; total time=   0.0s\n",
      "[CV 1/5] END ...............................C=1000, gamma=10; total time=   0.0s\n",
      "[CV 2/5] END ...............................C=1000, gamma=10; total time=   0.0s\n",
      "[CV 3/5] END ...............................C=1000, gamma=10; total time=   0.0s\n",
      "[CV 4/5] END ...............................C=1000, gamma=10; total time=   0.0s\n",
      "[CV 5/5] END ...............................C=1000, gamma=10; total time=   0.0s\n",
      "[CV 1/5] END ..............................C=1000, gamma=100; total time=   0.0s\n",
      "[CV 2/5] END ..............................C=1000, gamma=100; total time=   0.0s\n",
      "[CV 3/5] END ..............................C=1000, gamma=100; total time=   0.0s\n"
     ]
    },
    {
     "name": "stdout",
     "output_type": "stream",
     "text": [
      "[CV 4/5] END ..............................C=1000, gamma=100; total time=   0.0s\n",
      "[CV 5/5] END ..............................C=1000, gamma=100; total time=   0.0s\n"
     ]
    },
    {
     "data": {
      "text/plain": [
       "GridSearchCV(estimator=SVC(),\n",
       "             param_grid={'C': [0.001, 0.1, 1, 10, 100, 1000],\n",
       "                         'gamma': [0.0001, 0.001, 0.01, 0.1, 1, 10, 100]},\n",
       "             verbose=3)"
      ]
     },
     "execution_count": 21,
     "metadata": {},
     "output_type": "execute_result"
    }
   ],
   "source": [
    "grid.fit(X_train, y_train)"
   ]
  },
  {
   "cell_type": "code",
   "execution_count": 22,
   "id": "ecf9a004",
   "metadata": {},
   "outputs": [],
   "source": [
    "# prediction usingt tuned model\n",
    "grid_predictions = grid.predict(X_test)"
   ]
  },
  {
   "cell_type": "code",
   "execution_count": 23,
   "id": "81a1deca",
   "metadata": {},
   "outputs": [
    {
     "name": "stdout",
     "output_type": "stream",
     "text": [
      "[[ 59   7]\n",
      " [  4 101]]\n"
     ]
    }
   ],
   "source": [
    "print(confusion_matrix(y_test, grid_predictions))"
   ]
  },
  {
   "cell_type": "code",
   "execution_count": 24,
   "id": "255d802b",
   "metadata": {},
   "outputs": [
    {
     "name": "stdout",
     "output_type": "stream",
     "text": [
      "              precision    recall  f1-score   support\n",
      "\n",
      "           0       0.94      0.89      0.91        66\n",
      "           1       0.94      0.96      0.95       105\n",
      "\n",
      "    accuracy                           0.94       171\n",
      "   macro avg       0.94      0.93      0.93       171\n",
      "weighted avg       0.94      0.94      0.94       171\n",
      "\n"
     ]
    }
   ],
   "source": [
    "print(classification_report(y_test, grid_predictions))"
   ]
  },
  {
   "cell_type": "code",
   "execution_count": null,
   "id": "fa92bdac",
   "metadata": {},
   "outputs": [],
   "source": [
    " "
   ]
  }
 ],
 "metadata": {
  "kernelspec": {
   "display_name": "Python 3",
   "language": "python",
   "name": "python3"
  },
  "language_info": {
   "codemirror_mode": {
    "name": "ipython",
    "version": 3
   },
   "file_extension": ".py",
   "mimetype": "text/x-python",
   "name": "python",
   "nbconvert_exporter": "python",
   "pygments_lexer": "ipython3",
   "version": "3.8.8"
  }
 },
 "nbformat": 4,
 "nbformat_minor": 5
}
