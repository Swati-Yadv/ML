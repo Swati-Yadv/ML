{
 "cells": [
  {
   "cell_type": "markdown",
   "id": "d9e5f4d0",
   "metadata": {},
   "source": [
    "# Map function"
   ]
  },
  {
   "cell_type": "code",
   "execution_count": 2,
   "id": "a4178a2f",
   "metadata": {},
   "outputs": [
    {
     "name": "stdout",
     "output_type": "stream",
     "text": [
      "[4, 16, 36, 64]\n"
     ]
    }
   ],
   "source": [
    "list1 = [2, 4, 6,8]\n",
    "def square(num):\n",
    "    return num* num\n",
    "\n",
    "newList = list(map(square, list1))\n",
    "print(newList)"
   ]
  },
  {
   "cell_type": "code",
   "execution_count": 3,
   "id": "4a609645",
   "metadata": {},
   "outputs": [
    {
     "name": "stdout",
     "output_type": "stream",
     "text": [
      "[8, 64, 216, 512]\n"
     ]
    }
   ],
   "source": [
    "newList = list(map(lambda x: x**3, list1))\n",
    "print(newList)"
   ]
  },
  {
   "cell_type": "markdown",
   "id": "e6c2dc51",
   "metadata": {},
   "source": [
    "## Filter function"
   ]
  },
  {
   "cell_type": "code",
   "execution_count": 5,
   "id": "50df897a",
   "metadata": {},
   "outputs": [
    {
     "name": "stdout",
     "output_type": "stream",
     "text": [
      "[2, 4, 8]\n"
     ]
    }
   ],
   "source": [
    "list2 = [1, 2, 4, 3,5, 8]\n",
    "newList1 = list(filter((lambda x:(x% 2) == 0), list2))\n",
    "print(newList1)"
   ]
  },
  {
   "cell_type": "code",
   "execution_count": null,
   "id": "9e3c1aa0",
   "metadata": {},
   "outputs": [],
   "source": []
  }
 ],
 "metadata": {
  "kernelspec": {
   "display_name": "Python 3",
   "language": "python",
   "name": "python3"
  },
  "language_info": {
   "codemirror_mode": {
    "name": "ipython",
    "version": 3
   },
   "file_extension": ".py",
   "mimetype": "text/x-python",
   "name": "python",
   "nbconvert_exporter": "python",
   "pygments_lexer": "ipython3",
   "version": "3.8.8"
  }
 },
 "nbformat": 4,
 "nbformat_minor": 5
}
