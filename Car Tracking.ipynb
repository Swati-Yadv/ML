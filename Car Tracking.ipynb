{
 "cells": [
  {
   "cell_type": "code",
   "execution_count": 1,
   "id": "90d05596",
   "metadata": {},
   "outputs": [],
   "source": [
    "import cv2\n",
    "import numpy as np\n",
    "import time"
   ]
  },
  {
   "cell_type": "markdown",
   "id": "9ad49c0a",
   "metadata": {},
   "source": [
    "## Initialising Classifier"
   ]
  },
  {
   "cell_type": "code",
   "execution_count": 2,
   "id": "16deb1cc",
   "metadata": {},
   "outputs": [],
   "source": [
    "cars_detect = cv2.CascadeClassifier('haarcascade_car.xml')"
   ]
  },
  {
   "cell_type": "code",
   "execution_count": 5,
   "id": "ea244eb3",
   "metadata": {},
   "outputs": [],
   "source": [
    "capture = cv2.VideoCapture('CARS.mp4')\n",
    "while True:\n",
    "#     time.sleep(.5)\n",
    "      ret, frame = capture.read()\n",
    "      frame = cv2.resize(frame, (640, 480))\n",
    "      gray = cv2.cvtColor(frame, cv2.COLOR_BGR2GRAY)\n",
    "      cars_detected = cars_detect.detectMultiScale(gray, 1.1, 2)\n",
    "      for(x, y,w, h) in cars_detected:\n",
    "        cv2.rectangle(frame, (x,y), (x+w, y+h), (0,255, 0), 2)\n",
    "        cv2.putText(frame, \"Car\", (int(x), int(y-10)), cv2.FONT_HERSHEY_SIMPLEX, 1,(0,0,255), 2, cv2.LINE_AA)\n",
    "        cv2.imshow('Cars', frame)\n",
    "      if(cv2.waitKey(1) & 0xFF == ord(\"x\")):\n",
    "        break\n",
    "capture.release()\n",
    "cv2.destroyAllWindows()"
   ]
  },
  {
   "cell_type": "code",
   "execution_count": null,
   "id": "c2862b21",
   "metadata": {},
   "outputs": [],
   "source": []
  }
 ],
 "metadata": {
  "kernelspec": {
   "display_name": "Python 3",
   "language": "python",
   "name": "python3"
  },
  "language_info": {
   "codemirror_mode": {
    "name": "ipython",
    "version": 3
   },
   "file_extension": ".py",
   "mimetype": "text/x-python",
   "name": "python",
   "nbconvert_exporter": "python",
   "pygments_lexer": "ipython3",
   "version": "3.8.8"
  }
 },
 "nbformat": 4,
 "nbformat_minor": 5
}
