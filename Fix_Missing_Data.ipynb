{
 "cells": [
  {
   "cell_type": "code",
   "execution_count": 1,
   "id": "9d75a918",
   "metadata": {},
   "outputs": [],
   "source": [
    "import numpy as np\n",
    "import pandas as pd"
   ]
  },
  {
   "cell_type": "code",
   "execution_count": 2,
   "id": "c34bb875",
   "metadata": {},
   "outputs": [],
   "source": [
    "data = np.random.rand(25).reshape(5,5)"
   ]
  },
  {
   "cell_type": "code",
   "execution_count": 3,
   "id": "e45f3b7d",
   "metadata": {},
   "outputs": [
    {
     "name": "stdout",
     "output_type": "stream",
     "text": [
      "[[0.3400888  0.50109415 0.03190046 0.83347876 0.85108022]\n",
      " [0.55681226 0.03008579 0.24955729 0.40910055 0.84505575]\n",
      " [0.13000085 0.79090847 0.79002706 0.67832891 0.07483686]\n",
      " [0.5283043  0.60667756 0.16090671 0.25413648 0.66444616]\n",
      " [0.63875442 0.13732836 0.07081485 0.39167559 0.9066543 ]]\n"
     ]
    }
   ],
   "source": [
    "print(data)"
   ]
  },
  {
   "cell_type": "code",
   "execution_count": 7,
   "id": "1a4ec393",
   "metadata": {},
   "outputs": [],
   "source": [
    "frame = pd.DataFrame(data, index = \"R1 R2 R3 R4 R5\".split(),columns = \"C1 C2 C3 C4 C5\".split())"
   ]
  },
  {
   "cell_type": "code",
   "execution_count": 8,
   "id": "57a10524",
   "metadata": {},
   "outputs": [
    {
     "name": "stdout",
     "output_type": "stream",
     "text": [
      "          C1        C2        C3        C4        C5\n",
      "R1  0.340089  0.501094  0.031900  0.833479  0.851080\n",
      "R2  0.556812  0.030086  0.249557  0.409101  0.845056\n",
      "R3  0.130001  0.790908  0.790027  0.678329  0.074837\n",
      "R4  0.528304  0.606678  0.160907  0.254136  0.664446\n",
      "R5  0.638754  0.137328  0.070815  0.391676  0.906654\n"
     ]
    }
   ],
   "source": [
    "print(frame)"
   ]
  },
  {
   "cell_type": "code",
   "execution_count": 9,
   "id": "5d5c3585",
   "metadata": {},
   "outputs": [],
   "source": [
    "frame1 = frame[frame> 0.2]"
   ]
  },
  {
   "cell_type": "code",
   "execution_count": 10,
   "id": "5cfb7036",
   "metadata": {},
   "outputs": [
    {
     "name": "stdout",
     "output_type": "stream",
     "text": [
      "          C1        C2        C3        C4        C5\n",
      "R1  0.340089  0.501094       NaN  0.833479  0.851080\n",
      "R2  0.556812       NaN  0.249557  0.409101  0.845056\n",
      "R3       NaN  0.790908  0.790027  0.678329       NaN\n",
      "R4  0.528304  0.606678       NaN  0.254136  0.664446\n",
      "R5  0.638754       NaN       NaN  0.391676  0.906654\n"
     ]
    }
   ],
   "source": [
    "print(frame1)"
   ]
  },
  {
   "cell_type": "markdown",
   "id": "c83c0f3a",
   "metadata": {},
   "source": [
    "## Drop missing data "
   ]
  },
  {
   "cell_type": "code",
   "execution_count": 13,
   "id": "32eecc90",
   "metadata": {},
   "outputs": [
    {
     "data": {
      "text/html": [
       "<div>\n",
       "<style scoped>\n",
       "    .dataframe tbody tr th:only-of-type {\n",
       "        vertical-align: middle;\n",
       "    }\n",
       "\n",
       "    .dataframe tbody tr th {\n",
       "        vertical-align: top;\n",
       "    }\n",
       "\n",
       "    .dataframe thead th {\n",
       "        text-align: right;\n",
       "    }\n",
       "</style>\n",
       "<table border=\"1\" class=\"dataframe\">\n",
       "  <thead>\n",
       "    <tr style=\"text-align: right;\">\n",
       "      <th></th>\n",
       "      <th>C1</th>\n",
       "      <th>C2</th>\n",
       "      <th>C3</th>\n",
       "      <th>C4</th>\n",
       "      <th>C5</th>\n",
       "    </tr>\n",
       "  </thead>\n",
       "  <tbody>\n",
       "  </tbody>\n",
       "</table>\n",
       "</div>"
      ],
      "text/plain": [
       "Empty DataFrame\n",
       "Columns: [C1, C2, C3, C4, C5]\n",
       "Index: []"
      ]
     },
     "execution_count": 13,
     "metadata": {},
     "output_type": "execute_result"
    }
   ],
   "source": [
    "frame1.dropna()  #drops all rows containing Nans"
   ]
  },
  {
   "cell_type": "code",
   "execution_count": 14,
   "id": "569ac3a0",
   "metadata": {},
   "outputs": [
    {
     "data": {
      "text/html": [
       "<div>\n",
       "<style scoped>\n",
       "    .dataframe tbody tr th:only-of-type {\n",
       "        vertical-align: middle;\n",
       "    }\n",
       "\n",
       "    .dataframe tbody tr th {\n",
       "        vertical-align: top;\n",
       "    }\n",
       "\n",
       "    .dataframe thead th {\n",
       "        text-align: right;\n",
       "    }\n",
       "</style>\n",
       "<table border=\"1\" class=\"dataframe\">\n",
       "  <thead>\n",
       "    <tr style=\"text-align: right;\">\n",
       "      <th></th>\n",
       "      <th>C4</th>\n",
       "    </tr>\n",
       "  </thead>\n",
       "  <tbody>\n",
       "    <tr>\n",
       "      <th>R1</th>\n",
       "      <td>0.833479</td>\n",
       "    </tr>\n",
       "    <tr>\n",
       "      <th>R2</th>\n",
       "      <td>0.409101</td>\n",
       "    </tr>\n",
       "    <tr>\n",
       "      <th>R3</th>\n",
       "      <td>0.678329</td>\n",
       "    </tr>\n",
       "    <tr>\n",
       "      <th>R4</th>\n",
       "      <td>0.254136</td>\n",
       "    </tr>\n",
       "    <tr>\n",
       "      <th>R5</th>\n",
       "      <td>0.391676</td>\n",
       "    </tr>\n",
       "  </tbody>\n",
       "</table>\n",
       "</div>"
      ],
      "text/plain": [
       "          C4\n",
       "R1  0.833479\n",
       "R2  0.409101\n",
       "R3  0.678329\n",
       "R4  0.254136\n",
       "R5  0.391676"
      ]
     },
     "execution_count": 14,
     "metadata": {},
     "output_type": "execute_result"
    }
   ],
   "source": [
    "frame1.dropna(axis = 1)"
   ]
  },
  {
   "cell_type": "code",
   "execution_count": 18,
   "id": "e5fdc516",
   "metadata": {},
   "outputs": [
    {
     "data": {
      "text/html": [
       "<div>\n",
       "<style scoped>\n",
       "    .dataframe tbody tr th:only-of-type {\n",
       "        vertical-align: middle;\n",
       "    }\n",
       "\n",
       "    .dataframe tbody tr th {\n",
       "        vertical-align: top;\n",
       "    }\n",
       "\n",
       "    .dataframe thead th {\n",
       "        text-align: right;\n",
       "    }\n",
       "</style>\n",
       "<table border=\"1\" class=\"dataframe\">\n",
       "  <thead>\n",
       "    <tr style=\"text-align: right;\">\n",
       "      <th></th>\n",
       "      <th>C1</th>\n",
       "      <th>C2</th>\n",
       "      <th>C3</th>\n",
       "      <th>C4</th>\n",
       "      <th>C5</th>\n",
       "    </tr>\n",
       "  </thead>\n",
       "  <tbody>\n",
       "    <tr>\n",
       "      <th>R1</th>\n",
       "      <td>0.340089</td>\n",
       "      <td>0.501094</td>\n",
       "      <td>NaN</td>\n",
       "      <td>0.833479</td>\n",
       "      <td>0.851080</td>\n",
       "    </tr>\n",
       "    <tr>\n",
       "      <th>R2</th>\n",
       "      <td>0.556812</td>\n",
       "      <td>NaN</td>\n",
       "      <td>0.249557</td>\n",
       "      <td>0.409101</td>\n",
       "      <td>0.845056</td>\n",
       "    </tr>\n",
       "    <tr>\n",
       "      <th>R4</th>\n",
       "      <td>0.528304</td>\n",
       "      <td>0.606678</td>\n",
       "      <td>NaN</td>\n",
       "      <td>0.254136</td>\n",
       "      <td>0.664446</td>\n",
       "    </tr>\n",
       "  </tbody>\n",
       "</table>\n",
       "</div>"
      ],
      "text/plain": [
       "          C1        C2        C3        C4        C5\n",
       "R1  0.340089  0.501094       NaN  0.833479  0.851080\n",
       "R2  0.556812       NaN  0.249557  0.409101  0.845056\n",
       "R4  0.528304  0.606678       NaN  0.254136  0.664446"
      ]
     },
     "execution_count": 18,
     "metadata": {},
     "output_type": "execute_result"
    }
   ],
   "source": [
    "frame1.dropna(thresh = 4)  #dropping rows which have less than 4 valid data points"
   ]
  },
  {
   "cell_type": "code",
   "execution_count": 19,
   "id": "f0ef95e1",
   "metadata": {},
   "outputs": [
    {
     "data": {
      "text/html": [
       "<div>\n",
       "<style scoped>\n",
       "    .dataframe tbody tr th:only-of-type {\n",
       "        vertical-align: middle;\n",
       "    }\n",
       "\n",
       "    .dataframe tbody tr th {\n",
       "        vertical-align: top;\n",
       "    }\n",
       "\n",
       "    .dataframe thead th {\n",
       "        text-align: right;\n",
       "    }\n",
       "</style>\n",
       "<table border=\"1\" class=\"dataframe\">\n",
       "  <thead>\n",
       "    <tr style=\"text-align: right;\">\n",
       "      <th></th>\n",
       "      <th>C1</th>\n",
       "      <th>C4</th>\n",
       "      <th>C5</th>\n",
       "    </tr>\n",
       "  </thead>\n",
       "  <tbody>\n",
       "    <tr>\n",
       "      <th>R1</th>\n",
       "      <td>0.340089</td>\n",
       "      <td>0.833479</td>\n",
       "      <td>0.851080</td>\n",
       "    </tr>\n",
       "    <tr>\n",
       "      <th>R2</th>\n",
       "      <td>0.556812</td>\n",
       "      <td>0.409101</td>\n",
       "      <td>0.845056</td>\n",
       "    </tr>\n",
       "    <tr>\n",
       "      <th>R3</th>\n",
       "      <td>NaN</td>\n",
       "      <td>0.678329</td>\n",
       "      <td>NaN</td>\n",
       "    </tr>\n",
       "    <tr>\n",
       "      <th>R4</th>\n",
       "      <td>0.528304</td>\n",
       "      <td>0.254136</td>\n",
       "      <td>0.664446</td>\n",
       "    </tr>\n",
       "    <tr>\n",
       "      <th>R5</th>\n",
       "      <td>0.638754</td>\n",
       "      <td>0.391676</td>\n",
       "      <td>0.906654</td>\n",
       "    </tr>\n",
       "  </tbody>\n",
       "</table>\n",
       "</div>"
      ],
      "text/plain": [
       "          C1        C4        C5\n",
       "R1  0.340089  0.833479  0.851080\n",
       "R2  0.556812  0.409101  0.845056\n",
       "R3       NaN  0.678329       NaN\n",
       "R4  0.528304  0.254136  0.664446\n",
       "R5  0.638754  0.391676  0.906654"
      ]
     },
     "execution_count": 19,
     "metadata": {},
     "output_type": "execute_result"
    }
   ],
   "source": [
    "frame1.dropna(axis = 1,thresh = 4)  #dropping columns with less than 4 valid points"
   ]
  },
  {
   "cell_type": "markdown",
   "id": "784dd1a5",
   "metadata": {},
   "source": [
    "## Fill missing data"
   ]
  },
  {
   "cell_type": "code",
   "execution_count": 20,
   "id": "4a3725ac",
   "metadata": {},
   "outputs": [
    {
     "data": {
      "text/html": [
       "<div>\n",
       "<style scoped>\n",
       "    .dataframe tbody tr th:only-of-type {\n",
       "        vertical-align: middle;\n",
       "    }\n",
       "\n",
       "    .dataframe tbody tr th {\n",
       "        vertical-align: top;\n",
       "    }\n",
       "\n",
       "    .dataframe thead th {\n",
       "        text-align: right;\n",
       "    }\n",
       "</style>\n",
       "<table border=\"1\" class=\"dataframe\">\n",
       "  <thead>\n",
       "    <tr style=\"text-align: right;\">\n",
       "      <th></th>\n",
       "      <th>C1</th>\n",
       "      <th>C2</th>\n",
       "      <th>C3</th>\n",
       "      <th>C4</th>\n",
       "      <th>C5</th>\n",
       "    </tr>\n",
       "  </thead>\n",
       "  <tbody>\n",
       "    <tr>\n",
       "      <th>R1</th>\n",
       "      <td>0.340089</td>\n",
       "      <td>0.501094</td>\n",
       "      <td>99.000000</td>\n",
       "      <td>0.833479</td>\n",
       "      <td>0.851080</td>\n",
       "    </tr>\n",
       "    <tr>\n",
       "      <th>R2</th>\n",
       "      <td>0.556812</td>\n",
       "      <td>99.000000</td>\n",
       "      <td>0.249557</td>\n",
       "      <td>0.409101</td>\n",
       "      <td>0.845056</td>\n",
       "    </tr>\n",
       "    <tr>\n",
       "      <th>R3</th>\n",
       "      <td>99.000000</td>\n",
       "      <td>0.790908</td>\n",
       "      <td>0.790027</td>\n",
       "      <td>0.678329</td>\n",
       "      <td>99.000000</td>\n",
       "    </tr>\n",
       "    <tr>\n",
       "      <th>R4</th>\n",
       "      <td>0.528304</td>\n",
       "      <td>0.606678</td>\n",
       "      <td>99.000000</td>\n",
       "      <td>0.254136</td>\n",
       "      <td>0.664446</td>\n",
       "    </tr>\n",
       "    <tr>\n",
       "      <th>R5</th>\n",
       "      <td>0.638754</td>\n",
       "      <td>99.000000</td>\n",
       "      <td>99.000000</td>\n",
       "      <td>0.391676</td>\n",
       "      <td>0.906654</td>\n",
       "    </tr>\n",
       "  </tbody>\n",
       "</table>\n",
       "</div>"
      ],
      "text/plain": [
       "           C1         C2         C3        C4         C5\n",
       "R1   0.340089   0.501094  99.000000  0.833479   0.851080\n",
       "R2   0.556812  99.000000   0.249557  0.409101   0.845056\n",
       "R3  99.000000   0.790908   0.790027  0.678329  99.000000\n",
       "R4   0.528304   0.606678  99.000000  0.254136   0.664446\n",
       "R5   0.638754  99.000000  99.000000  0.391676   0.906654"
      ]
     },
     "execution_count": 20,
     "metadata": {},
     "output_type": "execute_result"
    }
   ],
   "source": [
    "frame1.fillna(value = 99)"
   ]
  },
  {
   "cell_type": "code",
   "execution_count": 22,
   "id": "4ea59045",
   "metadata": {},
   "outputs": [
    {
     "data": {
      "text/plain": [
       "C1     0.556812\n",
       "C2    45.000000\n",
       "C3     0.249557\n",
       "C4     0.409101\n",
       "C5     0.845056\n",
       "Name: R2, dtype: float64"
      ]
     },
     "execution_count": 22,
     "metadata": {},
     "output_type": "execute_result"
    }
   ],
   "source": [
    "frame1.loc[\"R2\"].fillna(value = 45)"
   ]
  },
  {
   "cell_type": "code",
   "execution_count": 23,
   "id": "d9ef7e68",
   "metadata": {},
   "outputs": [
    {
     "data": {
      "text/plain": [
       "R1    89.000000\n",
       "R2     0.249557\n",
       "R3     0.790027\n",
       "R4    89.000000\n",
       "R5    89.000000\n",
       "Name: C3, dtype: float64"
      ]
     },
     "execution_count": 23,
     "metadata": {},
     "output_type": "execute_result"
    }
   ],
   "source": [
    "frame1[\"C3\"].fillna(value = 89)"
   ]
  },
  {
   "cell_type": "code",
   "execution_count": null,
   "id": "40dc58eb",
   "metadata": {},
   "outputs": [],
   "source": [
    "frame1[\"C3\"] = [1,2,1,np.NaN, 2]\n",
    "frame1[\"C3\"].fillna(value = frame1[\"\".mean())"
   ]
  }
 ],
 "metadata": {
  "kernelspec": {
   "display_name": "Python 3",
   "language": "python",
   "name": "python3"
  },
  "language_info": {
   "codemirror_mode": {
    "name": "ipython",
    "version": 3
   },
   "file_extension": ".py",
   "mimetype": "text/x-python",
   "name": "python",
   "nbconvert_exporter": "python",
   "pygments_lexer": "ipython3",
   "version": "3.8.8"
  }
 },
 "nbformat": 4,
 "nbformat_minor": 5
}
