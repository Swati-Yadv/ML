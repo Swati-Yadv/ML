{
 "cells": [
  {
   "cell_type": "code",
   "execution_count": 1,
   "id": "23d5301a",
   "metadata": {},
   "outputs": [],
   "source": [
    "import numpy as np\n",
    "import cv2\n"
   ]
  },
  {
   "cell_type": "markdown",
   "id": "08d727c8",
   "metadata": {},
   "source": [
    " ## Blank  White frame"
   ]
  },
  {
   "cell_type": "code",
   "execution_count": 2,
   "id": "72ecf5fa",
   "metadata": {},
   "outputs": [
    {
     "name": "stdout",
     "output_type": "stream",
     "text": [
      "[[[1. 1. 1.]\n",
      "  [1. 1. 1.]\n",
      "  [1. 1. 1.]\n",
      "  ...\n",
      "  [1. 1. 1.]\n",
      "  [1. 1. 1.]\n",
      "  [1. 1. 1.]]\n",
      "\n",
      " [[1. 1. 1.]\n",
      "  [1. 1. 1.]\n",
      "  [1. 1. 1.]\n",
      "  ...\n",
      "  [1. 1. 1.]\n",
      "  [1. 1. 1.]\n",
      "  [1. 1. 1.]]\n",
      "\n",
      " [[1. 1. 1.]\n",
      "  [1. 1. 1.]\n",
      "  [1. 1. 1.]\n",
      "  ...\n",
      "  [1. 1. 1.]\n",
      "  [1. 1. 1.]\n",
      "  [1. 1. 1.]]\n",
      "\n",
      " ...\n",
      "\n",
      " [[1. 1. 1.]\n",
      "  [1. 1. 1.]\n",
      "  [1. 1. 1.]\n",
      "  ...\n",
      "  [1. 1. 1.]\n",
      "  [1. 1. 1.]\n",
      "  [1. 1. 1.]]\n",
      "\n",
      " [[1. 1. 1.]\n",
      "  [1. 1. 1.]\n",
      "  [1. 1. 1.]\n",
      "  ...\n",
      "  [1. 1. 1.]\n",
      "  [1. 1. 1.]\n",
      "  [1. 1. 1.]]\n",
      "\n",
      " [[1. 1. 1.]\n",
      "  [1. 1. 1.]\n",
      "  [1. 1. 1.]\n",
      "  ...\n",
      "  [1. 1. 1.]\n",
      "  [1. 1. 1.]\n",
      "  [1. 1. 1.]]]\n"
     ]
    }
   ],
   "source": [
    "img = np.ones((511, 511, 3))\n",
    "print(img)\n",
    "cv2.imshow('frame', img)\n",
    "cv2.waitKey(0)\n",
    "cv2.destroyAllWindows()"
   ]
  },
  {
   "cell_type": "code",
   "execution_count": 5,
   "id": "42af3191",
   "metadata": {},
   "outputs": [],
   "source": [
    "# Creating black lines\n",
    "#                  (coordinates), (B,G,R), Thickness  Each color can value between 0 and 255\n",
    "img = cv2.line(img,(0,0),(511,511),(0,0,0),5)\n",
    "img = cv2.line(img,(511,0),(0,511),(0,0,0),5)\n",
    "cv2.imshow('frame',img)\n",
    "cv2.waitKey(0)\n",
    "cv2.destroyAllWindows()\n"
   ]
  },
  {
   "cell_type": "markdown",
   "id": "718af685",
   "metadata": {},
   "source": [
    "## Blank Black Frame"
   ]
  },
  {
   "cell_type": "code",
   "execution_count": 6,
   "id": "96116159",
   "metadata": {},
   "outputs": [
    {
     "name": "stdout",
     "output_type": "stream",
     "text": [
      "[[[0. 0. 0.]\n",
      "  [0. 0. 0.]\n",
      "  [0. 0. 0.]\n",
      "  ...\n",
      "  [0. 0. 0.]\n",
      "  [0. 0. 0.]\n",
      "  [0. 0. 0.]]\n",
      "\n",
      " [[0. 0. 0.]\n",
      "  [0. 0. 0.]\n",
      "  [0. 0. 0.]\n",
      "  ...\n",
      "  [0. 0. 0.]\n",
      "  [0. 0. 0.]\n",
      "  [0. 0. 0.]]\n",
      "\n",
      " [[0. 0. 0.]\n",
      "  [0. 0. 0.]\n",
      "  [0. 0. 0.]\n",
      "  ...\n",
      "  [0. 0. 0.]\n",
      "  [0. 0. 0.]\n",
      "  [0. 0. 0.]]\n",
      "\n",
      " ...\n",
      "\n",
      " [[0. 0. 0.]\n",
      "  [0. 0. 0.]\n",
      "  [0. 0. 0.]\n",
      "  ...\n",
      "  [0. 0. 0.]\n",
      "  [0. 0. 0.]\n",
      "  [0. 0. 0.]]\n",
      "\n",
      " [[0. 0. 0.]\n",
      "  [0. 0. 0.]\n",
      "  [0. 0. 0.]\n",
      "  ...\n",
      "  [0. 0. 0.]\n",
      "  [0. 0. 0.]\n",
      "  [0. 0. 0.]]\n",
      "\n",
      " [[0. 0. 0.]\n",
      "  [0. 0. 0.]\n",
      "  [0. 0. 0.]\n",
      "  ...\n",
      "  [0. 0. 0.]\n",
      "  [0. 0. 0.]\n",
      "  [0. 0. 0.]]]\n"
     ]
    }
   ],
   "source": [
    "img = np.zeros((511,511, 3))\n",
    "print(img)"
   ]
  },
  {
   "cell_type": "markdown",
   "id": "583cc4d1",
   "metadata": {},
   "source": [
    "## Creating Red lines"
   ]
  },
  {
   "cell_type": "code",
   "execution_count": 7,
   "id": "75986500",
   "metadata": {},
   "outputs": [],
   "source": [
    "img = cv2.line(img,(0,0),(511,511),(0,0,255),5)\n",
    "img = cv2.line(img,(511,0),(0,511),(0,0,255),5)\n",
    "cv2.imshow('frame',img)\n",
    "cv2.waitKey(0)\n",
    "cv2.destroyAllWindows()"
   ]
  },
  {
   "cell_type": "markdown",
   "id": "d110b8dd",
   "metadata": {},
   "source": [
    "## Creating Rectangle"
   ]
  },
  {
   "cell_type": "code",
   "execution_count": 8,
   "id": "9618b803",
   "metadata": {},
   "outputs": [],
   "source": [
    "img_path = \"C://Users//Swati//Python_Basics//sample_images//messi5.jpg\"\n",
    "img = cv2.imread(img_path,1)\n",
    "img = cv2.rectangle(img,(150,150),(350,256),(0,0,255),2)\n",
    "cv2.imshow('frame',img)\n",
    "cv2.waitKey(0)\n",
    "cv2.destroyAllWindows()\n",
    "\n",
    "# imread(path, flag)\n",
    "# path: A string representing the path of the image to be read.\n",
    "# flag: It specifies the way in which image should be read. It’s default value is cv2.IMREAD_COLOR\n"
   ]
  },
  {
   "cell_type": "code",
   "execution_count": 9,
   "id": "aff8f3b4",
   "metadata": {},
   "outputs": [],
   "source": [
    "#Creating Circle\n",
    "img = np.zeros((512, 512, 3))\n",
    "img_path = \"C://Users//Swati//Python_Basics//sample_images//messi5.jpg\"\n",
    "img = cv2.imread(img_path,1)\n",
    "#                     (center), radius, (B,G,R)\n",
    "img = cv2.circle(img,(245,100),50,(0,255,255),3)\n",
    "cv2.imshow('frame',img)\n",
    "cv2.waitKey(0)\n",
    "cv2.destroyAllWindows()"
   ]
  },
  {
   "cell_type": "code",
   "execution_count": 11,
   "id": "6fee16cc",
   "metadata": {},
   "outputs": [],
   "source": [
    "# Creating polygon\n",
    "img = np.zeros((512, 512, 3))\n",
    "pts = np.array([[200, 200], [200, 100], [400, 100], [400,200], [300, 250]], np.int32)\n",
    "img = cv2.polylines(img,[pts],True,(0,255,255))\n",
    "cv2.imshow('frame',img)\n",
    "cv2.waitKey(0)\n",
    "cv2.destroyAllWindows()"
   ]
  },
  {
   "cell_type": "code",
   "execution_count": 14,
   "id": "3385ed8a",
   "metadata": {},
   "outputs": [],
   "source": [
    "# Inserting Text\n",
    "img_path = \"C://Users//Swati//Python_Basics//sample_images//apple.jpg\"\n",
    "img = cv2.imread(img_path,1)\n",
    "font = cv2.FONT_HERSHEY_SIMPLEX\n",
    "#                 string,  coordinates, font, scale, (B,G,R), Line Thickness, Line Type\n",
    "cv2.putText(img, 'Apple', (170,300), font, 2, (255,255,0), 1, cv2.LINE_AA)\n",
    "cv2.imshow('frame', img)\n",
    "cv2.waitKey(0)\n",
    "cv2.destroyAllWindows()"
   ]
  },
  {
   "cell_type": "code",
   "execution_count": null,
   "id": "3d3b20c7",
   "metadata": {},
   "outputs": [],
   "source": []
  }
 ],
 "metadata": {
  "kernelspec": {
   "display_name": "Python 3",
   "language": "python",
   "name": "python3"
  },
  "language_info": {
   "codemirror_mode": {
    "name": "ipython",
    "version": 3
   },
   "file_extension": ".py",
   "mimetype": "text/x-python",
   "name": "python",
   "nbconvert_exporter": "python",
   "pygments_lexer": "ipython3",
   "version": "3.8.8"
  }
 },
 "nbformat": 4,
 "nbformat_minor": 5
}
