{
 "cells": [
  {
   "cell_type": "code",
   "execution_count": 2,
   "id": "f34a012a",
   "metadata": {},
   "outputs": [
    {
     "name": "stdout",
     "output_type": "stream",
     "text": [
      "2.2\n",
      "Convert a string or number to a floating point number, if possible.\n"
     ]
    }
   ],
   "source": [
    "def division(num1, num2):\n",
    "    '''\n",
    "    Accepts two values and divides them\n",
    "    '''\n",
    "    return num1/num2\n",
    "\n",
    "result = division(44, 20)\n",
    "print(result)\n",
    "print(result.__doc__)\n",
    "    "
   ]
  },
  {
   "cell_type": "code",
   "execution_count": 7,
   "id": "3243c3d7",
   "metadata": {},
   "outputs": [
    {
     "name": "stdout",
     "output_type": "stream",
     "text": [
      "12\n",
      "12\n"
     ]
    }
   ],
   "source": [
    "global var1\n",
    "var1 = 7\n",
    "def function2():\n",
    "    global var1\n",
    "    var1 = var1+ 5\n",
    "    print(var1)\n",
    "\n",
    "function2()\n",
    "print(var1)"
   ]
  },
  {
   "cell_type": "code",
   "execution_count": 8,
   "id": "9621a830",
   "metadata": {},
   "outputs": [
    {
     "data": {
      "text/plain": [
       "62"
      ]
     },
     "execution_count": 8,
     "metadata": {},
     "output_type": "execute_result"
    }
   ],
   "source": [
    "#lambda argument: expression\n",
    "double = lambda y: y*2\n",
    "double(31)"
   ]
  },
  {
   "cell_type": "code",
   "execution_count": 11,
   "id": "e75ffe19",
   "metadata": {},
   "outputs": [
    {
     "name": "stdout",
     "output_type": "stream",
     "text": [
      "100\n",
      "1000\n"
     ]
    }
   ],
   "source": [
    "def func(n):\n",
    "    return lambda a: a**n\n",
    "\n",
    "doubler = func(2)\n",
    "tripler = func(3)\n",
    "\n",
    "print(doubler(10))\n",
    "print(tripler(10))"
   ]
  },
  {
   "cell_type": "code",
   "execution_count": null,
   "id": "f26fff2e",
   "metadata": {},
   "outputs": [],
   "source": []
  }
 ],
 "metadata": {
  "kernelspec": {
   "display_name": "Python 3",
   "language": "python",
   "name": "python3"
  },
  "language_info": {
   "codemirror_mode": {
    "name": "ipython",
    "version": 3
   },
   "file_extension": ".py",
   "mimetype": "text/x-python",
   "name": "python",
   "nbconvert_exporter": "python",
   "pygments_lexer": "ipython3",
   "version": "3.8.8"
  }
 },
 "nbformat": 4,
 "nbformat_minor": 5
}
