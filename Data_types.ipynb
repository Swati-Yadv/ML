{
 "cells": [
  {
   "cell_type": "markdown",
   "id": "8d5aa3f6",
   "metadata": {},
   "source": [
    "# Data types"
   ]
  },
  {
   "cell_type": "markdown",
   "id": "07ae61e7",
   "metadata": {},
   "source": [
    "## Numbers"
   ]
  },
  {
   "cell_type": "code",
   "execution_count": 20,
   "id": "64be9bca",
   "metadata": {},
   "outputs": [
    {
     "name": "stdout",
     "output_type": "stream",
     "text": [
      "a\n",
      "2\n",
      "4\n"
     ]
    }
   ],
   "source": [
    "a = 2\n",
    "d = 4\n",
    "print(\"a\")\n",
    "print(a)\n",
    "print(d)\n"
   ]
  },
  {
   "cell_type": "code",
   "execution_count": 3,
   "id": "f22554a0",
   "metadata": {},
   "outputs": [
    {
     "name": "stdout",
     "output_type": "stream",
     "text": [
      "10.3\n",
      "True\n"
     ]
    }
   ],
   "source": [
    "b = 10.3\n",
    "print(b)\n",
    "c = True\n",
    "print(c)"
   ]
  },
  {
   "cell_type": "code",
   "execution_count": 4,
   "id": "71295e64",
   "metadata": {},
   "outputs": [
    {
     "name": "stdout",
     "output_type": "stream",
     "text": [
      "<class 'int'>\n",
      "<class 'float'>\n",
      "<class 'bool'>\n"
     ]
    }
   ],
   "source": [
    "print(type(a))\n",
    "print(type(b))\n",
    "print(type(c))"
   ]
  },
  {
   "cell_type": "code",
   "execution_count": 5,
   "id": "429d2e6d",
   "metadata": {},
   "outputs": [
    {
     "name": "stdout",
     "output_type": "stream",
     "text": [
      "(6-7j)\n",
      "<class 'complex'>\n"
     ]
    }
   ],
   "source": [
    "num1 = 8 + 2j\n",
    "num2 = 2 + 9j\n",
    "sub = num1 - num2\n",
    "print(sub)\n",
    "print(type(sub))"
   ]
  },
  {
   "cell_type": "code",
   "execution_count": 15,
   "id": "b09a9851",
   "metadata": {},
   "outputs": [
    {
     "name": "stdout",
     "output_type": "stream",
     "text": [
      "<class 'str'>\n",
      "Python\n",
      "is\n",
      "needed\n",
      "for\n",
      "ML\n"
     ]
    }
   ],
   "source": [
    "str1 = \"Python\"\n",
    "print(type(str1))\n",
    "print(\"Python\\nis\\nneeded\\nfor\\nML\")"
   ]
  },
  {
   "cell_type": "markdown",
   "id": "8396cc08",
   "metadata": {},
   "source": [
    "## Arithmetic Operators"
   ]
  },
  {
   "cell_type": "code",
   "execution_count": 22,
   "id": "2fe1ebaa",
   "metadata": {},
   "outputs": [
    {
     "name": "stdout",
     "output_type": "stream",
     "text": [
      "2.0\n",
      "0\n",
      "8\n",
      "16\n"
     ]
    }
   ],
   "source": [
    "print(d/a)\n",
    "print(d%a)\n",
    "print(d*a)\n",
    "print(d**a)"
   ]
  },
  {
   "cell_type": "code",
   "execution_count": 24,
   "id": "db0dbefe",
   "metadata": {},
   "outputs": [
    {
     "name": "stdout",
     "output_type": "stream",
     "text": [
      "Value of a is  2\n",
      "Value of b is  10.3\n"
     ]
    }
   ],
   "source": [
    "print(\"Value of a is \", a)\n",
    "print(\"Value of b is \", b)\n"
   ]
  },
  {
   "cell_type": "code",
   "execution_count": 31,
   "id": "765b814b",
   "metadata": {},
   "outputs": [
    {
     "name": "stdout",
     "output_type": "stream",
     "text": [
      " smile happy \n"
     ]
    }
   ],
   "source": [
    "print(' {} {} '.format('i' ,'smile'))"
   ]
  },
  {
   "cell_type": "code",
   "execution_count": 32,
   "id": "a4f748b9",
   "metadata": {},
   "outputs": [
    {
     "name": "stdout",
     "output_type": "stream",
     "text": [
      " 89 \n"
     ]
    }
   ],
   "source": [
    "print(' {:d} '. format(89))"
   ]
  },
  {
   "cell_type": "code",
   "execution_count": 33,
   "id": "2c1a15be",
   "metadata": {},
   "outputs": [
    {
     "name": "stdout",
     "output_type": "stream",
     "text": [
      " 004.1200 \n"
     ]
    }
   ],
   "source": [
    "print(' {:08.4f} '. format(4.12))  #printing total 8 characters with 4 after decimal"
   ]
  },
  {
   "cell_type": "markdown",
   "id": "6099f32d",
   "metadata": {},
   "source": [
    "## Logical operators\n"
   ]
  },
  {
   "cell_type": "code",
   "execution_count": 38,
   "id": "f243bd88",
   "metadata": {},
   "outputs": [
    {
     "name": "stdout",
     "output_type": "stream",
     "text": [
      "False\n",
      "True\n",
      "False\n",
      "True\n"
     ]
    }
   ],
   "source": [
    "s1 = True\n",
    "s2 = False\n",
    "print(s1 and s2)\n",
    "print(s1 or s2)\n",
    "print(not s1)\n",
    "print(not s2)"
   ]
  },
  {
   "cell_type": "markdown",
   "id": "e20306d6",
   "metadata": {},
   "source": [
    "## List"
   ]
  },
  {
   "cell_type": "code",
   "execution_count": 2,
   "id": "98b0c8ea",
   "metadata": {},
   "outputs": [
    {
     "name": "stdout",
     "output_type": "stream",
     "text": [
      "Mango\n",
      "['Grapes', 'Mango']\n",
      "['Litchi', 'Grapes', 'Mango']\n",
      "['Litchi']\n",
      "['Grapes', 'Mango', 'Watermelon']\n",
      "['Watermelon', 'Mango', 'Grapes', 'Litchi']\n"
     ]
    }
   ],
   "source": [
    "list1 = [\"Litchi\", \"Grapes\", \"Mango\", \"Watermelon\"]\n",
    "print(list1[2])\n",
    "print(list1[1:3])\n",
    "print(list1[:-1])\n",
    "print(list1[:1])\n",
    "print(list1[1:])\n",
    "print(list1[::-1])\n",
    "list2 = [\"Up\", \"In\", \"The\", \"Clouds\"]"
   ]
  },
  {
   "cell_type": "code",
   "execution_count": 56,
   "id": "ad674e34",
   "metadata": {},
   "outputs": [
    {
     "name": "stdout",
     "output_type": "stream",
     "text": [
      "['Up', 'In', 'Clouds']\n"
     ]
    }
   ],
   "source": [
    "list2 = [\"Up\", \"In\", \"The\", \"Clouds\"]\n",
    "list2.remove(\"The\")\n",
    "print(list2)"
   ]
  },
  {
   "cell_type": "code",
   "execution_count": 53,
   "id": "a09cdb6f",
   "metadata": {},
   "outputs": [
    {
     "name": "stdout",
     "output_type": "stream",
     "text": [
      "['In', 'Clouds']\n"
     ]
    }
   ],
   "source": [
    "list2.pop(0)\n",
    "print(list2)"
   ]
  },
  {
   "cell_type": "code",
   "execution_count": 44,
   "id": "b3754650",
   "metadata": {},
   "outputs": [
    {
     "name": "stdout",
     "output_type": "stream",
     "text": [
      "['Grapes', 'Mango']\n"
     ]
    }
   ],
   "source": [
    "list1.pop()     #removes last element\n",
    "print(list1)"
   ]
  },
  {
   "cell_type": "code",
   "execution_count": 3,
   "id": "4140e924",
   "metadata": {},
   "outputs": [
    {
     "name": "stdout",
     "output_type": "stream",
     "text": [
      "['Litchi', 'Grapes', 'Mango', 'Watermelon', 'Oranges']\n"
     ]
    }
   ],
   "source": [
    "list1.append(\"Oranges\")\n",
    "print(list1)"
   ]
  },
  {
   "cell_type": "code",
   "execution_count": 4,
   "id": "42d39956",
   "metadata": {},
   "outputs": [
    {
     "name": "stdout",
     "output_type": "stream",
     "text": [
      "['Litchi', 'Grapes', 'Banana', 'Mango', 'Watermelon', 'Oranges']\n"
     ]
    }
   ],
   "source": [
    "list1.insert(2, \"Banana\")\n",
    "print(list1)"
   ]
  },
  {
   "cell_type": "markdown",
   "id": "40f35e5e",
   "metadata": {},
   "source": [
    "# Tuples\n"
   ]
  },
  {
   "cell_type": "code",
   "execution_count": 5,
   "id": "4da7af38",
   "metadata": {},
   "outputs": [
    {
     "name": "stdout",
     "output_type": "stream",
     "text": [
      "('science', 'fiction', 'movie', 'anime')\n",
      "<class 'tuple'>\n"
     ]
    }
   ],
   "source": [
    "tuple1 = (\"science\", \"fiction\", \"movie\", \"anime\")\n",
    "print(tuple1)\n",
    "print(type(tuple1))"
   ]
  },
  {
   "cell_type": "markdown",
   "id": "f6fba453",
   "metadata": {},
   "source": [
    "# Dictionary"
   ]
  },
  {
   "cell_type": "code",
   "execution_count": 6,
   "id": "dcb63d4b",
   "metadata": {},
   "outputs": [
    {
     "name": "stdout",
     "output_type": "stream",
     "text": [
      "{'Swati': 'girl', 'Nikhil': 'boy'}\n",
      "girl\n"
     ]
    }
   ],
   "source": [
    "d1 = {\"Swati\": \"girl\", \"Nikhil\": \"boy\"}\n",
    "print(d1)\n",
    "print(d1[\"Swati\"])"
   ]
  },
  {
   "cell_type": "markdown",
   "id": "6130cdf4",
   "metadata": {},
   "source": [
    "# Sets"
   ]
  },
  {
   "cell_type": "code",
   "execution_count": 7,
   "id": "9a6c9ee9",
   "metadata": {},
   "outputs": [
    {
     "name": "stdout",
     "output_type": "stream",
     "text": [
      "<class 'set'>\n",
      "{2, 3, 5, 6, 9}\n"
     ]
    }
   ],
   "source": [
    "set1 = {2,3,9, 5,6,6,2}\n",
    "print(type(set1))\n",
    "print(set1)"
   ]
  },
  {
   "cell_type": "code",
   "execution_count": null,
   "id": "36a1bc63",
   "metadata": {},
   "outputs": [],
   "source": []
  }
 ],
 "metadata": {
  "kernelspec": {
   "display_name": "Python 3",
   "language": "python",
   "name": "python3"
  },
  "language_info": {
   "codemirror_mode": {
    "name": "ipython",
    "version": 3
   },
   "file_extension": ".py",
   "mimetype": "text/x-python",
   "name": "python",
   "nbconvert_exporter": "python",
   "pygments_lexer": "ipython3",
   "version": "3.8.8"
  }
 },
 "nbformat": 4,
 "nbformat_minor": 5
}
