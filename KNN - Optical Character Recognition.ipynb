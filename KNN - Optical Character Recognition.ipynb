{
 "cells": [
  {
   "cell_type": "code",
   "execution_count": 1,
   "id": "1e3891d8",
   "metadata": {},
   "outputs": [],
   "source": [
    "import numpy as np\n",
    "import cv2"
   ]
  },
  {
   "cell_type": "code",
   "execution_count": 2,
   "id": "b3241df6",
   "metadata": {},
   "outputs": [],
   "source": [
    "path = \"C:\\\\Users\\\\Swati\\\\Python_Basics\\\\sample_images\\\\digits.png\"\n",
    "img = cv2.imread(path, 0)"
   ]
  },
  {
   "cell_type": "code",
   "execution_count": 7,
   "id": "b6e92008",
   "metadata": {},
   "outputs": [],
   "source": [
    "cv2.namedWindow(\"Digit Image\", cv2.WINDOW_NORMAL)   #To make the window manually resizeable\n",
    "cv2.imshow(\"Digit Image\", img)\n",
    "cv2.waitKey(0)\n",
    "cv2.destroyAllWindows()"
   ]
  },
  {
   "cell_type": "markdown",
   "id": "6fe2da22",
   "metadata": {},
   "source": [
    "## Splitting Rows and Columns in order to separate all digits\n"
   ]
  },
  {
   "cell_type": "markdown",
   "id": "083cbe41",
   "metadata": {},
   "source": [
    "hsplit:   splits the numpy array into multiple arrays column wise\n",
    "vsplit:   splits the numpy array into multiple arrays row wise\n",
    "Since 50 rows and 100 columns are there, if we split each image into 50 rows and 100 columns, we will be able to index each digit separately"
   ]
  },
  {
   "cell_type": "code",
   "execution_count": 6,
   "id": "05f2fc49",
   "metadata": {},
   "outputs": [
    {
     "name": "stdout",
     "output_type": "stream",
     "text": [
      "(50, 100, 20, 20)\n"
     ]
    }
   ],
   "source": [
    "cells = [np.hsplit(row, 100) for row in np.vsplit(img, 50)]\n",
    "# Convert it into a numpy array, size will be (50, 100, 20, 20)\n",
    "digit_database = np.array(cells)\n",
    "print(digit_database.shape)"
   ]
  },
  {
   "cell_type": "markdown",
   "id": "e4dc38ac",
   "metadata": {},
   "source": [
    "## Selecting a digit , printing and displaying it"
   ]
  },
  {
   "cell_type": "code",
   "execution_count": 8,
   "id": "27a359dc",
   "metadata": {},
   "outputs": [
    {
     "name": "stdout",
     "output_type": "stream",
     "text": [
      "[[  0   0   0   0   0   0   0   0   0   0   0   0   0   0   0   0   0   0\n",
      "    0   0]\n",
      " [  0   0   0   0   0   0   0   0   0   0   0   0   0   0   0   0   0   0\n",
      "    0   0]\n",
      " [  0   0   0   0   0   0   0   0   0   0   0   9  33   9   0   0   0   0\n",
      "    0   0]\n",
      " [  0   0   0   0   0   0   0   0   0   0  41 177 249 178  29   0   0   0\n",
      "    0   0]\n",
      " [  0   0   0   0   0   0   0   0   0  33 198 255 240 255 107   0   0   0\n",
      "    0   0]\n",
      " [  0   0   0   0   0   0   0   1  70 199 255 255 197 154 253  98   0   0\n",
      "    0   0]\n",
      " [  0   0   0   0   0   0   0  45 238 255 205 224 222  83 224 128   0   0\n",
      "    0   0]\n",
      " [  0   0   0   0   0   0  25 202 255 193  40  99  54   0 190 197  16   0\n",
      "    0   0]\n",
      " [  0   0   0   0   0  20 163 246 152  72   0   0   0   0 184 252  74   0\n",
      "    0   0]\n",
      " [  0   0   0   0   0  97 255 118   0   1   0   0   0   0 184 255  82   0\n",
      "    0   0]\n",
      " [  0   0   0   0  20 218 216  17   0   0   0   0   0   0 183 255  78   0\n",
      "    0   0]\n",
      " [  0   0   0   0  67 255 138   0   0   0   0   0   0  24 215 188  22   0\n",
      "    0   0]\n",
      " [  0   0   0   0  69 247  87   0   0   0   0   0  31 185 212  54   0   0\n",
      "    0   0]\n",
      " [  0   0   0   0  71 237  68   0   0   0   0  94 211 177  17   0   0   0\n",
      "    0   0]\n",
      " [  0   0   0   0  69 255 170  39  39 115 183 238 185  37   0   0   0   0\n",
      "    0   0]\n",
      " [  0   0   0   0  57 245 255 229 233 255 216 117  13   0   0   0   0   0\n",
      "    0   0]\n",
      " [  0   0   0   0   7 114 230 255 234 137  38   0   0   0   0   0   0   0\n",
      "    0   0]\n",
      " [  0   0   0   0   0   0  26  38  27   0   0   0   0   0   0   0   0   0\n",
      "    0   0]\n",
      " [  0   0   0   0   0   0   0   0   0   0   0   0   0   0   0   0   0   0\n",
      "    0   0]\n",
      " [  0   0   0   0   0   0   0   0   0   0   0   0   0   0   0   0   0   0\n",
      "    0   0]]\n"
     ]
    }
   ],
   "source": [
    "selected_digit = digit_database[0][0]   \n",
    "# digit at row 0 and column 0\n",
    "print(selected_digit)\n",
    "cv2.imshow(\"Digit\", selected_digit)\n",
    "cv2.waitKey(0)\n",
    "cv2.destroyAllWindows()"
   ]
  },
  {
   "cell_type": "markdown",
   "id": "d4002511",
   "metadata": {},
   "source": [
    "## Creating Training and Testing Dataset\n",
    "\n"
   ]
  },
  {
   "cell_type": "markdown",
   "id": "fbc9f6d3",
   "metadata": {},
   "source": [
    "0 - 49 columns selected as training data\n",
    "50 - 99 columns selected as testing data"
   ]
  },
  {
   "cell_type": "code",
   "execution_count": 9,
   "id": "8da292b3",
   "metadata": {},
   "outputs": [
    {
     "data": {
      "text/plain": [
       "4"
      ]
     },
     "execution_count": 9,
     "metadata": {},
     "output_type": "execute_result"
    }
   ],
   "source": [
    "digit_database.ndim"
   ]
  },
  {
   "cell_type": "code",
   "execution_count": 10,
   "id": "fb61a61f",
   "metadata": {},
   "outputs": [],
   "source": [
    "X_train = digit_database[:, :50].reshape(-1, 400).astype(np.float32)\n",
    "# Shape = (2500,400)\n",
    "X_test = digit_database[:, 50:100].reshape(-1, 400).astype(np.float32)\n",
    "# Shape = (2500,400)\n",
    "# Shape of X_test and X_train is (2500, 400) as we have 50 rows x 50 columns in each and each element is 20 x 20"
   ]
  },
  {
   "cell_type": "code",
   "execution_count": 11,
   "id": "06a829ee",
   "metadata": {},
   "outputs": [
    {
     "data": {
      "text/plain": [
       "2"
      ]
     },
     "execution_count": 11,
     "metadata": {},
     "output_type": "execute_result"
    }
   ],
   "source": [
    "X_train.ndim"
   ]
  },
  {
   "cell_type": "code",
   "execution_count": 12,
   "id": "5c9c67ee",
   "metadata": {},
   "outputs": [
    {
     "data": {
      "text/plain": [
       "2"
      ]
     },
     "execution_count": 12,
     "metadata": {},
     "output_type": "execute_result"
    }
   ],
   "source": [
    "X_test.ndim"
   ]
  },
  {
   "cell_type": "markdown",
   "id": "95dac76b",
   "metadata": {},
   "source": [
    "## Creating Labels"
   ]
  },
  {
   "cell_type": "markdown",
   "id": "b6cf2418",
   "metadata": {},
   "source": [
    "In training data there were 5 rows for each digit and 5 columns for each digit and after reshaping it we have 250 rows for each digit. There are numericals from 0 to 9 so we need to create a numpy array which holds each digit 250 times."
   ]
  },
  {
   "cell_type": "markdown",
   "id": "47572fe2",
   "metadata": {},
   "source": [
    "## Dummy(only for demonstration)\n"
   ]
  },
  {
   "cell_type": "code",
   "execution_count": 13,
   "id": "bc358fb8",
   "metadata": {},
   "outputs": [
    {
     "data": {
      "text/plain": [
       "array([[0],\n",
       "       [0],\n",
       "       [0],\n",
       "       [1],\n",
       "       [1],\n",
       "       [1],\n",
       "       [2],\n",
       "       [2],\n",
       "       [2],\n",
       "       [3],\n",
       "       [3],\n",
       "       [3],\n",
       "       [4],\n",
       "       [4],\n",
       "       [4],\n",
       "       [5],\n",
       "       [5],\n",
       "       [5],\n",
       "       [6],\n",
       "       [6],\n",
       "       [6],\n",
       "       [7],\n",
       "       [7],\n",
       "       [7],\n",
       "       [8],\n",
       "       [8],\n",
       "       [8],\n",
       "       [9],\n",
       "       [9],\n",
       "       [9]])"
      ]
     },
     "execution_count": 13,
     "metadata": {},
     "output_type": "execute_result"
    }
   ],
   "source": [
    "k = np.arange(10)\n",
    "# Y_train = np.repeat(k,3)\n",
    "Y_train = np.repeat(k,3) [:, np.newaxis]\n",
    "Y_train \n"
   ]
  },
  {
   "cell_type": "markdown",
   "id": "6cce060a",
   "metadata": {},
   "source": [
    "## Actual Labels"
   ]
  },
  {
   "cell_type": "code",
   "execution_count": 14,
   "id": "641c9ce4",
   "metadata": {},
   "outputs": [],
   "source": [
    "k = np.arange(10)\n",
    "Y_train = np.repeat(k,250) [:,np.newaxis]"
   ]
  },
  {
   "cell_type": "code",
   "execution_count": 15,
   "id": "8e9ae3ce",
   "metadata": {},
   "outputs": [],
   "source": [
    "# Since testing data also has data arranged in similar fashion, we are copying the labels\n",
    "Y_test = Y_train.copy()"
   ]
  },
  {
   "cell_type": "markdown",
   "id": "f29b87c6",
   "metadata": {},
   "source": [
    "## Creating Model, Training and Predicting"
   ]
  },
  {
   "cell_type": "code",
   "execution_count": 18,
   "id": "552e701c",
   "metadata": {},
   "outputs": [],
   "source": [
    "# Initialising\n",
    "knn = cv2.ml.KNearest_create()\n",
    "# Training model\n",
    "knn.train(X_train, cv2.ml.ROW_SAMPLE, Y_train)\n",
    "# Predicting results for testing data with k = 5\n",
    "ret, result, neighbours, dist = knn.findNearest(X_test, k = 5)"
   ]
  },
  {
   "cell_type": "markdown",
   "id": "04fe62dc",
   "metadata": {},
   "source": [
    "## Evaluating Performance"
   ]
  },
  {
   "cell_type": "code",
   "execution_count": 19,
   "id": "76ff58cb",
   "metadata": {},
   "outputs": [
    {
     "name": "stdout",
     "output_type": "stream",
     "text": [
      "91.76\n"
     ]
    }
   ],
   "source": [
    "matches = (result==Y_test)\n",
    "correct = np.count_nonzero(matches)\n",
    "accuracy = correct*100.0/result.size\n",
    "print(accuracy)"
   ]
  },
  {
   "cell_type": "markdown",
   "id": "887cb48c",
   "metadata": {},
   "source": [
    "## Handpicking a sample"
   ]
  },
  {
   "cell_type": "code",
   "execution_count": 20,
   "id": "8fd5edf7",
   "metadata": {},
   "outputs": [],
   "source": [
    "# Selecting a sample at index 600 and reshaping it as 20x20 to display it\n",
    "cv2.imshow(\"Sample 1\", X_test[600].reshape(20,20))\n",
    "cv2.waitKey(0)\n",
    "cv2.destroyAllWindows()"
   ]
  },
  {
   "cell_type": "markdown",
   "id": "04f06206",
   "metadata": {},
   "source": [
    "## Recognising which digit was selected"
   ]
  },
  {
   "cell_type": "code",
   "execution_count": 21,
   "id": "b3570e91",
   "metadata": {},
   "outputs": [],
   "source": [
    "ret, result, neighbours, dist = knn.findNearest(X_test[600:601], k = 5)"
   ]
  },
  {
   "cell_type": "code",
   "execution_count": 23,
   "id": "ef73715b",
   "metadata": {},
   "outputs": [
    {
     "name": "stdout",
     "output_type": "stream",
     "text": [
      "2.0\n",
      "Digit recognised as:  [[2.]]\n",
      "Distance from nearest neighbours:  [[365449. 532975. 733234. 735520. 756579.]]\n",
      "Nearest Neighbour:  [[2. 2. 2. 2. 2.]]\n"
     ]
    }
   ],
   "source": [
    "print(ret)\n",
    "print(\"Digit recognised as: \", result)\n",
    "print(\"Distance from nearest neighbours: \",dist)\n",
    "print(\"Nearest Neighbour: \", neighbours)\n"
   ]
  },
  {
   "cell_type": "code",
   "execution_count": null,
   "id": "c26c85b3",
   "metadata": {},
   "outputs": [],
   "source": []
  }
 ],
 "metadata": {
  "kernelspec": {
   "display_name": "Python 3 (ipykernel)",
   "language": "python",
   "name": "python3"
  },
  "language_info": {
   "codemirror_mode": {
    "name": "ipython",
    "version": 3
   },
   "file_extension": ".py",
   "mimetype": "text/x-python",
   "name": "python",
   "nbconvert_exporter": "python",
   "pygments_lexer": "ipython3",
   "version": "3.9.12"
  }
 },
 "nbformat": 4,
 "nbformat_minor": 5
}
