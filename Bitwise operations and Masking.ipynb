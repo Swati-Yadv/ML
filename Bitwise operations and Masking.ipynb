{
 "cells": [
  {
   "cell_type": "code",
   "execution_count": 2,
   "id": "83298e8e",
   "metadata": {},
   "outputs": [],
   "source": [
    "import cv2"
   ]
  },
  {
   "cell_type": "code",
   "execution_count": 3,
   "id": "2d365fa3",
   "metadata": {},
   "outputs": [],
   "source": [
    "path1 = \"C:\\\\Users\\\\Swati\\\\Python_Basics\\\\sample_images\\\\fruits.jpg\"\n",
    "path2 = \"C:\\\\Users\\\\Swati\\\\Python_Basics\\\\sample_images\\\\Picture1.png\"\n",
    "img1 = cv2.imread(path1)\n",
    "img2_raw = cv2.imread(path2)\n",
    "cv2.imshow(\"Main pictures\", img1)\n",
    "cv2.imshow(\"Logo\", img2_raw)\n",
    "cv2.waitKey(0)\n",
    "cv2.destroyAllWindows()"
   ]
  },
  {
   "cell_type": "code",
   "execution_count": 4,
   "id": "eea2070a",
   "metadata": {},
   "outputs": [
    {
     "data": {
      "text/plain": [
       "(149, 249, 3)"
      ]
     },
     "execution_count": 4,
     "metadata": {},
     "output_type": "execute_result"
    }
   ],
   "source": [
    "img2_raw.shape"
   ]
  },
  {
   "cell_type": "code",
   "execution_count": 5,
   "id": "48167259",
   "metadata": {},
   "outputs": [],
   "source": [
    "# Converting logo to greyscale\n",
    "img2 = cv2.cvtColor(img2_raw, cv2.COLOR_BGR2GRAY)\n",
    "cv2.imshow('Grayscale', img2)\n",
    "cv2.waitKey(0)\n",
    "cv2.destroyAllWindows()"
   ]
  },
  {
   "cell_type": "code",
   "execution_count": 6,
   "id": "9831f208",
   "metadata": {},
   "outputs": [
    {
     "data": {
      "text/plain": [
       "(149, 249)"
      ]
     },
     "execution_count": 6,
     "metadata": {},
     "output_type": "execute_result"
    }
   ],
   "source": [
    "# Creating ROI on which we want to paste the logo\n",
    "img2.shape"
   ]
  },
  {
   "cell_type": "code",
   "execution_count": 7,
   "id": "ee30a664",
   "metadata": {},
   "outputs": [],
   "source": [
    "rows,cols = img2.shape\n",
    "roi = img1[0:rows, 0:cols]\n",
    "\n",
    "cv2.imshow('Logo', img2)\n",
    "cv2.imshow('ROI for logo background', roi)\n",
    "cv2.waitKey(0)\n",
    "cv2.destroyAllWindows()"
   ]
  },
  {
   "cell_type": "code",
   "execution_count": 8,
   "id": "77ca5b94",
   "metadata": {},
   "outputs": [],
   "source": [
    "# Creating Maskss\n",
    "# Masksing will help us to cut out the exact shape of logo in the original image\n",
    "\n",
    "ret , mask = cv2.threshold(img2, 40, 255, cv2.THRESH_BINARY)\n",
    "mask_inv = cv2.bitwise_not(mask)\n",
    "cv2.imshow(\"Mask Of logo\", mask)\n",
    "cv2.imshow(\"Inverted mask\", mask_inv)\n",
    "cv2.waitKey(0)\n",
    "cv2.destroyAllWindows()"
   ]
  },
  {
   "cell_type": "markdown",
   "id": "4da807a1",
   "metadata": {},
   "source": [
    "## Bitwise operations on images using masks\n",
    "bitwise operations may include OR, NOT, XOR, AND"
   ]
  },
  {
   "cell_type": "code",
   "execution_count": 9,
   "id": "5ed3c63a",
   "metadata": {},
   "outputs": [],
   "source": [
    "# Take only region of logo from logo image\n",
    "img2_fg = cv2.bitwise_and(img2_raw, img2_raw, mask = mask)\n",
    "cv2.imshow('img2_fg', img2_fg)\n",
    "cv2.waitKey(0)\n",
    "cv2.destroyAllWindows()"
   ]
  },
  {
   "cell_type": "code",
   "execution_count": 10,
   "id": "61932a57",
   "metadata": {},
   "outputs": [],
   "source": [
    "img1_bg = cv2.bitwise_and(roi, roi, mask = mask_inv)\n",
    "cv2.imshow('img1_bg', img1_bg)\n",
    "cv2.waitKey(0)\n",
    "cv2.destroyAllWindows()"
   ]
  },
  {
   "cell_type": "markdown",
   "id": "c3338a89",
   "metadata": {},
   "source": [
    "## Adding foreground on the ROI"
   ]
  },
  {
   "cell_type": "code",
   "execution_count": 11,
   "id": "be8e3f82",
   "metadata": {},
   "outputs": [],
   "source": [
    "dst = cv2.add(img1_bg, img2_fg)\n",
    "cv2.imshow('img_bg', img1_bg)\n",
    "cv2.waitKey(0)\n",
    "cv2.destroyAllWindows()"
   ]
  },
  {
   "cell_type": "code",
   "execution_count": 12,
   "id": "22c66b4b",
   "metadata": {},
   "outputs": [],
   "source": [
    "# Modifying original image\n",
    "# Put logo in ROI and modify the main image\n",
    "img1[0:rows, 0:cols] = dst\n",
    "cv2.imshow('Final image', img1)\n",
    "cv2.waitKey(0)\n",
    "cv2.destroyAllWindows()"
   ]
  },
  {
   "cell_type": "code",
   "execution_count": null,
   "id": "7636f5ac",
   "metadata": {},
   "outputs": [],
   "source": []
  }
 ],
 "metadata": {
  "kernelspec": {
   "display_name": "Python 3",
   "language": "python",
   "name": "python3"
  },
  "language_info": {
   "codemirror_mode": {
    "name": "ipython",
    "version": 3
   },
   "file_extension": ".py",
   "mimetype": "text/x-python",
   "name": "python",
   "nbconvert_exporter": "python",
   "pygments_lexer": "ipython3",
   "version": "3.8.8"
  }
 },
 "nbformat": 4,
 "nbformat_minor": 5
}
