{
 "cells": [
  {
   "cell_type": "code",
   "execution_count": 1,
   "id": "61d38be7",
   "metadata": {},
   "outputs": [],
   "source": [
    "import numpy as np\n",
    "import cv2"
   ]
  },
  {
   "cell_type": "markdown",
   "id": "d3e744f8",
   "metadata": {},
   "source": [
    "# Tracking red objects\n"
   ]
  },
  {
   "cell_type": "markdown",
   "id": "3849a751",
   "metadata": {},
   "source": [
    "## HSV value for red"
   ]
  },
  {
   "cell_type": "code",
   "execution_count": 3,
   "id": "fdfa641a",
   "metadata": {},
   "outputs": [
    {
     "name": "stdout",
     "output_type": "stream",
     "text": [
      "[[[  0 255 255]]]\n"
     ]
    }
   ],
   "source": [
    "col = np.uint8([[[0,0,255]]])\n",
    "col_hsv = cv2.cvtColor(col,cv2.COLOR_BGR2HSV)\n",
    "print(col_hsv)"
   ]
  },
  {
   "cell_type": "markdown",
   "id": "96d42927",
   "metadata": {},
   "source": [
    "## Defining upper and lower range of Red"
   ]
  },
  {
   "cell_type": "code",
   "execution_count": 9,
   "id": "320cee51",
   "metadata": {},
   "outputs": [],
   "source": [
    "# define range of blue color in HSV (got approx values from above cell and tweaked them)\n",
    "col_upper = np.array([30,190, 200])\n",
    "col_lower = np.array([0,80,70])"
   ]
  },
  {
   "cell_type": "markdown",
   "id": "74b2fb6f",
   "metadata": {},
   "source": [
    "## Tracking"
   ]
  },
  {
   "cell_type": "code",
   "execution_count": 19,
   "id": "f214ace1",
   "metadata": {},
   "outputs": [
    {
     "name": "stdout",
     "output_type": "stream",
     "text": [
      "Can't receive frame (stream end?). Exiting ...\n"
     ]
    }
   ],
   "source": [
    "cap = cv2.VideoCapture(0)   #opening camera device\n",
    "\n",
    "while(1):\n",
    "#     Take each frame\n",
    "      ret, frame = cap.read()\n",
    "      # if frame is read correctly ret is True\n",
    "      if not ret:\n",
    "        print(\"Can't receive frame (stream end?). Exiting ...\")\n",
    "        break\n",
    "      hsv = cv2.cvtColor(frame, cv2.COLOR_BGR2HSV)\n",
    "#     Threshold the HSV image to get only red colors\n",
    "      mask = cv2.inRange(hsv, col_lower, col_upper)\n",
    "#     Bitwise-AND mask and original image\n",
    "      track = cv2.bitwise_and(frame, frame, mask = mask)\n",
    "#     Displaying windows\n",
    "      cv2.imshow(\"Frame\", frame)\n",
    "      cv2.imshow(\"Mask\", mask)\n",
    "      cv2.imshow(\"Tracking\", track)\n",
    "    \n",
    "      if(cv2.waitKey(5) & 0xFF) == ord(\"x\"):\n",
    "            break\n",
    "cap.release()\n",
    "cv2.destroyAllWindows()"
   ]
  },
  {
   "cell_type": "markdown",
   "id": "593327b8",
   "metadata": {},
   "source": []
  }
 ],
 "metadata": {
  "kernelspec": {
   "display_name": "Python 3 (ipykernel)",
   "language": "python",
   "name": "python3"
  },
  "language_info": {
   "codemirror_mode": {
    "name": "ipython",
    "version": 3
   },
   "file_extension": ".py",
   "mimetype": "text/x-python",
   "name": "python",
   "nbconvert_exporter": "python",
   "pygments_lexer": "ipython3",
   "version": "3.9.12"
  }
 },
 "nbformat": 4,
 "nbformat_minor": 5
}
