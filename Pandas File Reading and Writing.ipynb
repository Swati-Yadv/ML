{
 "cells": [
  {
   "cell_type": "markdown",
   "id": "576814ee",
   "metadata": {},
   "source": [
    "# Reading and Writing to Files"
   ]
  },
  {
   "cell_type": "code",
   "execution_count": 2,
   "id": "3f5826a1",
   "metadata": {},
   "outputs": [],
   "source": [
    "import pandas as pd\n",
    "import numpy as np"
   ]
  },
  {
   "cell_type": "code",
   "execution_count": 16,
   "id": "d0bf2385",
   "metadata": {},
   "outputs": [
    {
     "data": {
      "text/html": [
       "<div>\n",
       "<style scoped>\n",
       "    .dataframe tbody tr th:only-of-type {\n",
       "        vertical-align: middle;\n",
       "    }\n",
       "\n",
       "    .dataframe tbody tr th {\n",
       "        vertical-align: top;\n",
       "    }\n",
       "\n",
       "    .dataframe thead th {\n",
       "        text-align: right;\n",
       "    }\n",
       "</style>\n",
       "<table border=\"1\" class=\"dataframe\">\n",
       "  <thead>\n",
       "    <tr style=\"text-align: right;\">\n",
       "      <th></th>\n",
       "      <th>Index</th>\n",
       "      <th>Manufacturer</th>\n",
       "      <th>Model</th>\n",
       "      <th>Type</th>\n",
       "      <th>Min.Price</th>\n",
       "      <th>Price</th>\n",
       "      <th>Max.Price</th>\n",
       "      <th>MPG.city</th>\n",
       "      <th>MPG.highway</th>\n",
       "      <th>AirBags</th>\n",
       "      <th>...</th>\n",
       "      <th>Passengers</th>\n",
       "      <th>Length</th>\n",
       "      <th>Wheelbase</th>\n",
       "      <th>Width</th>\n",
       "      <th>Turn.circle</th>\n",
       "      <th>Rear.seat.room</th>\n",
       "      <th>Luggage.room</th>\n",
       "      <th>Weight</th>\n",
       "      <th>Origin</th>\n",
       "      <th>Make</th>\n",
       "    </tr>\n",
       "  </thead>\n",
       "  <tbody>\n",
       "    <tr>\n",
       "      <th>0</th>\n",
       "      <td>1</td>\n",
       "      <td>Acura</td>\n",
       "      <td>Integra</td>\n",
       "      <td>Small</td>\n",
       "      <td>12.9</td>\n",
       "      <td>15.9</td>\n",
       "      <td>18.8</td>\n",
       "      <td>25</td>\n",
       "      <td>31</td>\n",
       "      <td>None</td>\n",
       "      <td>...</td>\n",
       "      <td>5</td>\n",
       "      <td>177</td>\n",
       "      <td>102</td>\n",
       "      <td>68</td>\n",
       "      <td>37</td>\n",
       "      <td>26.5</td>\n",
       "      <td>11.0</td>\n",
       "      <td>2705</td>\n",
       "      <td>non-USA</td>\n",
       "      <td>Acura Integra</td>\n",
       "    </tr>\n",
       "    <tr>\n",
       "      <th>1</th>\n",
       "      <td>2</td>\n",
       "      <td>Acura</td>\n",
       "      <td>Legend</td>\n",
       "      <td>Midsize</td>\n",
       "      <td>29.2</td>\n",
       "      <td>33.9</td>\n",
       "      <td>38.7</td>\n",
       "      <td>18</td>\n",
       "      <td>25</td>\n",
       "      <td>Driver &amp; Passenger</td>\n",
       "      <td>...</td>\n",
       "      <td>5</td>\n",
       "      <td>195</td>\n",
       "      <td>115</td>\n",
       "      <td>71</td>\n",
       "      <td>38</td>\n",
       "      <td>30.0</td>\n",
       "      <td>15.0</td>\n",
       "      <td>3560</td>\n",
       "      <td>non-USA</td>\n",
       "      <td>Acura Legend</td>\n",
       "    </tr>\n",
       "    <tr>\n",
       "      <th>2</th>\n",
       "      <td>3</td>\n",
       "      <td>Audi</td>\n",
       "      <td>90</td>\n",
       "      <td>Compact</td>\n",
       "      <td>25.9</td>\n",
       "      <td>29.1</td>\n",
       "      <td>32.3</td>\n",
       "      <td>20</td>\n",
       "      <td>26</td>\n",
       "      <td>Driver only</td>\n",
       "      <td>...</td>\n",
       "      <td>5</td>\n",
       "      <td>180</td>\n",
       "      <td>102</td>\n",
       "      <td>67</td>\n",
       "      <td>37</td>\n",
       "      <td>28.0</td>\n",
       "      <td>14.0</td>\n",
       "      <td>3375</td>\n",
       "      <td>non-USA</td>\n",
       "      <td>Audi 90</td>\n",
       "    </tr>\n",
       "    <tr>\n",
       "      <th>3</th>\n",
       "      <td>4</td>\n",
       "      <td>Audi</td>\n",
       "      <td>100</td>\n",
       "      <td>Midsize</td>\n",
       "      <td>30.8</td>\n",
       "      <td>37.7</td>\n",
       "      <td>44.6</td>\n",
       "      <td>19</td>\n",
       "      <td>26</td>\n",
       "      <td>Driver &amp; Passenger</td>\n",
       "      <td>...</td>\n",
       "      <td>6</td>\n",
       "      <td>193</td>\n",
       "      <td>106</td>\n",
       "      <td>70</td>\n",
       "      <td>37</td>\n",
       "      <td>31.0</td>\n",
       "      <td>17.0</td>\n",
       "      <td>3405</td>\n",
       "      <td>non-USA</td>\n",
       "      <td>Audi 100</td>\n",
       "    </tr>\n",
       "    <tr>\n",
       "      <th>4</th>\n",
       "      <td>5</td>\n",
       "      <td>BMW</td>\n",
       "      <td>535i</td>\n",
       "      <td>Midsize</td>\n",
       "      <td>23.7</td>\n",
       "      <td>30.0</td>\n",
       "      <td>36.2</td>\n",
       "      <td>22</td>\n",
       "      <td>30</td>\n",
       "      <td>Driver only</td>\n",
       "      <td>...</td>\n",
       "      <td>4</td>\n",
       "      <td>186</td>\n",
       "      <td>109</td>\n",
       "      <td>69</td>\n",
       "      <td>39</td>\n",
       "      <td>27.0</td>\n",
       "      <td>13.0</td>\n",
       "      <td>3640</td>\n",
       "      <td>non-USA</td>\n",
       "      <td>BMW 535i</td>\n",
       "    </tr>\n",
       "    <tr>\n",
       "      <th>...</th>\n",
       "      <td>...</td>\n",
       "      <td>...</td>\n",
       "      <td>...</td>\n",
       "      <td>...</td>\n",
       "      <td>...</td>\n",
       "      <td>...</td>\n",
       "      <td>...</td>\n",
       "      <td>...</td>\n",
       "      <td>...</td>\n",
       "      <td>...</td>\n",
       "      <td>...</td>\n",
       "      <td>...</td>\n",
       "      <td>...</td>\n",
       "      <td>...</td>\n",
       "      <td>...</td>\n",
       "      <td>...</td>\n",
       "      <td>...</td>\n",
       "      <td>...</td>\n",
       "      <td>...</td>\n",
       "      <td>...</td>\n",
       "      <td>...</td>\n",
       "    </tr>\n",
       "    <tr>\n",
       "      <th>88</th>\n",
       "      <td>89</td>\n",
       "      <td>Volkswagen</td>\n",
       "      <td>Eurovan</td>\n",
       "      <td>Van</td>\n",
       "      <td>16.6</td>\n",
       "      <td>19.7</td>\n",
       "      <td>22.7</td>\n",
       "      <td>17</td>\n",
       "      <td>21</td>\n",
       "      <td>None</td>\n",
       "      <td>...</td>\n",
       "      <td>7</td>\n",
       "      <td>187</td>\n",
       "      <td>115</td>\n",
       "      <td>72</td>\n",
       "      <td>38</td>\n",
       "      <td>34.0</td>\n",
       "      <td>NaN</td>\n",
       "      <td>3960</td>\n",
       "      <td>non-USA</td>\n",
       "      <td>Volkswagen Eurovan</td>\n",
       "    </tr>\n",
       "    <tr>\n",
       "      <th>89</th>\n",
       "      <td>90</td>\n",
       "      <td>Volkswagen</td>\n",
       "      <td>Passat</td>\n",
       "      <td>Compact</td>\n",
       "      <td>17.6</td>\n",
       "      <td>20.0</td>\n",
       "      <td>22.4</td>\n",
       "      <td>21</td>\n",
       "      <td>30</td>\n",
       "      <td>None</td>\n",
       "      <td>...</td>\n",
       "      <td>5</td>\n",
       "      <td>180</td>\n",
       "      <td>103</td>\n",
       "      <td>67</td>\n",
       "      <td>35</td>\n",
       "      <td>31.5</td>\n",
       "      <td>14.0</td>\n",
       "      <td>2985</td>\n",
       "      <td>non-USA</td>\n",
       "      <td>Volkswagen Passat</td>\n",
       "    </tr>\n",
       "    <tr>\n",
       "      <th>90</th>\n",
       "      <td>91</td>\n",
       "      <td>Volkswagen</td>\n",
       "      <td>Corrado</td>\n",
       "      <td>Sporty</td>\n",
       "      <td>22.9</td>\n",
       "      <td>23.3</td>\n",
       "      <td>23.7</td>\n",
       "      <td>18</td>\n",
       "      <td>25</td>\n",
       "      <td>None</td>\n",
       "      <td>...</td>\n",
       "      <td>4</td>\n",
       "      <td>159</td>\n",
       "      <td>97</td>\n",
       "      <td>66</td>\n",
       "      <td>36</td>\n",
       "      <td>26.0</td>\n",
       "      <td>15.0</td>\n",
       "      <td>2810</td>\n",
       "      <td>non-USA</td>\n",
       "      <td>Volkswagen Corrado</td>\n",
       "    </tr>\n",
       "    <tr>\n",
       "      <th>91</th>\n",
       "      <td>92</td>\n",
       "      <td>Volvo</td>\n",
       "      <td>240</td>\n",
       "      <td>Compact</td>\n",
       "      <td>21.8</td>\n",
       "      <td>22.7</td>\n",
       "      <td>23.5</td>\n",
       "      <td>21</td>\n",
       "      <td>28</td>\n",
       "      <td>Driver only</td>\n",
       "      <td>...</td>\n",
       "      <td>5</td>\n",
       "      <td>190</td>\n",
       "      <td>104</td>\n",
       "      <td>67</td>\n",
       "      <td>37</td>\n",
       "      <td>29.5</td>\n",
       "      <td>14.0</td>\n",
       "      <td>2985</td>\n",
       "      <td>non-USA</td>\n",
       "      <td>Volvo 240</td>\n",
       "    </tr>\n",
       "    <tr>\n",
       "      <th>92</th>\n",
       "      <td>93</td>\n",
       "      <td>Volvo</td>\n",
       "      <td>850</td>\n",
       "      <td>Midsize</td>\n",
       "      <td>24.8</td>\n",
       "      <td>26.7</td>\n",
       "      <td>28.5</td>\n",
       "      <td>20</td>\n",
       "      <td>28</td>\n",
       "      <td>Driver &amp; Passenger</td>\n",
       "      <td>...</td>\n",
       "      <td>5</td>\n",
       "      <td>184</td>\n",
       "      <td>105</td>\n",
       "      <td>69</td>\n",
       "      <td>38</td>\n",
       "      <td>30.0</td>\n",
       "      <td>15.0</td>\n",
       "      <td>3245</td>\n",
       "      <td>non-USA</td>\n",
       "      <td>Volvo 850</td>\n",
       "    </tr>\n",
       "  </tbody>\n",
       "</table>\n",
       "<p>93 rows × 28 columns</p>\n",
       "</div>"
      ],
      "text/plain": [
       "    Index Manufacturer    Model     Type  Min.Price  Price  Max.Price  \\\n",
       "0       1        Acura  Integra    Small       12.9   15.9       18.8   \n",
       "1       2        Acura   Legend  Midsize       29.2   33.9       38.7   \n",
       "2       3         Audi       90  Compact       25.9   29.1       32.3   \n",
       "3       4         Audi      100  Midsize       30.8   37.7       44.6   \n",
       "4       5          BMW     535i  Midsize       23.7   30.0       36.2   \n",
       "..    ...          ...      ...      ...        ...    ...        ...   \n",
       "88     89   Volkswagen  Eurovan      Van       16.6   19.7       22.7   \n",
       "89     90   Volkswagen   Passat  Compact       17.6   20.0       22.4   \n",
       "90     91   Volkswagen  Corrado   Sporty       22.9   23.3       23.7   \n",
       "91     92        Volvo      240  Compact       21.8   22.7       23.5   \n",
       "92     93        Volvo      850  Midsize       24.8   26.7       28.5   \n",
       "\n",
       "    MPG.city  MPG.highway             AirBags  ... Passengers Length  \\\n",
       "0         25           31                None  ...          5    177   \n",
       "1         18           25  Driver & Passenger  ...          5    195   \n",
       "2         20           26         Driver only  ...          5    180   \n",
       "3         19           26  Driver & Passenger  ...          6    193   \n",
       "4         22           30         Driver only  ...          4    186   \n",
       "..       ...          ...                 ...  ...        ...    ...   \n",
       "88        17           21                None  ...          7    187   \n",
       "89        21           30                None  ...          5    180   \n",
       "90        18           25                None  ...          4    159   \n",
       "91        21           28         Driver only  ...          5    190   \n",
       "92        20           28  Driver & Passenger  ...          5    184   \n",
       "\n",
       "    Wheelbase  Width  Turn.circle  Rear.seat.room Luggage.room  Weight  \\\n",
       "0         102     68           37            26.5         11.0    2705   \n",
       "1         115     71           38            30.0         15.0    3560   \n",
       "2         102     67           37            28.0         14.0    3375   \n",
       "3         106     70           37            31.0         17.0    3405   \n",
       "4         109     69           39            27.0         13.0    3640   \n",
       "..        ...    ...          ...             ...          ...     ...   \n",
       "88        115     72           38            34.0          NaN    3960   \n",
       "89        103     67           35            31.5         14.0    2985   \n",
       "90         97     66           36            26.0         15.0    2810   \n",
       "91        104     67           37            29.5         14.0    2985   \n",
       "92        105     69           38            30.0         15.0    3245   \n",
       "\n",
       "     Origin                Make  \n",
       "0   non-USA       Acura Integra  \n",
       "1   non-USA        Acura Legend  \n",
       "2   non-USA             Audi 90  \n",
       "3   non-USA            Audi 100  \n",
       "4   non-USA            BMW 535i  \n",
       "..      ...                 ...  \n",
       "88  non-USA  Volkswagen Eurovan  \n",
       "89  non-USA   Volkswagen Passat  \n",
       "90  non-USA  Volkswagen Corrado  \n",
       "91  non-USA           Volvo 240  \n",
       "92  non-USA           Volvo 850  \n",
       "\n",
       "[93 rows x 28 columns]"
      ]
     },
     "execution_count": 16,
     "metadata": {},
     "output_type": "execute_result"
    }
   ],
   "source": [
    "car_data = pd.read_csv(\"/Users/Swati/Downloads/Car_sales.csv\")\n",
    "car_data"
   ]
  },
  {
   "cell_type": "code",
   "execution_count": 17,
   "id": "ece0553c",
   "metadata": {},
   "outputs": [
    {
     "data": {
      "text/plain": [
       "pandas.core.frame.DataFrame"
      ]
     },
     "execution_count": 17,
     "metadata": {},
     "output_type": "execute_result"
    }
   ],
   "source": [
    "type(car_data)\n"
   ]
  },
  {
   "cell_type": "code",
   "execution_count": 22,
   "id": "af36c6e2",
   "metadata": {},
   "outputs": [],
   "source": [
    "\n",
    "# car_Manufacturers = data.groupby('Manufacturer')\n",
    "# df = car_Manufacturers['Manufacturer','Passengers'].max()\n",
    "# print(df.max())\n"
   ]
  },
  {
   "cell_type": "code",
   "execution_count": 41,
   "id": "a24c41af",
   "metadata": {},
   "outputs": [
    {
     "name": "stdout",
     "output_type": "stream",
     "text": [
      "8\n"
     ]
    },
    {
     "data": {
      "text/plain": [
       "16    17\n",
       "Name: Index, dtype: int64"
      ]
     },
     "execution_count": 41,
     "metadata": {},
     "output_type": "execute_result"
    }
   ],
   "source": [
    "import pandas as pd\n",
    "import numpy as np\n",
    "car_Manufacturers = car_data.groupby('Manufacturer')\n",
    "df = car_Manufacturers['Passengers'].max()\n",
    "print(df.max())\n",
    "car_data[car_data['Passengers'] == 8] [\"Index\"]\n",
    "\n",
    "# row = car_data.loc[92]\n",
    "# print(row)"
   ]
  },
  {
   "cell_type": "markdown",
   "id": "79c22b4c",
   "metadata": {},
   "source": [
    "# Writing"
   ]
  },
  {
   "cell_type": "code",
   "execution_count": 17,
   "id": "c59dab74",
   "metadata": {},
   "outputs": [
    {
     "data": {
      "text/html": [
       "<div>\n",
       "<style scoped>\n",
       "    .dataframe tbody tr th:only-of-type {\n",
       "        vertical-align: middle;\n",
       "    }\n",
       "\n",
       "    .dataframe tbody tr th {\n",
       "        vertical-align: top;\n",
       "    }\n",
       "\n",
       "    .dataframe thead th {\n",
       "        text-align: right;\n",
       "    }\n",
       "</style>\n",
       "<table border=\"1\" class=\"dataframe\">\n",
       "  <thead>\n",
       "    <tr style=\"text-align: right;\">\n",
       "      <th></th>\n",
       "      <th>C1</th>\n",
       "      <th>C2</th>\n",
       "      <th>C3</th>\n",
       "    </tr>\n",
       "  </thead>\n",
       "  <tbody>\n",
       "    <tr>\n",
       "      <th>0</th>\n",
       "      <td>0</td>\n",
       "      <td>1</td>\n",
       "      <td>2</td>\n",
       "    </tr>\n",
       "    <tr>\n",
       "      <th>1</th>\n",
       "      <td>3</td>\n",
       "      <td>4</td>\n",
       "      <td>5</td>\n",
       "    </tr>\n",
       "    <tr>\n",
       "      <th>2</th>\n",
       "      <td>6</td>\n",
       "      <td>7</td>\n",
       "      <td>8</td>\n",
       "    </tr>\n",
       "    <tr>\n",
       "      <th>3</th>\n",
       "      <td>9</td>\n",
       "      <td>10</td>\n",
       "      <td>11</td>\n",
       "    </tr>\n",
       "    <tr>\n",
       "      <th>4</th>\n",
       "      <td>12</td>\n",
       "      <td>13</td>\n",
       "      <td>14</td>\n",
       "    </tr>\n",
       "  </tbody>\n",
       "</table>\n",
       "</div>"
      ],
      "text/plain": [
       "   C1  C2  C3\n",
       "0   0   1   2\n",
       "1   3   4   5\n",
       "2   6   7   8\n",
       "3   9  10  11\n",
       "4  12  13  14"
      ]
     },
     "execution_count": 17,
     "metadata": {},
     "output_type": "execute_result"
    }
   ],
   "source": [
    "dummy_data = pd.DataFrame(np.arange(15).reshape(5,3), columns = \"C1 C2 C3\".split())\n",
    "dummy_data"
   ]
  },
  {
   "cell_type": "code",
   "execution_count": 18,
   "id": "b02f1e99",
   "metadata": {},
   "outputs": [],
   "source": [
    "dummy_data.to_csv(\"Dummy_data.csv\", index = False)"
   ]
  },
  {
   "cell_type": "markdown",
   "id": "97151f23",
   "metadata": {},
   "source": [
    "# Excel Files"
   ]
  },
  {
   "cell_type": "markdown",
   "id": "9e42b9ef",
   "metadata": {},
   "source": [
    "## Reading "
   ]
  },
  {
   "cell_type": "code",
   "execution_count": 25,
   "id": "caf491c3",
   "metadata": {},
   "outputs": [
    {
     "data": {
      "text/html": [
       "<div>\n",
       "<style scoped>\n",
       "    .dataframe tbody tr th:only-of-type {\n",
       "        vertical-align: middle;\n",
       "    }\n",
       "\n",
       "    .dataframe tbody tr th {\n",
       "        vertical-align: top;\n",
       "    }\n",
       "\n",
       "    .dataframe thead th {\n",
       "        text-align: right;\n",
       "    }\n",
       "</style>\n",
       "<table border=\"1\" class=\"dataframe\">\n",
       "  <thead>\n",
       "    <tr style=\"text-align: right;\">\n",
       "      <th></th>\n",
       "      <th>X</th>\n",
       "      <th>Y</th>\n",
       "    </tr>\n",
       "  </thead>\n",
       "  <tbody>\n",
       "    <tr>\n",
       "      <th>0</th>\n",
       "      <td>0.7833</td>\n",
       "      <td>0.3562</td>\n",
       "    </tr>\n",
       "    <tr>\n",
       "      <th>1</th>\n",
       "      <td>0.9473</td>\n",
       "      <td>0.4253</td>\n",
       "    </tr>\n",
       "    <tr>\n",
       "      <th>2</th>\n",
       "      <td>0.6751</td>\n",
       "      <td>0.3762</td>\n",
       "    </tr>\n",
       "    <tr>\n",
       "      <th>3</th>\n",
       "      <td>0.7813</td>\n",
       "      <td>0.6773</td>\n",
       "    </tr>\n",
       "    <tr>\n",
       "      <th>4</th>\n",
       "      <td>0.4782</td>\n",
       "      <td>0.8378</td>\n",
       "    </tr>\n",
       "    <tr>\n",
       "      <th>5</th>\n",
       "      <td>0.1781</td>\n",
       "      <td>0.7181</td>\n",
       "    </tr>\n",
       "    <tr>\n",
       "      <th>6</th>\n",
       "      <td>0.3721</td>\n",
       "      <td>0.9372</td>\n",
       "    </tr>\n",
       "  </tbody>\n",
       "</table>\n",
       "</div>"
      ],
      "text/plain": [
       "        X       Y\n",
       "0  0.7833  0.3562\n",
       "1  0.9473  0.4253\n",
       "2  0.6751  0.3762\n",
       "3  0.7813  0.6773\n",
       "4  0.4782  0.8378\n",
       "5  0.1781  0.7181\n",
       "6  0.3721  0.9372"
      ]
     },
     "execution_count": 25,
     "metadata": {},
     "output_type": "execute_result"
    }
   ],
   "source": [
    "sample_data = pd.read_excel(\"food sales.xlsx\")\n",
    "sample_data"
   ]
  },
  {
   "cell_type": "markdown",
   "id": "0639d237",
   "metadata": {},
   "source": [
    "## Writing data"
   ]
  },
  {
   "cell_type": "code",
   "execution_count": 26,
   "id": "a4f8dff0",
   "metadata": {},
   "outputs": [],
   "source": [
    "dummy_data.to_excel(\"Excel_sample.xlsx\", sheet_name= \"Sheet1\", index = False)"
   ]
  },
  {
   "cell_type": "code",
   "execution_count": 27,
   "id": "90da9b46",
   "metadata": {},
   "outputs": [
    {
     "name": "stdout",
     "output_type": "stream",
     "text": [
      "   C1  C2  C3\n",
      "0   0   1   2\n",
      "1   3   4   5\n",
      "2   6   7   8\n",
      "3   9  10  11\n",
      "4  12  13  14\n"
     ]
    }
   ],
   "source": [
    "print(dummy_data)"
   ]
  },
  {
   "cell_type": "markdown",
   "id": "b14bd6ff",
   "metadata": {},
   "source": [
    "# Text Files"
   ]
  },
  {
   "cell_type": "markdown",
   "id": "3d204281",
   "metadata": {},
   "source": [
    "## Writing data to text files"
   ]
  },
  {
   "cell_type": "code",
   "execution_count": 28,
   "id": "d50d1a51",
   "metadata": {},
   "outputs": [],
   "source": [
    "dummy_data.to_csv(\"test.txt\", index = False)"
   ]
  },
  {
   "cell_type": "markdown",
   "id": "7bb7e6f4",
   "metadata": {},
   "source": [
    "## Reading data to text files"
   ]
  },
  {
   "cell_type": "code",
   "execution_count": 29,
   "id": "dac98462",
   "metadata": {},
   "outputs": [
    {
     "name": "stdout",
     "output_type": "stream",
     "text": [
      "<class 'pandas.core.frame.DataFrame'>\n",
      "   C1  C2  C3\n",
      "0   0   1   2\n",
      "1   3   4   5\n",
      "2   6   7   8\n",
      "3   9  10  11\n",
      "4  12  13  14\n"
     ]
    }
   ],
   "source": [
    "dat = pd.read_csv(\"test.txt\")\n",
    "print(type(dat))\n",
    "print(dat)"
   ]
  },
  {
   "cell_type": "markdown",
   "id": "e104c7f3",
   "metadata": {},
   "source": [
    "# HTML"
   ]
  },
  {
   "cell_type": "code",
   "execution_count": 30,
   "id": "9ef718e8",
   "metadata": {},
   "outputs": [
    {
     "data": {
      "text/plain": [
       "'<table border=\"1\" class=\"dataframe\">\\n  <thead>\\n    <tr style=\"text-align: right;\">\\n      <th></th>\\n      <th>C1</th>\\n      <th>C2</th>\\n      <th>C3</th>\\n    </tr>\\n  </thead>\\n  <tbody>\\n    <tr>\\n      <th>0</th>\\n      <td>0</td>\\n      <td>1</td>\\n      <td>2</td>\\n    </tr>\\n    <tr>\\n      <th>1</th>\\n      <td>3</td>\\n      <td>4</td>\\n      <td>5</td>\\n    </tr>\\n    <tr>\\n      <th>2</th>\\n      <td>6</td>\\n      <td>7</td>\\n      <td>8</td>\\n    </tr>\\n    <tr>\\n      <th>3</th>\\n      <td>9</td>\\n      <td>10</td>\\n      <td>11</td>\\n    </tr>\\n    <tr>\\n      <th>4</th>\\n      <td>12</td>\\n      <td>13</td>\\n      <td>14</td>\\n    </tr>\\n  </tbody>\\n</table>'"
      ]
     },
     "execution_count": 30,
     "metadata": {},
     "output_type": "execute_result"
    }
   ],
   "source": [
    "dummy_data.to_html()"
   ]
  },
  {
   "cell_type": "code",
   "execution_count": 32,
   "id": "2eca5ee3",
   "metadata": {},
   "outputs": [
    {
     "data": {
      "text/plain": [
       "list"
      ]
     },
     "execution_count": 32,
     "metadata": {},
     "output_type": "execute_result"
    }
   ],
   "source": [
    "url = \"Lists.html\"\n",
    "html_data = pd.read_html(url)\n",
    "type(html_data)"
   ]
  },
  {
   "cell_type": "code",
   "execution_count": 37,
   "id": "463c47c5",
   "metadata": {},
   "outputs": [],
   "source": [
    "pd.set_option(\"display.max_rows\", 2)\n",
    "type(html_data[0])"
   ]
  },
  {
   "cell_type": "code",
   "execution_count": null,
   "id": "dad47c62",
   "metadata": {},
   "outputs": [],
   "source": []
  }
 ],
 "metadata": {
  "kernelspec": {
   "display_name": "Python 3",
   "language": "python",
   "name": "python3"
  },
  "language_info": {
   "codemirror_mode": {
    "name": "ipython",
    "version": 3
   },
   "file_extension": ".py",
   "mimetype": "text/x-python",
   "name": "python",
   "nbconvert_exporter": "python",
   "pygments_lexer": "ipython3",
   "version": "3.8.8"
  }
 },
 "nbformat": 4,
 "nbformat_minor": 5
}
