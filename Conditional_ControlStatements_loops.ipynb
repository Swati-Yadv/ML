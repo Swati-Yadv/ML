{
 "cells": [
  {
   "cell_type": "markdown",
   "id": "c46ac2e5",
   "metadata": {},
   "source": [
    "# Comparison Operator"
   ]
  },
  {
   "cell_type": "code",
   "execution_count": 2,
   "id": "54747727",
   "metadata": {},
   "outputs": [
    {
     "name": "stdout",
     "output_type": "stream",
     "text": [
      "True\n",
      "False\n",
      "False\n"
     ]
    }
   ],
   "source": [
    "x = 10\n",
    "y = 9\n",
    "print(x > y)\n",
    "print(x < y)\n",
    "print( x==y)"
   ]
  },
  {
   "cell_type": "markdown",
   "id": "f15d41de",
   "metadata": {},
   "source": [
    "# Conditional Statements"
   ]
  },
  {
   "cell_type": "markdown",
   "id": "1ddd73ab",
   "metadata": {},
   "source": [
    "## If- Else"
   ]
  },
  {
   "cell_type": "code",
   "execution_count": 3,
   "id": "a661a98d",
   "metadata": {},
   "outputs": [
    {
     "name": "stdout",
     "output_type": "stream",
     "text": [
      "Equal to Zero\n"
     ]
    }
   ],
   "source": [
    "var1 = 0\n",
    "if var1>0:\n",
    "    print(\"Positive\")\n",
    "elif var1<0:\n",
    "    print(\"Negative\")\n",
    "else:\n",
    "    print(\"Equal to Zero\")"
   ]
  },
  {
   "cell_type": "markdown",
   "id": "00d38216",
   "metadata": {},
   "source": [
    "# Ternary Operator\n"
   ]
  },
  {
   "cell_type": "code",
   "execution_count": 4,
   "id": "6cdb6b0c",
   "metadata": {},
   "outputs": [
    {
     "name": "stdout",
     "output_type": "stream",
     "text": [
      "2\n"
     ]
    }
   ],
   "source": [
    "var1 = 2\n",
    "var2 = 8\n",
    "minimum = var1 if var1< var2 else var2\n",
    "print(minimum)"
   ]
  },
  {
   "cell_type": "markdown",
   "id": "24942639",
   "metadata": {},
   "source": [
    "# Loops"
   ]
  },
  {
   "cell_type": "markdown",
   "id": "9953f4b6",
   "metadata": {},
   "source": [
    "## While loop"
   ]
  },
  {
   "cell_type": "code",
   "execution_count": null,
   "id": "b79425a5",
   "metadata": {},
   "outputs": [],
   "source": [
    "a = 8\n",
    "while a <= 100:\n",
    "    print(a)\n",
    "    if a == 18:\n",
    "        break\n",
    "    a+= 1\n",
    "\n",
    "print(\"Series printed\")"
   ]
  },
  {
   "cell_type": "markdown",
   "id": "29e85e02",
   "metadata": {},
   "source": [
    "## For loop"
   ]
  },
  {
   "cell_type": "code",
   "execution_count": null,
   "id": "010b688c",
   "metadata": {},
   "outputs": [],
   "source": [
    "countries = [\"India\", \"South Korea\", \"Japan\"]\n",
    "for i in countries:\n",
    "    print(countries[i])"
   ]
  },
  {
   "cell_type": "markdown",
   "id": "77ca1acc",
   "metadata": {},
   "source": [
    "## continue"
   ]
  },
  {
   "cell_type": "code",
   "execution_count": null,
   "id": "5a78d539",
   "metadata": {},
   "outputs": [],
   "source": [
    "for i == \"Japan\":\n",
    "    continue\n",
    "    print(countries[i])"
   ]
  },
  {
   "cell_type": "code",
   "execution_count": null,
   "id": "ce733ab8",
   "metadata": {},
   "outputs": [],
   "source": [
    "for x in range(9):\n",
    "    print(x)"
   ]
  },
  {
   "cell_type": "code",
   "execution_count": null,
   "id": "6ee53f8f",
   "metadata": {},
   "outputs": [],
   "source": [
    "for x in range(2,9,3):\n",
    "    print(x)"
   ]
  },
  {
   "cell_type": "code",
   "execution_count": null,
   "id": "8a78b602",
   "metadata": {},
   "outputs": [],
   "source": []
  }
 ],
 "metadata": {
  "kernelspec": {
   "display_name": "Python 3",
   "language": "python",
   "name": "python3"
  },
  "language_info": {
   "codemirror_mode": {
    "name": "ipython",
    "version": 3
   },
   "file_extension": ".py",
   "mimetype": "text/x-python",
   "name": "python",
   "nbconvert_exporter": "python",
   "pygments_lexer": "ipython3",
   "version": "3.8.8"
  }
 },
 "nbformat": 4,
 "nbformat_minor": 5
}
