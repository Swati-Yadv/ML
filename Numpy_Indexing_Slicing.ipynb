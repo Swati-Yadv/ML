{
 "cells": [
  {
   "cell_type": "markdown",
   "id": "e16d4d42",
   "metadata": {},
   "source": [
    "# Indexing and Slicing"
   ]
  },
  {
   "cell_type": "code",
   "execution_count": 1,
   "id": "b09bdc0f",
   "metadata": {},
   "outputs": [
    {
     "name": "stdout",
     "output_type": "stream",
     "text": [
      "[ 0  1  2  3  4  5  6  7  8  9 10]\n"
     ]
    }
   ],
   "source": [
    "import numpy as np\n",
    "arr = np.arange(0,11)\n",
    "print(arr)"
   ]
  },
  {
   "cell_type": "code",
   "execution_count": 2,
   "id": "a0f2a58e",
   "metadata": {},
   "outputs": [
    {
     "name": "stdout",
     "output_type": "stream",
     "text": [
      "2\n"
     ]
    }
   ],
   "source": [
    "print(arr[2])   #print value at a given index"
   ]
  },
  {
   "cell_type": "code",
   "execution_count": 4,
   "id": "accfab16",
   "metadata": {},
   "outputs": [
    {
     "name": "stdout",
     "output_type": "stream",
     "text": [
      "[1 2 3 4 5]\n"
     ]
    }
   ],
   "source": [
    "print(arr[1:6])"
   ]
  },
  {
   "cell_type": "code",
   "execution_count": 5,
   "id": "ef9a4eb3",
   "metadata": {},
   "outputs": [
    {
     "name": "stdout",
     "output_type": "stream",
     "text": [
      "[0 1 2 3 4]\n"
     ]
    }
   ],
   "source": [
    "print(arr[:5])"
   ]
  },
  {
   "cell_type": "code",
   "execution_count": 6,
   "id": "83fed0fc",
   "metadata": {},
   "outputs": [
    {
     "name": "stdout",
     "output_type": "stream",
     "text": [
      "[2 4]\n"
     ]
    }
   ],
   "source": [
    "print(arr[2:6:2])"
   ]
  },
  {
   "cell_type": "code",
   "execution_count": 8,
   "id": "531ea675",
   "metadata": {},
   "outputs": [
    {
     "name": "stdout",
     "output_type": "stream",
     "text": [
      "[  0   1 201 201 201 201   6   7   8   9  10]\n"
     ]
    }
   ],
   "source": [
    "arr[2:6] = 201          #set the specified range elements to a particular value\n",
    "print(arr)"
   ]
  },
  {
   "cell_type": "code",
   "execution_count": 9,
   "id": "8ee4d392",
   "metadata": {},
   "outputs": [
    {
     "name": "stdout",
     "output_type": "stream",
     "text": [
      "[[ 0  1  2]\n",
      " [ 3  4  5]\n",
      " [ 6  7  8]\n",
      " [ 9 10 11]\n",
      " [12 13 14]]\n"
     ]
    }
   ],
   "source": [
    "mul_arr = np.arange(15).reshape(5,3)\n",
    "print(mul_arr)"
   ]
  },
  {
   "cell_type": "code",
   "execution_count": 12,
   "id": "a045c215",
   "metadata": {},
   "outputs": [
    {
     "name": "stdout",
     "output_type": "stream",
     "text": [
      "[[6 7 8]]\n"
     ]
    }
   ],
   "source": [
    "print(mul_arr[2:3])         #print 2nd row and  "
   ]
  },
  {
   "cell_type": "code",
   "execution_count": 14,
   "id": "f2b80a89",
   "metadata": {},
   "outputs": [
    {
     "name": "stdout",
     "output_type": "stream",
     "text": [
      "11\n"
     ]
    }
   ],
   "source": [
    "print(mul_arr[3,2])       #print element from 3(4th) row and col 2(3rd)  "
   ]
  },
  {
   "cell_type": "code",
   "execution_count": 16,
   "id": "7bb500c9",
   "metadata": {},
   "outputs": [
    {
     "name": "stdout",
     "output_type": "stream",
     "text": [
      "[ 7 10]\n"
     ]
    }
   ],
   "source": [
    "print(mul_arr[2:4, 1])         #print 2nd column(1) for 2nd row through 4th row(4th row excluded)"
   ]
  },
  {
   "cell_type": "markdown",
   "id": "063c2728",
   "metadata": {},
   "source": [
    "# Boolean Indexing"
   ]
  },
  {
   "cell_type": "code",
   "execution_count": 17,
   "id": "8c352724",
   "metadata": {},
   "outputs": [
    {
     "name": "stdout",
     "output_type": "stream",
     "text": [
      "[0 1 2 3 4 5 6]\n"
     ]
    }
   ],
   "source": [
    "import numpy as np\n",
    "arr1 = np.arange(0,7)\n",
    "print(arr1)"
   ]
  },
  {
   "cell_type": "code",
   "execution_count": 19,
   "id": "ccff426c",
   "metadata": {},
   "outputs": [
    {
     "name": "stdout",
     "output_type": "stream",
     "text": [
      "[0 2 3 5]\n"
     ]
    }
   ],
   "source": [
    "mod = [True, False, True, True, False, True, False]\n",
    "print(arr1[mod])         #prints elements with indexes true"
   ]
  },
  {
   "cell_type": "code",
   "execution_count": 21,
   "id": "ac1158bd",
   "metadata": {},
   "outputs": [
    {
     "name": "stdout",
     "output_type": "stream",
     "text": [
      "[False False False False False  True  True]\n"
     ]
    }
   ],
   "source": [
    "limit = 4\n",
    "above_limit = arr1>limit\n",
    "print(above_limit)"
   ]
  },
  {
   "cell_type": "code",
   "execution_count": 23,
   "id": "b21c2390",
   "metadata": {},
   "outputs": [
    {
     "name": "stdout",
     "output_type": "stream",
     "text": [
      "[5 6]\n"
     ]
    }
   ],
   "source": [
    "print(arr1[above_limit])     #prints list of elements above limit"
   ]
  },
  {
   "cell_type": "code",
   "execution_count": 25,
   "id": "fe3a6252",
   "metadata": {},
   "outputs": [
    {
     "name": "stdout",
     "output_type": "stream",
     "text": [
      "[[0 1]\n",
      " [2 3]\n",
      " [4 5]\n",
      " [6 7]\n",
      " [8 9]]\n"
     ]
    }
   ],
   "source": [
    "a = np.arange(10).reshape(5,2)\n",
    "print(a)"
   ]
  },
  {
   "cell_type": "code",
   "execution_count": 27,
   "id": "d5136f48",
   "metadata": {},
   "outputs": [
    {
     "name": "stdout",
     "output_type": "stream",
     "text": [
      "[[0 1]\n",
      " [4 5]\n",
      " [8 9]]\n"
     ]
    }
   ],
   "source": [
    "b1 = np.array([True, False,True, False, True]) #prints the rows in a for which b1 holds true\n",
    "print(a[b1])"
   ]
  },
  {
   "cell_type": "markdown",
   "id": "afecd829",
   "metadata": {},
   "source": [
    "# Copy"
   ]
  },
  {
   "cell_type": "markdown",
   "id": "c0d25ac3",
   "metadata": {},
   "source": [
    "No copy, Shallow copy, Deep copy\n"
   ]
  },
  {
   "cell_type": "markdown",
   "id": "f214d916",
   "metadata": {},
   "source": [
    "## No copy"
   ]
  },
  {
   "cell_type": "code",
   "execution_count": 28,
   "id": "8d83a65e",
   "metadata": {},
   "outputs": [
    {
     "name": "stdout",
     "output_type": "stream",
     "text": [
      "[  0   1 201 201 201 201   6   7   8   9  10]\n"
     ]
    }
   ],
   "source": [
    "print(arr)"
   ]
  },
  {
   "cell_type": "code",
   "execution_count": 32,
   "id": "1b9b97b0",
   "metadata": {},
   "outputs": [
    {
     "name": "stdout",
     "output_type": "stream",
     "text": [
      "[  0   1  29  29 201 201   6   7   8   9  10]\n",
      "True\n"
     ]
    }
   ],
   "source": [
    "new_arr = arr\n",
    "print(new_arr)\n",
    "print(new_arr is arr)   #checks if both are same object"
   ]
  },
  {
   "cell_type": "code",
   "execution_count": 30,
   "id": "746f867e",
   "metadata": {},
   "outputs": [
    {
     "name": "stdout",
     "output_type": "stream",
     "text": [
      "[  0   1  29  29 201 201   6   7   8   9  10]\n"
     ]
    }
   ],
   "source": [
    "new_arr[2:4] = 29    #modifying content for new_arr\n",
    "print(new_arr)"
   ]
  },
  {
   "cell_type": "code",
   "execution_count": 31,
   "id": "1608e66e",
   "metadata": {},
   "outputs": [
    {
     "name": "stdout",
     "output_type": "stream",
     "text": [
      "[  0   1  29  29 201 201   6   7   8   9  10]\n"
     ]
    }
   ],
   "source": [
    "print(arr)    #note that the content for arr has also changed"
   ]
  },
  {
   "cell_type": "markdown",
   "id": "ff24121d",
   "metadata": {},
   "source": [
    "## Deep copy"
   ]
  },
  {
   "cell_type": "code",
   "execution_count": 33,
   "id": "c9a1e2b9",
   "metadata": {},
   "outputs": [],
   "source": [
    "arr = np.arange(9)"
   ]
  },
  {
   "cell_type": "code",
   "execution_count": 34,
   "id": "ef361702",
   "metadata": {},
   "outputs": [
    {
     "name": "stdout",
     "output_type": "stream",
     "text": [
      "[0 1 2 3 4 5 6 7 8]\n",
      "[0 1 2 3 4 5 6 7 8]\n",
      "False\n"
     ]
    }
   ],
   "source": [
    "print(arr)\n",
    "new_arr = arr.copy()\n",
    "print(new_arr)\n",
    "print(new_arr is arr)"
   ]
  },
  {
   "cell_type": "code",
   "execution_count": 35,
   "id": "622e48f7",
   "metadata": {},
   "outputs": [
    {
     "name": "stdout",
     "output_type": "stream",
     "text": [
      "[ 0  1 78 78 78  5  6  7  8]\n",
      "[0 1 2 3 4 5 6 7 8]\n"
     ]
    }
   ],
   "source": [
    "new_arr[2:5] = 78\n",
    "print(new_arr)\n",
    "print(arr)       #new_arr and arr are not same"
   ]
  },
  {
   "cell_type": "code",
   "execution_count": 4,
   "id": "c1c46523",
   "metadata": {},
   "outputs": [
    {
     "data": {
      "text/plain": [
       "array([ 0.86337824, -0.23513645,  0.48087106, -1.41549279, -0.74028368,\n",
       "        0.04689656, -0.81776543, -0.00639514, -0.66324603, -0.20814301,\n",
       "        0.43511904, -1.54741579, -1.28275783, -1.18692996,  0.5624093 ,\n",
       "       -1.35435586, -0.68218707, -1.27695806, -0.64313382,  1.023663  ,\n",
       "       -0.79067382, -0.36865854, -1.29330327,  0.4915024 ,  1.45355967,\n",
       "        0.39576479,  1.2182946 , -0.64042714, -0.07100987, -0.5637136 ,\n",
       "       -1.75108076, -1.0372571 , -0.03495359, -1.00401114, -2.3556887 ,\n",
       "       -1.29891057,  0.53169682, -0.11302582, -0.65065333, -1.09967842,\n",
       "        0.07669084,  0.60946606, -0.91542346,  1.13245398, -0.49144369,\n",
       "        0.07930359,  0.24765793,  0.39505176, -0.10326875, -2.73021089,\n",
       "        1.06404315, -0.44874644, -0.60783266,  0.62028091,  1.72655723,\n",
       "        1.33452052, -0.7656118 ,  0.54489867,  1.77618242, -1.88322068,\n",
       "        1.07395473,  0.03601307, -0.15887241, -0.233196  ,  0.55339519,\n",
       "       -1.36604983, -1.90264236,  0.99655241,  0.38570836,  1.04438851,\n",
       "       -0.64823533,  1.86771208, -0.78806923, -0.30963241,  1.53710921,\n",
       "        0.64666096, -0.25651182, -0.52630445, -1.25299346,  0.16695732,\n",
       "       -1.83340859,  0.90548271, -0.67842426,  0.18178319, -0.06981275,\n",
       "        0.24814034,  0.10447139, -1.12801501,  1.81440821, -0.04856659,\n",
       "       -0.37012579,  1.28452248,  1.44727925,  0.04064426,  0.24534917,\n",
       "        0.50924499,  1.19536956, -0.17229475, -2.0376889 , -1.33416216])"
      ]
     },
     "execution_count": 4,
     "metadata": {},
     "output_type": "execute_result"
    }
   ],
   "source": [
    "import numpy as np\n",
    "s = np.random.standard_normal(100)\n",
    "s"
   ]
  },
  {
   "cell_type": "code",
   "execution_count": 16,
   "id": "3e8fc995",
   "metadata": {},
   "outputs": [
    {
     "data": {
      "text/plain": [
       "8"
      ]
     },
     "execution_count": 16,
     "metadata": {},
     "output_type": "execute_result"
    }
   ],
   "source": [
    "import numpy as np\n",
    "array1 = np.random.randint(28)\n",
    "array1"
   ]
  },
  {
   "cell_type": "code",
   "execution_count": 25,
   "id": "c2260b50",
   "metadata": {},
   "outputs": [
    {
     "name": "stdout",
     "output_type": "stream",
     "text": [
      "4\n"
     ]
    }
   ],
   "source": [
    "import numpy as np\n",
    "arr =  np.random.randint(0,20,32).reshape(2,2,2,4)\n",
    "print(arr.ndim)\n"
   ]
  },
  {
   "cell_type": "code",
   "execution_count": 26,
   "id": "09def37a",
   "metadata": {},
   "outputs": [
    {
     "name": "stdout",
     "output_type": "stream",
     "text": [
      "[10.         10.1010101  10.2020202  10.3030303  10.4040404  10.50505051\n",
      " 10.60606061 10.70707071 10.80808081 10.90909091 11.01010101 11.11111111\n",
      " 11.21212121 11.31313131 11.41414141 11.51515152 11.61616162 11.71717172\n",
      " 11.81818182 11.91919192 12.02020202 12.12121212 12.22222222 12.32323232\n",
      " 12.42424242 12.52525253 12.62626263 12.72727273 12.82828283 12.92929293\n",
      " 13.03030303 13.13131313 13.23232323 13.33333333 13.43434343 13.53535354\n",
      " 13.63636364 13.73737374 13.83838384 13.93939394 14.04040404 14.14141414\n",
      " 14.24242424 14.34343434 14.44444444 14.54545455 14.64646465 14.74747475\n",
      " 14.84848485 14.94949495 15.05050505 15.15151515 15.25252525 15.35353535\n",
      " 15.45454545 15.55555556 15.65656566 15.75757576 15.85858586 15.95959596\n",
      " 16.06060606 16.16161616 16.26262626 16.36363636 16.46464646 16.56565657\n",
      " 16.66666667 16.76767677 16.86868687 16.96969697 17.07070707 17.17171717\n",
      " 17.27272727 17.37373737 17.47474747 17.57575758 17.67676768 17.77777778\n",
      " 17.87878788 17.97979798 18.08080808 18.18181818 18.28282828 18.38383838\n",
      " 18.48484848 18.58585859 18.68686869 18.78787879 18.88888889 18.98989899\n",
      " 19.09090909 19.19191919 19.29292929 19.39393939 19.49494949 19.5959596\n",
      " 19.6969697  19.7979798  19.8989899  20.        ]\n"
     ]
    }
   ],
   "source": [
    "x = np.linspace(10,20,100)\n",
    "print(x)"
   ]
  },
  {
   "cell_type": "code",
   "execution_count": 34,
   "id": "38574db3",
   "metadata": {},
   "outputs": [
    {
     "name": "stdout",
     "output_type": "stream",
     "text": [
      "[[ 2  0 16  9 17]\n",
      " [17 17 10  5  2]\n",
      " [13 16  5  4 17]\n",
      " [17  3 15  8  6]\n",
      " [ 8 18  1 12  6]]\n",
      "[[ 2  0]\n",
      " [17 17]\n",
      " [13 16]\n",
      " [17  3]\n",
      " [ 8 18]]\n"
     ]
    }
   ],
   "source": [
    "import numpy as np\n",
    "arr =  np.random.randint(0,20,25).reshape(5,5)\n",
    "print(arr)\n",
    "\n",
    "print(arr[:,0:2])\n"
   ]
  },
  {
   "cell_type": "code",
   "execution_count": 41,
   "id": "053c900f",
   "metadata": {},
   "outputs": [
    {
     "name": "stdout",
     "output_type": "stream",
     "text": [
      "[14 19 18 18 13 19 19 16 12 19 14 14 11 10 13 14 12 14 18 11 14 12 14 14\n",
      " 16]\n",
      "368\n",
      "19\n",
      "10\n"
     ]
    }
   ],
   "source": [
    "arr = np.random.randint(10,20, 25)\n",
    "print(arr)\n",
    "print(arr.sum())\n",
    "print(arr.max())\n",
    "print(arr.min())"
   ]
  },
  {
   "cell_type": "code",
   "execution_count": 43,
   "id": "f0fac9ad",
   "metadata": {},
   "outputs": [
    {
     "name": "stdout",
     "output_type": "stream",
     "text": [
      "[11 17 10 14 17 11 10 10 11 17 17 10 19 15 15 13 10 13 17 13 15 11 18 11\n",
      " 17]\n"
     ]
    },
    {
     "data": {
      "text/plain": [
       "array([17, 14, 17])"
      ]
     },
     "execution_count": 43,
     "metadata": {},
     "output_type": "execute_result"
    }
   ],
   "source": [
    "arr = np.random.randint(10,20, 25)\n",
    "print(arr)\n",
    "Idx = [1,3,4]\n",
    "arr[Idx]\n",
    "# array(['a', 'd', 'h'], \n",
    "#       dtype='|S1')"
   ]
  },
  {
   "cell_type": "code",
   "execution_count": 56,
   "id": "c98c226e",
   "metadata": {},
   "outputs": [
    {
     "data": {
      "text/html": [
       "<div>\n",
       "<style scoped>\n",
       "    .dataframe tbody tr th:only-of-type {\n",
       "        vertical-align: middle;\n",
       "    }\n",
       "\n",
       "    .dataframe tbody tr th {\n",
       "        vertical-align: top;\n",
       "    }\n",
       "\n",
       "    .dataframe thead th {\n",
       "        text-align: right;\n",
       "    }\n",
       "</style>\n",
       "<table border=\"1\" class=\"dataframe\">\n",
       "  <thead>\n",
       "    <tr style=\"text-align: right;\">\n",
       "      <th></th>\n",
       "      <th>Unnamed: 0</th>\n",
       "      <th>Manufacturer</th>\n",
       "      <th>Model</th>\n",
       "      <th>Type</th>\n",
       "      <th>Min.Price</th>\n",
       "      <th>Price</th>\n",
       "      <th>Max.Price</th>\n",
       "      <th>MPG.city</th>\n",
       "      <th>MPG.highway</th>\n",
       "      <th>AirBags</th>\n",
       "      <th>...</th>\n",
       "      <th>Passengers</th>\n",
       "      <th>Length</th>\n",
       "      <th>Wheelbase</th>\n",
       "      <th>Width</th>\n",
       "      <th>Turn.circle</th>\n",
       "      <th>Rear.seat.room</th>\n",
       "      <th>Luggage.room</th>\n",
       "      <th>Weight</th>\n",
       "      <th>Origin</th>\n",
       "      <th>Make</th>\n",
       "    </tr>\n",
       "  </thead>\n",
       "  <tbody>\n",
       "    <tr>\n",
       "      <th>30</th>\n",
       "      <td>31</td>\n",
       "      <td>Ford</td>\n",
       "      <td>Festiva</td>\n",
       "      <td>Small</td>\n",
       "      <td>6.9</td>\n",
       "      <td>7.4</td>\n",
       "      <td>7.9</td>\n",
       "      <td>31</td>\n",
       "      <td>33</td>\n",
       "      <td>None</td>\n",
       "      <td>...</td>\n",
       "      <td>4</td>\n",
       "      <td>141</td>\n",
       "      <td>90</td>\n",
       "      <td>63</td>\n",
       "      <td>33</td>\n",
       "      <td>26.0</td>\n",
       "      <td>12.0</td>\n",
       "      <td>1845</td>\n",
       "      <td>USA</td>\n",
       "      <td>Ford Festiva</td>\n",
       "    </tr>\n",
       "    <tr>\n",
       "      <th>43</th>\n",
       "      <td>44</td>\n",
       "      <td>Hyundai</td>\n",
       "      <td>Excel</td>\n",
       "      <td>Small</td>\n",
       "      <td>6.8</td>\n",
       "      <td>8.0</td>\n",
       "      <td>9.2</td>\n",
       "      <td>29</td>\n",
       "      <td>33</td>\n",
       "      <td>None</td>\n",
       "      <td>...</td>\n",
       "      <td>5</td>\n",
       "      <td>168</td>\n",
       "      <td>94</td>\n",
       "      <td>63</td>\n",
       "      <td>35</td>\n",
       "      <td>26.0</td>\n",
       "      <td>11.0</td>\n",
       "      <td>2345</td>\n",
       "      <td>non-USA</td>\n",
       "      <td>Hyundai Excel</td>\n",
       "    </tr>\n",
       "    <tr>\n",
       "      <th>52</th>\n",
       "      <td>53</td>\n",
       "      <td>Mazda</td>\n",
       "      <td>323</td>\n",
       "      <td>Small</td>\n",
       "      <td>7.4</td>\n",
       "      <td>8.3</td>\n",
       "      <td>9.1</td>\n",
       "      <td>29</td>\n",
       "      <td>37</td>\n",
       "      <td>None</td>\n",
       "      <td>...</td>\n",
       "      <td>4</td>\n",
       "      <td>164</td>\n",
       "      <td>97</td>\n",
       "      <td>66</td>\n",
       "      <td>34</td>\n",
       "      <td>27.0</td>\n",
       "      <td>16.0</td>\n",
       "      <td>2325</td>\n",
       "      <td>non-USA</td>\n",
       "      <td>Mazda 323</td>\n",
       "    </tr>\n",
       "    <tr>\n",
       "      <th>38</th>\n",
       "      <td>39</td>\n",
       "      <td>Geo</td>\n",
       "      <td>Metro</td>\n",
       "      <td>Small</td>\n",
       "      <td>6.7</td>\n",
       "      <td>8.4</td>\n",
       "      <td>10.0</td>\n",
       "      <td>46</td>\n",
       "      <td>50</td>\n",
       "      <td>None</td>\n",
       "      <td>...</td>\n",
       "      <td>4</td>\n",
       "      <td>151</td>\n",
       "      <td>93</td>\n",
       "      <td>63</td>\n",
       "      <td>34</td>\n",
       "      <td>27.5</td>\n",
       "      <td>10.0</td>\n",
       "      <td>1695</td>\n",
       "      <td>non-USA</td>\n",
       "      <td>Geo Metro</td>\n",
       "    </tr>\n",
       "    <tr>\n",
       "      <th>79</th>\n",
       "      <td>80</td>\n",
       "      <td>Subaru</td>\n",
       "      <td>Justy</td>\n",
       "      <td>Small</td>\n",
       "      <td>7.3</td>\n",
       "      <td>8.4</td>\n",
       "      <td>9.5</td>\n",
       "      <td>33</td>\n",
       "      <td>37</td>\n",
       "      <td>None</td>\n",
       "      <td>...</td>\n",
       "      <td>4</td>\n",
       "      <td>146</td>\n",
       "      <td>90</td>\n",
       "      <td>60</td>\n",
       "      <td>32</td>\n",
       "      <td>23.5</td>\n",
       "      <td>10.0</td>\n",
       "      <td>2045</td>\n",
       "      <td>non-USA</td>\n",
       "      <td>Subaru Justy</td>\n",
       "    </tr>\n",
       "    <tr>\n",
       "      <th>...</th>\n",
       "      <td>...</td>\n",
       "      <td>...</td>\n",
       "      <td>...</td>\n",
       "      <td>...</td>\n",
       "      <td>...</td>\n",
       "      <td>...</td>\n",
       "      <td>...</td>\n",
       "      <td>...</td>\n",
       "      <td>...</td>\n",
       "      <td>...</td>\n",
       "      <td>...</td>\n",
       "      <td>...</td>\n",
       "      <td>...</td>\n",
       "      <td>...</td>\n",
       "      <td>...</td>\n",
       "      <td>...</td>\n",
       "      <td>...</td>\n",
       "      <td>...</td>\n",
       "      <td>...</td>\n",
       "      <td>...</td>\n",
       "      <td>...</td>\n",
       "    </tr>\n",
       "    <tr>\n",
       "      <th>3</th>\n",
       "      <td>4</td>\n",
       "      <td>Audi</td>\n",
       "      <td>100</td>\n",
       "      <td>Midsize</td>\n",
       "      <td>30.8</td>\n",
       "      <td>37.7</td>\n",
       "      <td>44.6</td>\n",
       "      <td>19</td>\n",
       "      <td>26</td>\n",
       "      <td>Driver &amp; Passenger</td>\n",
       "      <td>...</td>\n",
       "      <td>6</td>\n",
       "      <td>193</td>\n",
       "      <td>106</td>\n",
       "      <td>70</td>\n",
       "      <td>37</td>\n",
       "      <td>31.0</td>\n",
       "      <td>17.0</td>\n",
       "      <td>3405</td>\n",
       "      <td>non-USA</td>\n",
       "      <td>Audi 100</td>\n",
       "    </tr>\n",
       "    <tr>\n",
       "      <th>18</th>\n",
       "      <td>19</td>\n",
       "      <td>Chevrolet</td>\n",
       "      <td>Corvette</td>\n",
       "      <td>Sporty</td>\n",
       "      <td>34.6</td>\n",
       "      <td>38.0</td>\n",
       "      <td>41.5</td>\n",
       "      <td>17</td>\n",
       "      <td>25</td>\n",
       "      <td>Driver only</td>\n",
       "      <td>...</td>\n",
       "      <td>2</td>\n",
       "      <td>179</td>\n",
       "      <td>96</td>\n",
       "      <td>74</td>\n",
       "      <td>43</td>\n",
       "      <td>NaN</td>\n",
       "      <td>NaN</td>\n",
       "      <td>3380</td>\n",
       "      <td>USA</td>\n",
       "      <td>Chevrolet Corvette</td>\n",
       "    </tr>\n",
       "    <tr>\n",
       "      <th>10</th>\n",
       "      <td>11</td>\n",
       "      <td>Cadillac</td>\n",
       "      <td>Seville</td>\n",
       "      <td>Midsize</td>\n",
       "      <td>37.5</td>\n",
       "      <td>40.1</td>\n",
       "      <td>42.7</td>\n",
       "      <td>16</td>\n",
       "      <td>25</td>\n",
       "      <td>Driver &amp; Passenger</td>\n",
       "      <td>...</td>\n",
       "      <td>5</td>\n",
       "      <td>204</td>\n",
       "      <td>111</td>\n",
       "      <td>74</td>\n",
       "      <td>44</td>\n",
       "      <td>31.0</td>\n",
       "      <td>14.0</td>\n",
       "      <td>3935</td>\n",
       "      <td>USA</td>\n",
       "      <td>Cadillac Seville</td>\n",
       "    </tr>\n",
       "    <tr>\n",
       "      <th>47</th>\n",
       "      <td>48</td>\n",
       "      <td>Infiniti</td>\n",
       "      <td>Q45</td>\n",
       "      <td>Midsize</td>\n",
       "      <td>45.4</td>\n",
       "      <td>47.9</td>\n",
       "      <td>50.4</td>\n",
       "      <td>17</td>\n",
       "      <td>22</td>\n",
       "      <td>Driver only</td>\n",
       "      <td>...</td>\n",
       "      <td>5</td>\n",
       "      <td>200</td>\n",
       "      <td>113</td>\n",
       "      <td>72</td>\n",
       "      <td>42</td>\n",
       "      <td>29.0</td>\n",
       "      <td>15.0</td>\n",
       "      <td>4000</td>\n",
       "      <td>non-USA</td>\n",
       "      <td>Infiniti Q45</td>\n",
       "    </tr>\n",
       "    <tr>\n",
       "      <th>58</th>\n",
       "      <td>59</td>\n",
       "      <td>Mercedes-Benz</td>\n",
       "      <td>300E</td>\n",
       "      <td>Midsize</td>\n",
       "      <td>43.8</td>\n",
       "      <td>61.9</td>\n",
       "      <td>80.0</td>\n",
       "      <td>19</td>\n",
       "      <td>25</td>\n",
       "      <td>Driver &amp; Passenger</td>\n",
       "      <td>...</td>\n",
       "      <td>5</td>\n",
       "      <td>187</td>\n",
       "      <td>110</td>\n",
       "      <td>69</td>\n",
       "      <td>37</td>\n",
       "      <td>27.0</td>\n",
       "      <td>15.0</td>\n",
       "      <td>3525</td>\n",
       "      <td>non-USA</td>\n",
       "      <td>Mercedes-Benz 300E</td>\n",
       "    </tr>\n",
       "  </tbody>\n",
       "</table>\n",
       "<p>93 rows × 28 columns</p>\n",
       "</div>"
      ],
      "text/plain": [
       "    Unnamed: 0   Manufacturer     Model     Type  Min.Price  Price  Max.Price  \\\n",
       "30          31           Ford   Festiva    Small        6.9    7.4        7.9   \n",
       "43          44        Hyundai     Excel    Small        6.8    8.0        9.2   \n",
       "52          53          Mazda       323    Small        7.4    8.3        9.1   \n",
       "38          39            Geo     Metro    Small        6.7    8.4       10.0   \n",
       "79          80         Subaru     Justy    Small        7.3    8.4        9.5   \n",
       "..         ...            ...       ...      ...        ...    ...        ...   \n",
       "3            4           Audi       100  Midsize       30.8   37.7       44.6   \n",
       "18          19      Chevrolet  Corvette   Sporty       34.6   38.0       41.5   \n",
       "10          11       Cadillac   Seville  Midsize       37.5   40.1       42.7   \n",
       "47          48       Infiniti       Q45  Midsize       45.4   47.9       50.4   \n",
       "58          59  Mercedes-Benz      300E  Midsize       43.8   61.9       80.0   \n",
       "\n",
       "    MPG.city  MPG.highway             AirBags  ... Passengers Length  \\\n",
       "30        31           33                None  ...          4    141   \n",
       "43        29           33                None  ...          5    168   \n",
       "52        29           37                None  ...          4    164   \n",
       "38        46           50                None  ...          4    151   \n",
       "79        33           37                None  ...          4    146   \n",
       "..       ...          ...                 ...  ...        ...    ...   \n",
       "3         19           26  Driver & Passenger  ...          6    193   \n",
       "18        17           25         Driver only  ...          2    179   \n",
       "10        16           25  Driver & Passenger  ...          5    204   \n",
       "47        17           22         Driver only  ...          5    200   \n",
       "58        19           25  Driver & Passenger  ...          5    187   \n",
       "\n",
       "    Wheelbase  Width  Turn.circle  Rear.seat.room Luggage.room  Weight  \\\n",
       "30         90     63           33            26.0         12.0    1845   \n",
       "43         94     63           35            26.0         11.0    2345   \n",
       "52         97     66           34            27.0         16.0    2325   \n",
       "38         93     63           34            27.5         10.0    1695   \n",
       "79         90     60           32            23.5         10.0    2045   \n",
       "..        ...    ...          ...             ...          ...     ...   \n",
       "3         106     70           37            31.0         17.0    3405   \n",
       "18         96     74           43             NaN          NaN    3380   \n",
       "10        111     74           44            31.0         14.0    3935   \n",
       "47        113     72           42            29.0         15.0    4000   \n",
       "58        110     69           37            27.0         15.0    3525   \n",
       "\n",
       "     Origin                Make  \n",
       "30      USA        Ford Festiva  \n",
       "43  non-USA       Hyundai Excel  \n",
       "52  non-USA           Mazda 323  \n",
       "38  non-USA           Geo Metro  \n",
       "79  non-USA        Subaru Justy  \n",
       "..      ...                 ...  \n",
       "3   non-USA            Audi 100  \n",
       "18      USA  Chevrolet Corvette  \n",
       "10      USA    Cadillac Seville  \n",
       "47  non-USA        Infiniti Q45  \n",
       "58  non-USA  Mercedes-Benz 300E  \n",
       "\n",
       "[93 rows x 28 columns]"
      ]
     },
     "execution_count": 56,
     "metadata": {},
     "output_type": "execute_result"
    }
   ],
   "source": [
    "import pandas as pd\n",
    "data = pd.read_csv(\"car_sales.csv\")\n",
    "data.sort_values(\"Price\")"
   ]
  },
  {
   "cell_type": "code",
   "execution_count": 75,
   "id": "347200a5",
   "metadata": {},
   "outputs": [
    {
     "name": "stdout",
     "output_type": "stream",
     "text": [
      "32\n"
     ]
    }
   ],
   "source": [
    "import pandas as pd\n",
    "data = pd.read_csv(\"car_sales.csv\")\n",
    "print(data[\"Manufacturer\"].nunique())"
   ]
  },
  {
   "cell_type": "code",
   "execution_count": 77,
   "id": "391281e2",
   "metadata": {},
   "outputs": [
    {
     "name": "stdout",
     "output_type": "stream",
     "text": [
      "119\n"
     ]
    }
   ],
   "source": [
    "print(data[\"Wheelbase\"].max())"
   ]
  },
  {
   "cell_type": "code",
   "execution_count": 78,
   "id": "cfbd55f9",
   "metadata": {},
   "outputs": [
    {
     "name": "stdout",
     "output_type": "stream",
     "text": [
      "Manufacturer    Volvo\n",
      "Wheelbase         119\n",
      "dtype: object\n"
     ]
    },
    {
     "name": "stderr",
     "output_type": "stream",
     "text": [
      "<ipython-input-78-b94e0efefdaa>:2: FutureWarning: Indexing with multiple keys (implicitly converted to a tuple of keys) will be deprecated, use a list instead.\n",
      "  priceDf = car_Manufacturers['Manufacturer','Wheelbase'].max()\n"
     ]
    }
   ],
   "source": [
    "car_Manufacturers = df.groupby('Manufacturer')\n",
    "priceDf = car_Manufacturers['Manufacturer','Wheelbase'].max()\n",
    "print(priceDf.max())"
   ]
  },
  {
   "cell_type": "code",
   "execution_count": 93,
   "id": "9b07d776",
   "metadata": {},
   "outputs": [
    {
     "name": "stdout",
     "output_type": "stream",
     "text": [
      "Manufacturer    Volvo\n",
      "Passengers          8\n",
      "dtype: object\n",
      "    Unnamed: 0 Manufacturer Model     Type  Min.Price  Price  Max.Price  \\\n",
      "91          92        Volvo   240  Compact       21.8   22.7       23.5   \n",
      "92          93        Volvo   850  Midsize       24.8   26.7       28.5   \n",
      "\n",
      "    MPG.city  MPG.highway             AirBags  ... Passengers Length  \\\n",
      "91        21           28         Driver only  ...          5    190   \n",
      "92        20           28  Driver & Passenger  ...          5    184   \n",
      "\n",
      "    Wheelbase  Width  Turn.circle  Rear.seat.room Luggage.room  Weight  \\\n",
      "91        104     67           37            29.5         14.0    2985   \n",
      "92        105     69           38            30.0         15.0    3245   \n",
      "\n",
      "     Origin       Make  \n",
      "91  non-USA  Volvo 240  \n",
      "92  non-USA  Volvo 850  \n",
      "\n",
      "[2 rows x 28 columns]\n"
     ]
    },
    {
     "name": "stderr",
     "output_type": "stream",
     "text": [
      "<ipython-input-93-3cdb2754de6a>:2: FutureWarning: Indexing with multiple keys (implicitly converted to a tuple of keys) will be deprecated, use a list instead.\n",
      "  df = car_Manufacturers['Manufacturer','Passengers'].max()\n"
     ]
    }
   ],
   "source": [
    "car_Manufacturers = data.groupby('Manufacturer')\n",
    "df = car_Manufacturers['Manufacturer','Passengers'].max()\n",
    "print(df.max())\n",
    "\n",
    "volvoDf = car_Manufacturers.get_group('Volvo')\n",
    "print(volvoDf)\n",
    "\n"
   ]
  },
  {
   "cell_type": "code",
   "execution_count": null,
   "id": "6703d4ec",
   "metadata": {},
   "outputs": [],
   "source": []
  },
  {
   "cell_type": "code",
   "execution_count": null,
   "id": "7f6bd82e",
   "metadata": {},
   "outputs": [],
   "source": []
  }
 ],
 "metadata": {
  "kernelspec": {
   "display_name": "Python 3",
   "language": "python",
   "name": "python3"
  },
  "language_info": {
   "codemirror_mode": {
    "name": "ipython",
    "version": 3
   },
   "file_extension": ".py",
   "mimetype": "text/x-python",
   "name": "python",
   "nbconvert_exporter": "python",
   "pygments_lexer": "ipython3",
   "version": "3.8.8"
  }
 },
 "nbformat": 4,
 "nbformat_minor": 5
}
