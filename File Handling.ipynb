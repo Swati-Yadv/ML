{
 "cells": [
  {
   "cell_type": "markdown",
   "id": "fd39b793",
   "metadata": {},
   "source": [
    "## File Handling"
   ]
  },
  {
   "cell_type": "markdown",
   "id": "fa9fff82",
   "metadata": {},
   "source": [
    "## Writing a file"
   ]
  },
  {
   "cell_type": "code",
   "execution_count": 1,
   "id": "1f28e680",
   "metadata": {},
   "outputs": [],
   "source": [
    "f = open(\"book.txt\", \"w\")    \n",
    "# open book.txt file in write mode\n",
    "f.write(\"Swati is learning ML from Hex N Bit\")\n",
    "f.close()"
   ]
  },
  {
   "cell_type": "markdown",
   "id": "73a381eb",
   "metadata": {},
   "source": [
    "## Reading a file"
   ]
  },
  {
   "cell_type": "code",
   "execution_count": 2,
   "id": "b041bcaf",
   "metadata": {},
   "outputs": [
    {
     "name": "stdout",
     "output_type": "stream",
     "text": [
      "Swati is learning ML from Hex N Bit\n"
     ]
    },
    {
     "data": {
      "text/plain": [
       "<function TextIOWrapper.close()>"
      ]
     },
     "execution_count": 2,
     "metadata": {},
     "output_type": "execute_result"
    }
   ],
   "source": [
    "f = open(\"book.txt\", \"r\")\n",
    "data = f.read()\n",
    "print(data)\n",
    "f.close"
   ]
  },
  {
   "cell_type": "code",
   "execution_count": 7,
   "id": "ce8c8a3b",
   "metadata": {},
   "outputs": [],
   "source": [
    "f = open(\"book.txt\", \"a\")    \n",
    "# open book.txt file in append mode\n",
    "f.write(\"\\nAI and ML\")\n",
    "f.close()"
   ]
  },
  {
   "cell_type": "markdown",
   "id": "b501708a",
   "metadata": {},
   "source": [
    "## Modes in which file can be opened"
   ]
  },
  {
   "cell_type": "code",
   "execution_count": null,
   "id": "d49d8c80",
   "metadata": {},
   "outputs": [],
   "source": [
    "#w - write mode\n",
    "#r - read mode\n",
    "#a - append mode\n",
    "#r+ - both read and write mode"
   ]
  },
  {
   "cell_type": "markdown",
   "id": "45762006",
   "metadata": {},
   "source": [
    "# File handling using with method\n"
   ]
  },
  {
   "cell_type": "markdown",
   "id": "a1ccdb7e",
   "metadata": {},
   "source": [
    "## Writing to file"
   ]
  },
  {
   "cell_type": "code",
   "execution_count": 5,
   "id": "91ce8197",
   "metadata": {},
   "outputs": [],
   "source": [
    "with open(\"book.txt\", \"w\") as file:\n",
    "    file.write(\"Peter Pan was right\")"
   ]
  },
  {
   "cell_type": "markdown",
   "id": "febf57f6",
   "metadata": {},
   "source": [
    "## Reading to file"
   ]
  },
  {
   "cell_type": "code",
   "execution_count": 8,
   "id": "0b652360",
   "metadata": {},
   "outputs": [
    {
     "name": "stdout",
     "output_type": "stream",
     "text": [
      "Peter Pan was right AI and ML\n",
      "AI and ML\n"
     ]
    }
   ],
   "source": [
    "with open(\"book.txt\", \"r\") as file:\n",
    "    print(file.read())"
   ]
  },
  {
   "cell_type": "code",
   "execution_count": null,
   "id": "3876c6ef",
   "metadata": {},
   "outputs": [],
   "source": []
  }
 ],
 "metadata": {
  "kernelspec": {
   "display_name": "Python 3",
   "language": "python",
   "name": "python3"
  },
  "language_info": {
   "codemirror_mode": {
    "name": "ipython",
    "version": 3
   },
   "file_extension": ".py",
   "mimetype": "text/x-python",
   "name": "python",
   "nbconvert_exporter": "python",
   "pygments_lexer": "ipython3",
   "version": "3.8.8"
  }
 },
 "nbformat": 4,
 "nbformat_minor": 5
}
