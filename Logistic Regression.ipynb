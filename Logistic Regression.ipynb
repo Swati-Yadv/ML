{
 "cells": [
  {
   "cell_type": "markdown",
   "id": "649923c5",
   "metadata": {},
   "source": [
    "# Logistic Regression with Python"
   ]
  },
  {
   "cell_type": "code",
   "execution_count": 1,
   "id": "fc64c180",
   "metadata": {},
   "outputs": [],
   "source": [
    "# Using the algorithm we will try to predict if the person survived or not the prediction will be based on the \n",
    "# several other parameters such as age, passenger, classm\\, gender etc"
   ]
  },
  {
   "cell_type": "markdown",
   "id": "b62f165c",
   "metadata": {},
   "source": [
    "## Importing Libraries"
   ]
  },
  {
   "cell_type": "code",
   "execution_count": 2,
   "id": "3cdd7288",
   "metadata": {},
   "outputs": [],
   "source": [
    "import pandas as pd\n",
    "import numpy as np\n",
    "import matplotlib.pyplot as plt\n",
    "import seaborn as sns\n"
   ]
  },
  {
   "cell_type": "code",
   "execution_count": 3,
   "id": "5000dd3c",
   "metadata": {},
   "outputs": [],
   "source": [
    "%matplotlib inline"
   ]
  },
  {
   "cell_type": "markdown",
   "id": "8a994b3a",
   "metadata": {},
   "source": [
    "## Reading Data from Dataset"
   ]
  },
  {
   "cell_type": "code",
   "execution_count": 4,
   "id": "7033da75",
   "metadata": {},
   "outputs": [
    {
     "data": {
      "text/html": [
       "<div>\n",
       "<style scoped>\n",
       "    .dataframe tbody tr th:only-of-type {\n",
       "        vertical-align: middle;\n",
       "    }\n",
       "\n",
       "    .dataframe tbody tr th {\n",
       "        vertical-align: top;\n",
       "    }\n",
       "\n",
       "    .dataframe thead th {\n",
       "        text-align: right;\n",
       "    }\n",
       "</style>\n",
       "<table border=\"1\" class=\"dataframe\">\n",
       "  <thead>\n",
       "    <tr style=\"text-align: right;\">\n",
       "      <th></th>\n",
       "      <th>PassengerId</th>\n",
       "      <th>Survived</th>\n",
       "      <th>Pclass</th>\n",
       "      <th>Name</th>\n",
       "      <th>Sex</th>\n",
       "      <th>Age</th>\n",
       "      <th>SibSp</th>\n",
       "      <th>Parch</th>\n",
       "      <th>Ticket</th>\n",
       "      <th>Fare</th>\n",
       "      <th>Cabin</th>\n",
       "      <th>Embarked</th>\n",
       "    </tr>\n",
       "  </thead>\n",
       "  <tbody>\n",
       "    <tr>\n",
       "      <th>0</th>\n",
       "      <td>1</td>\n",
       "      <td>0</td>\n",
       "      <td>3</td>\n",
       "      <td>Braund, Mr. Owen Harris</td>\n",
       "      <td>male</td>\n",
       "      <td>22.0</td>\n",
       "      <td>1</td>\n",
       "      <td>0</td>\n",
       "      <td>A/5 21171</td>\n",
       "      <td>7.2500</td>\n",
       "      <td>NaN</td>\n",
       "      <td>S</td>\n",
       "    </tr>\n",
       "    <tr>\n",
       "      <th>1</th>\n",
       "      <td>2</td>\n",
       "      <td>1</td>\n",
       "      <td>1</td>\n",
       "      <td>Cumings, Mrs. John Bradley (Florence Briggs Th...</td>\n",
       "      <td>female</td>\n",
       "      <td>38.0</td>\n",
       "      <td>1</td>\n",
       "      <td>0</td>\n",
       "      <td>PC 17599</td>\n",
       "      <td>71.2833</td>\n",
       "      <td>C85</td>\n",
       "      <td>C</td>\n",
       "    </tr>\n",
       "    <tr>\n",
       "      <th>2</th>\n",
       "      <td>3</td>\n",
       "      <td>1</td>\n",
       "      <td>3</td>\n",
       "      <td>Heikkinen, Miss. Laina</td>\n",
       "      <td>female</td>\n",
       "      <td>26.0</td>\n",
       "      <td>0</td>\n",
       "      <td>0</td>\n",
       "      <td>STON/O2. 3101282</td>\n",
       "      <td>7.9250</td>\n",
       "      <td>NaN</td>\n",
       "      <td>S</td>\n",
       "    </tr>\n",
       "    <tr>\n",
       "      <th>3</th>\n",
       "      <td>4</td>\n",
       "      <td>1</td>\n",
       "      <td>1</td>\n",
       "      <td>Futrelle, Mrs. Jacques Heath (Lily May Peel)</td>\n",
       "      <td>female</td>\n",
       "      <td>35.0</td>\n",
       "      <td>1</td>\n",
       "      <td>0</td>\n",
       "      <td>113803</td>\n",
       "      <td>53.1000</td>\n",
       "      <td>C123</td>\n",
       "      <td>S</td>\n",
       "    </tr>\n",
       "    <tr>\n",
       "      <th>4</th>\n",
       "      <td>5</td>\n",
       "      <td>0</td>\n",
       "      <td>3</td>\n",
       "      <td>Allen, Mr. William Henry</td>\n",
       "      <td>male</td>\n",
       "      <td>35.0</td>\n",
       "      <td>0</td>\n",
       "      <td>0</td>\n",
       "      <td>373450</td>\n",
       "      <td>8.0500</td>\n",
       "      <td>NaN</td>\n",
       "      <td>S</td>\n",
       "    </tr>\n",
       "    <tr>\n",
       "      <th>...</th>\n",
       "      <td>...</td>\n",
       "      <td>...</td>\n",
       "      <td>...</td>\n",
       "      <td>...</td>\n",
       "      <td>...</td>\n",
       "      <td>...</td>\n",
       "      <td>...</td>\n",
       "      <td>...</td>\n",
       "      <td>...</td>\n",
       "      <td>...</td>\n",
       "      <td>...</td>\n",
       "      <td>...</td>\n",
       "    </tr>\n",
       "    <tr>\n",
       "      <th>886</th>\n",
       "      <td>887</td>\n",
       "      <td>0</td>\n",
       "      <td>2</td>\n",
       "      <td>Montvila, Rev. Juozas</td>\n",
       "      <td>male</td>\n",
       "      <td>27.0</td>\n",
       "      <td>0</td>\n",
       "      <td>0</td>\n",
       "      <td>211536</td>\n",
       "      <td>13.0000</td>\n",
       "      <td>NaN</td>\n",
       "      <td>S</td>\n",
       "    </tr>\n",
       "    <tr>\n",
       "      <th>887</th>\n",
       "      <td>888</td>\n",
       "      <td>1</td>\n",
       "      <td>1</td>\n",
       "      <td>Graham, Miss. Margaret Edith</td>\n",
       "      <td>female</td>\n",
       "      <td>19.0</td>\n",
       "      <td>0</td>\n",
       "      <td>0</td>\n",
       "      <td>112053</td>\n",
       "      <td>30.0000</td>\n",
       "      <td>B42</td>\n",
       "      <td>S</td>\n",
       "    </tr>\n",
       "    <tr>\n",
       "      <th>888</th>\n",
       "      <td>889</td>\n",
       "      <td>0</td>\n",
       "      <td>3</td>\n",
       "      <td>Johnston, Miss. Catherine Helen \"Carrie\"</td>\n",
       "      <td>female</td>\n",
       "      <td>NaN</td>\n",
       "      <td>1</td>\n",
       "      <td>2</td>\n",
       "      <td>W./C. 6607</td>\n",
       "      <td>23.4500</td>\n",
       "      <td>NaN</td>\n",
       "      <td>S</td>\n",
       "    </tr>\n",
       "    <tr>\n",
       "      <th>889</th>\n",
       "      <td>890</td>\n",
       "      <td>1</td>\n",
       "      <td>1</td>\n",
       "      <td>Behr, Mr. Karl Howell</td>\n",
       "      <td>male</td>\n",
       "      <td>26.0</td>\n",
       "      <td>0</td>\n",
       "      <td>0</td>\n",
       "      <td>111369</td>\n",
       "      <td>30.0000</td>\n",
       "      <td>C148</td>\n",
       "      <td>C</td>\n",
       "    </tr>\n",
       "    <tr>\n",
       "      <th>890</th>\n",
       "      <td>891</td>\n",
       "      <td>0</td>\n",
       "      <td>3</td>\n",
       "      <td>Dooley, Mr. Patrick</td>\n",
       "      <td>male</td>\n",
       "      <td>32.0</td>\n",
       "      <td>0</td>\n",
       "      <td>0</td>\n",
       "      <td>370376</td>\n",
       "      <td>7.7500</td>\n",
       "      <td>NaN</td>\n",
       "      <td>Q</td>\n",
       "    </tr>\n",
       "  </tbody>\n",
       "</table>\n",
       "<p>891 rows × 12 columns</p>\n",
       "</div>"
      ],
      "text/plain": [
       "     PassengerId  Survived  Pclass  \\\n",
       "0              1         0       3   \n",
       "1              2         1       1   \n",
       "2              3         1       3   \n",
       "3              4         1       1   \n",
       "4              5         0       3   \n",
       "..           ...       ...     ...   \n",
       "886          887         0       2   \n",
       "887          888         1       1   \n",
       "888          889         0       3   \n",
       "889          890         1       1   \n",
       "890          891         0       3   \n",
       "\n",
       "                                                  Name     Sex   Age  SibSp  \\\n",
       "0                              Braund, Mr. Owen Harris    male  22.0      1   \n",
       "1    Cumings, Mrs. John Bradley (Florence Briggs Th...  female  38.0      1   \n",
       "2                               Heikkinen, Miss. Laina  female  26.0      0   \n",
       "3         Futrelle, Mrs. Jacques Heath (Lily May Peel)  female  35.0      1   \n",
       "4                             Allen, Mr. William Henry    male  35.0      0   \n",
       "..                                                 ...     ...   ...    ...   \n",
       "886                              Montvila, Rev. Juozas    male  27.0      0   \n",
       "887                       Graham, Miss. Margaret Edith  female  19.0      0   \n",
       "888           Johnston, Miss. Catherine Helen \"Carrie\"  female   NaN      1   \n",
       "889                              Behr, Mr. Karl Howell    male  26.0      0   \n",
       "890                                Dooley, Mr. Patrick    male  32.0      0   \n",
       "\n",
       "     Parch            Ticket     Fare Cabin Embarked  \n",
       "0        0         A/5 21171   7.2500   NaN        S  \n",
       "1        0          PC 17599  71.2833   C85        C  \n",
       "2        0  STON/O2. 3101282   7.9250   NaN        S  \n",
       "3        0            113803  53.1000  C123        S  \n",
       "4        0            373450   8.0500   NaN        S  \n",
       "..     ...               ...      ...   ...      ...  \n",
       "886      0            211536  13.0000   NaN        S  \n",
       "887      0            112053  30.0000   B42        S  \n",
       "888      2        W./C. 6607  23.4500   NaN        S  \n",
       "889      0            111369  30.0000  C148        C  \n",
       "890      0            370376   7.7500   NaN        Q  \n",
       "\n",
       "[891 rows x 12 columns]"
      ]
     },
     "execution_count": 4,
     "metadata": {},
     "output_type": "execute_result"
    }
   ],
   "source": [
    "dataframe = pd.read_csv('titanic.csv')\n",
    "dataframe"
   ]
  },
  {
   "cell_type": "code",
   "execution_count": 5,
   "id": "bb41ae85",
   "metadata": {},
   "outputs": [
    {
     "data": {
      "text/html": [
       "<div>\n",
       "<style scoped>\n",
       "    .dataframe tbody tr th:only-of-type {\n",
       "        vertical-align: middle;\n",
       "    }\n",
       "\n",
       "    .dataframe tbody tr th {\n",
       "        vertical-align: top;\n",
       "    }\n",
       "\n",
       "    .dataframe thead th {\n",
       "        text-align: right;\n",
       "    }\n",
       "</style>\n",
       "<table border=\"1\" class=\"dataframe\">\n",
       "  <thead>\n",
       "    <tr style=\"text-align: right;\">\n",
       "      <th></th>\n",
       "      <th>PassengerId</th>\n",
       "      <th>Survived</th>\n",
       "      <th>Pclass</th>\n",
       "      <th>Name</th>\n",
       "      <th>Sex</th>\n",
       "      <th>Age</th>\n",
       "      <th>SibSp</th>\n",
       "      <th>Parch</th>\n",
       "      <th>Ticket</th>\n",
       "      <th>Fare</th>\n",
       "      <th>Cabin</th>\n",
       "      <th>Embarked</th>\n",
       "    </tr>\n",
       "  </thead>\n",
       "  <tbody>\n",
       "    <tr>\n",
       "      <th>0</th>\n",
       "      <td>1</td>\n",
       "      <td>0</td>\n",
       "      <td>3</td>\n",
       "      <td>Braund, Mr. Owen Harris</td>\n",
       "      <td>male</td>\n",
       "      <td>22.0</td>\n",
       "      <td>1</td>\n",
       "      <td>0</td>\n",
       "      <td>A/5 21171</td>\n",
       "      <td>7.2500</td>\n",
       "      <td>NaN</td>\n",
       "      <td>S</td>\n",
       "    </tr>\n",
       "    <tr>\n",
       "      <th>1</th>\n",
       "      <td>2</td>\n",
       "      <td>1</td>\n",
       "      <td>1</td>\n",
       "      <td>Cumings, Mrs. John Bradley (Florence Briggs Th...</td>\n",
       "      <td>female</td>\n",
       "      <td>38.0</td>\n",
       "      <td>1</td>\n",
       "      <td>0</td>\n",
       "      <td>PC 17599</td>\n",
       "      <td>71.2833</td>\n",
       "      <td>C85</td>\n",
       "      <td>C</td>\n",
       "    </tr>\n",
       "    <tr>\n",
       "      <th>2</th>\n",
       "      <td>3</td>\n",
       "      <td>1</td>\n",
       "      <td>3</td>\n",
       "      <td>Heikkinen, Miss. Laina</td>\n",
       "      <td>female</td>\n",
       "      <td>26.0</td>\n",
       "      <td>0</td>\n",
       "      <td>0</td>\n",
       "      <td>STON/O2. 3101282</td>\n",
       "      <td>7.9250</td>\n",
       "      <td>NaN</td>\n",
       "      <td>S</td>\n",
       "    </tr>\n",
       "    <tr>\n",
       "      <th>3</th>\n",
       "      <td>4</td>\n",
       "      <td>1</td>\n",
       "      <td>1</td>\n",
       "      <td>Futrelle, Mrs. Jacques Heath (Lily May Peel)</td>\n",
       "      <td>female</td>\n",
       "      <td>35.0</td>\n",
       "      <td>1</td>\n",
       "      <td>0</td>\n",
       "      <td>113803</td>\n",
       "      <td>53.1000</td>\n",
       "      <td>C123</td>\n",
       "      <td>S</td>\n",
       "    </tr>\n",
       "    <tr>\n",
       "      <th>4</th>\n",
       "      <td>5</td>\n",
       "      <td>0</td>\n",
       "      <td>3</td>\n",
       "      <td>Allen, Mr. William Henry</td>\n",
       "      <td>male</td>\n",
       "      <td>35.0</td>\n",
       "      <td>0</td>\n",
       "      <td>0</td>\n",
       "      <td>373450</td>\n",
       "      <td>8.0500</td>\n",
       "      <td>NaN</td>\n",
       "      <td>S</td>\n",
       "    </tr>\n",
       "  </tbody>\n",
       "</table>\n",
       "</div>"
      ],
      "text/plain": [
       "   PassengerId  Survived  Pclass  \\\n",
       "0            1         0       3   \n",
       "1            2         1       1   \n",
       "2            3         1       3   \n",
       "3            4         1       1   \n",
       "4            5         0       3   \n",
       "\n",
       "                                                Name     Sex   Age  SibSp  \\\n",
       "0                            Braund, Mr. Owen Harris    male  22.0      1   \n",
       "1  Cumings, Mrs. John Bradley (Florence Briggs Th...  female  38.0      1   \n",
       "2                             Heikkinen, Miss. Laina  female  26.0      0   \n",
       "3       Futrelle, Mrs. Jacques Heath (Lily May Peel)  female  35.0      1   \n",
       "4                           Allen, Mr. William Henry    male  35.0      0   \n",
       "\n",
       "   Parch            Ticket     Fare Cabin Embarked  \n",
       "0      0         A/5 21171   7.2500   NaN        S  \n",
       "1      0          PC 17599  71.2833   C85        C  \n",
       "2      0  STON/O2. 3101282   7.9250   NaN        S  \n",
       "3      0            113803  53.1000  C123        S  \n",
       "4      0            373450   8.0500   NaN        S  "
      ]
     },
     "execution_count": 5,
     "metadata": {},
     "output_type": "execute_result"
    }
   ],
   "source": [
    "dataframe.head()"
   ]
  },
  {
   "cell_type": "markdown",
   "id": "c4565fcc",
   "metadata": {},
   "source": [
    "SibSp - Number of siblings/spouses abroad\n",
    "parch - No. of parents/ children abroad\n",
    "embarked - Port of embarkation( C - Chrbourg, Q - Queenstown, S = Southampton)\n",
    "survival (0 - No, 1- Yes)"
   ]
  },
  {
   "cell_type": "markdown",
   "id": "6705f47d",
   "metadata": {},
   "source": [
    "## Explanatory Data Analysis"
   ]
  },
  {
   "cell_type": "markdown",
   "id": "bc95f267",
   "metadata": {},
   "source": [
    "### Checking for missing data"
   ]
  },
  {
   "cell_type": "code",
   "execution_count": 6,
   "id": "66687c94",
   "metadata": {},
   "outputs": [
    {
     "data": {
      "text/plain": [
       "<AxesSubplot:>"
      ]
     },
     "execution_count": 6,
     "metadata": {},
     "output_type": "execute_result"
    },
    {
     "data": {
      "image/png": "[encoded data removed]",
      "text/plain": [
       "<Figure size 864x720 with 1 Axes>"
      ]
     },
     "metadata": {
      "needs_background": "light"
     },
     "output_type": "display_data"
    }
   ],
   "source": [
    "plt.figure(figsize = (12, 10))\n",
    "sns.heatmap(dataframe.isnull(), yticklabels = False, cbar = False, cmap= 'plasma')\n"
   ]
  },
  {
   "cell_type": "code",
   "execution_count": 7,
   "id": "aeb0ec35",
   "metadata": {},
   "outputs": [],
   "source": [
    "# Some of the age data is missing and can be filled with a certain value. But the cabin column has a lot of missing data and it is unlikely \n",
    "# that we can process it therefore we will drop it"
   ]
  },
  {
   "cell_type": "markdown",
   "id": "e2e37e48",
   "metadata": {},
   "source": [
    "## Plotting Data of number of Survivers and number of Non survivers"
   ]
  },
  {
   "cell_type": "code",
   "execution_count": 8,
   "id": "2ebedcdd",
   "metadata": {},
   "outputs": [
    {
     "data": {
      "text/plain": [
       "<AxesSubplot:xlabel='Survived', ylabel='count'>"
      ]
     },
     "execution_count": 8,
     "metadata": {},
     "output_type": "execute_result"
    },
    {
     "data": {
      "image/png": "[encoded data removed]",
      "text/plain": [
       "<Figure size 432x288 with 1 Axes>"
      ]
     },
     "metadata": {},
     "output_type": "display_data"
    }
   ],
   "source": [
    "sns.set_style('darkgrid')\n",
    "sns.countplot(x = 'Survived', data = dataframe)"
   ]
  },
  {
   "cell_type": "markdown",
   "id": "3620e346",
   "metadata": {},
   "source": [
    "## Plotting Data of number of Survivers and number of Non survivers based on gender"
   ]
  },
  {
   "cell_type": "code",
   "execution_count": 9,
   "id": "92b9f575",
   "metadata": {},
   "outputs": [
    {
     "data": {
      "text/plain": [
       "<AxesSubplot:xlabel='Survived', ylabel='count'>"
      ]
     },
     "execution_count": 9,
     "metadata": {},
     "output_type": "execute_result"
    },
    {
     "data": {
      "image/png": "[encoded data removed]",
      "text/plain": [
       "<Figure size 432x288 with 1 Axes>"
      ]
     },
     "metadata": {},
     "output_type": "display_data"
    }
   ],
   "source": [
    "sns.set_style('whitegrid')\n",
    "sns.countplot(x = 'Survived', hue = 'Sex', data = dataframe)"
   ]
  },
  {
   "cell_type": "markdown",
   "id": "f0a6cce1",
   "metadata": {},
   "source": [
    "## Checking and Plotting Average Fare for all three Passenger Classes"
   ]
  },
  {
   "cell_type": "code",
   "execution_count": 10,
   "id": "61361db3",
   "metadata": {},
   "outputs": [
    {
     "data": {
      "text/plain": [
       "Text(0, 0.5, 'Average Fare')"
      ]
     },
     "execution_count": 10,
     "metadata": {},
     "output_type": "execute_result"
    },
    {
     "data": {
      "image/png": "[encoded data removed]",
      "text/plain": [
       "<Figure size 432x288 with 1 Axes>"
      ]
     },
     "metadata": {},
     "output_type": "display_data"
    }
   ],
   "source": [
    "pas_class = dataframe.groupby([\"Pclass\"]).mean()\n",
    "plt.bar(pas_class.index, pas_class[\"Fare\"], width = 0.1, color = \"r\")\n",
    "plt.xlabel(\"Passenger Class\")\n",
    "plt.ylabel(\"Average Fare\")"
   ]
  },
  {
   "cell_type": "markdown",
   "id": "5a5f3592",
   "metadata": {},
   "source": [
    "## Plotting Survival rate for all three Passenger Classes"
   ]
  },
  {
   "cell_type": "code",
   "execution_count": 11,
   "id": "73918bf7",
   "metadata": {},
   "outputs": [
    {
     "data": {
      "text/plain": [
       "<AxesSubplot:xlabel='Survived', ylabel='count'>"
      ]
     },
     "execution_count": 11,
     "metadata": {},
     "output_type": "execute_result"
    },
    {
     "data": {
      "image/png": "[encoded data removed]",
      "text/plain": [
       "<Figure size 432x288 with 1 Axes>"
      ]
     },
     "metadata": {},
     "output_type": "display_data"
    }
   ],
   "source": [
    "sns.set_style('whitegrid')\n",
    "sns.countplot(x = 'Survived', hue = 'Pclass', data = dataframe)\n",
    "#  the hue parameter denotes which column decides the kind of color, i.e. it's red, or green"
   ]
  },
  {
   "cell_type": "markdown",
   "id": "0bbf3e91",
   "metadata": {},
   "source": [
    "## Plotting Survival rate for all three Embarkment locations"
   ]
  },
  {
   "cell_type": "code",
   "execution_count": 12,
   "id": "e9490c4f",
   "metadata": {},
   "outputs": [
    {
     "data": {
      "text/plain": [
       "<AxesSubplot:xlabel='Survived', ylabel='count'>"
      ]
     },
     "execution_count": 12,
     "metadata": {},
     "output_type": "execute_result"
    },
    {
     "data": {
      "image/png": "[encoded data removed]",
      "text/plain": [
       "<Figure size 432x288 with 1 Axes>"
      ]
     },
     "metadata": {},
     "output_type": "display_data"
    }
   ],
   "source": [
    "#C : Cherbourg , Q = Queenstown, S = Southampton\n",
    "sns.set_style('whitegrid')\n",
    "sns.countplot(x = 'Survived' , hue= 'Embarked', data = dataframe)\n"
   ]
  },
  {
   "cell_type": "markdown",
   "id": "e77338ee",
   "metadata": {},
   "source": [
    "## Age histogram"
   ]
  },
  {
   "cell_type": "code",
   "execution_count": 13,
   "id": "ea3e8255",
   "metadata": {},
   "outputs": [
    {
     "data": {
      "text/plain": [
       "<AxesSubplot:>"
      ]
     },
     "execution_count": 13,
     "metadata": {},
     "output_type": "execute_result"
    },
    {
     "data": {
      "image/png": "[encoded data removed]",
      "text/plain": [
       "<Figure size 432x288 with 1 Axes>"
      ]
     },
     "metadata": {},
     "output_type": "display_data"
    }
   ],
   "source": [
    "dataframe['Age'].hist(bins = 30)\n",
    "# The towers or bars of a histogram are called bins. \n",
    "# The height of each bin shows how many values from that data fall into that range.\n",
    "# The default value of the number of bins to be created in a histogram is 10"
   ]
  },
  {
   "cell_type": "markdown",
   "id": "40f591d5",
   "metadata": {},
   "source": [
    "## Fare Histogram"
   ]
  },
  {
   "cell_type": "code",
   "execution_count": 14,
   "id": "aa4951f9",
   "metadata": {},
   "outputs": [
    {
     "data": {
      "text/plain": [
       "<AxesSubplot:>"
      ]
     },
     "execution_count": 14,
     "metadata": {},
     "output_type": "execute_result"
    },
    {
     "data": {
      "image/png": "[encoded data removed]",
      "text/plain": [
       "<Figure size 576x288 with 1 Axes>"
      ]
     },
     "metadata": {},
     "output_type": "display_data"
    }
   ],
   "source": [
    "dataframe['Fare'].hist(color = 'green', bins = 50, figsize=(8,4))"
   ]
  },
  {
   "cell_type": "markdown",
   "id": "5bb3a740",
   "metadata": {},
   "source": [
    "### Density plot for surviving passengers and Non surviving passengers with respect to Age"
   ]
  },
  {
   "cell_type": "code",
   "execution_count": 15,
   "id": "491108d3",
   "metadata": {},
   "outputs": [
    {
     "data": {
      "text/plain": [
       "(-20.0, 200.0)"
      ]
     },
     "execution_count": 15,
     "metadata": {},
     "output_type": "execute_result"
    },
    {
     "data": {
      "image/png": "[encoded data removed]",
      "text/plain": [
       "<Figure size 1080x576 with 1 Axes>"
      ]
     },
     "metadata": {},
     "output_type": "display_data"
    }
   ],
   "source": [
    "fig = plt.figure(figsize = (15, 8))\n",
    "# figsize is a tuple of the width and height of the figure in inches, and dpi is the dots-per-inch (pixel per inch)\n",
    "axes = sns.kdeplot(dataframe[\"Age\"][dataframe.Survived == 1], color = \"green\", shade = True)\n",
    "axes = sns.kdeplot(dataframe[\"Age\"][dataframe.Survived == 0], color = \"red\", shade = True)\n",
    "\n",
    "# KDE kernel density estimate represents the data using a continuous probability density curve in one or more dimensions.\n",
    "plt.legend([\"Survived\", \"Died\"])\n",
    "plt.title('Density plot for Surviving passengers and Non passengers with respect to Age')\n",
    "axes.set_xlabel('Age')\n",
    "plt.xlim(-20, 200)\n",
    "# used to set or get limits for X-axis : xlim"
   ]
  },
  {
   "cell_type": "markdown",
   "id": "871c5fe6",
   "metadata": {},
   "source": [
    "### Density plot for surviving passengers and Non surviving passengers with respect to Age"
   ]
  },
  {
   "cell_type": "code",
   "execution_count": 16,
   "id": "423b3865",
   "metadata": {},
   "outputs": [
    {
     "data": {
      "text/plain": [
       "(-20.0, 200.0)"
      ]
     },
     "execution_count": 16,
     "metadata": {},
     "output_type": "execute_result"
    },
    {
     "data": {
      "image/png": "[encoded data removed]",
      "text/plain": [
       "<Figure size 1080x576 with 1 Axes>"
      ]
     },
     "metadata": {},
     "output_type": "display_data"
    }
   ],
   "source": [
    "fig = plt.figure(figsize = (15,8))\n",
    "axes = sns.kdeplot(dataframe['Fare'][dataframe.Survived == 1], color = \"green\", shade = True)\n",
    "sns.kdeplot(dataframe[\"Age\"][dataframe.Survived == 0], color = \"red\", shade = True)\n",
    "plt.legend(['Survived', 'Died'])\n",
    "plt.title(\"Density plot for Surviving passengers and Non surviving Passengers with respect to Age\")\n",
    "axes.set_xlabel('Fare')\n",
    "plt.xlim(-20, 200)"
   ]
  },
  {
   "cell_type": "markdown",
   "id": "e93f2e4a",
   "metadata": {},
   "source": [
    "## Data Cleaning"
   ]
  },
  {
   "cell_type": "markdown",
   "id": "9ddb5ea9",
   "metadata": {},
   "source": [
    "The column \"Passengerid\" is just a serial number and will not help with our prediction therefore we will drop it. Similarly we will also \n",
    "remove Name and Ticket columns as they are text columns along with the fact that as of now we will not be able to relate them with the Survival chance.\n",
    "Cabin column needs to be removed as lot of data is missing in that column.\n"
   ]
  },
  {
   "cell_type": "markdown",
   "id": "0d0854d7",
   "metadata": {},
   "source": [
    "## Removing unwanted columns from data frame"
   ]
  },
  {
   "cell_type": "code",
   "execution_count": 18,
   "id": "c3c5a243",
   "metadata": {},
   "outputs": [
    {
     "data": {
      "text/html": [
       "<div>\n",
       "<style scoped>\n",
       "    .dataframe tbody tr th:only-of-type {\n",
       "        vertical-align: middle;\n",
       "    }\n",
       "\n",
       "    .dataframe tbody tr th {\n",
       "        vertical-align: top;\n",
       "    }\n",
       "\n",
       "    .dataframe thead th {\n",
       "        text-align: right;\n",
       "    }\n",
       "</style>\n",
       "<table border=\"1\" class=\"dataframe\">\n",
       "  <thead>\n",
       "    <tr style=\"text-align: right;\">\n",
       "      <th></th>\n",
       "      <th>Survived</th>\n",
       "      <th>Pclass</th>\n",
       "      <th>Sex</th>\n",
       "      <th>Age</th>\n",
       "      <th>SibSp</th>\n",
       "      <th>Parch</th>\n",
       "      <th>Fare</th>\n",
       "      <th>Embarked</th>\n",
       "    </tr>\n",
       "  </thead>\n",
       "  <tbody>\n",
       "    <tr>\n",
       "      <th>0</th>\n",
       "      <td>0</td>\n",
       "      <td>3</td>\n",
       "      <td>male</td>\n",
       "      <td>22.0</td>\n",
       "      <td>1</td>\n",
       "      <td>0</td>\n",
       "      <td>7.2500</td>\n",
       "      <td>S</td>\n",
       "    </tr>\n",
       "    <tr>\n",
       "      <th>1</th>\n",
       "      <td>1</td>\n",
       "      <td>1</td>\n",
       "      <td>female</td>\n",
       "      <td>38.0</td>\n",
       "      <td>1</td>\n",
       "      <td>0</td>\n",
       "      <td>71.2833</td>\n",
       "      <td>C</td>\n",
       "    </tr>\n",
       "    <tr>\n",
       "      <th>2</th>\n",
       "      <td>1</td>\n",
       "      <td>3</td>\n",
       "      <td>female</td>\n",
       "      <td>26.0</td>\n",
       "      <td>0</td>\n",
       "      <td>0</td>\n",
       "      <td>7.9250</td>\n",
       "      <td>S</td>\n",
       "    </tr>\n",
       "    <tr>\n",
       "      <th>3</th>\n",
       "      <td>1</td>\n",
       "      <td>1</td>\n",
       "      <td>female</td>\n",
       "      <td>35.0</td>\n",
       "      <td>1</td>\n",
       "      <td>0</td>\n",
       "      <td>53.1000</td>\n",
       "      <td>S</td>\n",
       "    </tr>\n",
       "    <tr>\n",
       "      <th>4</th>\n",
       "      <td>0</td>\n",
       "      <td>3</td>\n",
       "      <td>male</td>\n",
       "      <td>35.0</td>\n",
       "      <td>0</td>\n",
       "      <td>0</td>\n",
       "      <td>8.0500</td>\n",
       "      <td>S</td>\n",
       "    </tr>\n",
       "    <tr>\n",
       "      <th>...</th>\n",
       "      <td>...</td>\n",
       "      <td>...</td>\n",
       "      <td>...</td>\n",
       "      <td>...</td>\n",
       "      <td>...</td>\n",
       "      <td>...</td>\n",
       "      <td>...</td>\n",
       "      <td>...</td>\n",
       "    </tr>\n",
       "    <tr>\n",
       "      <th>886</th>\n",
       "      <td>0</td>\n",
       "      <td>2</td>\n",
       "      <td>male</td>\n",
       "      <td>27.0</td>\n",
       "      <td>0</td>\n",
       "      <td>0</td>\n",
       "      <td>13.0000</td>\n",
       "      <td>S</td>\n",
       "    </tr>\n",
       "    <tr>\n",
       "      <th>887</th>\n",
       "      <td>1</td>\n",
       "      <td>1</td>\n",
       "      <td>female</td>\n",
       "      <td>19.0</td>\n",
       "      <td>0</td>\n",
       "      <td>0</td>\n",
       "      <td>30.0000</td>\n",
       "      <td>S</td>\n",
       "    </tr>\n",
       "    <tr>\n",
       "      <th>888</th>\n",
       "      <td>0</td>\n",
       "      <td>3</td>\n",
       "      <td>female</td>\n",
       "      <td>NaN</td>\n",
       "      <td>1</td>\n",
       "      <td>2</td>\n",
       "      <td>23.4500</td>\n",
       "      <td>S</td>\n",
       "    </tr>\n",
       "    <tr>\n",
       "      <th>889</th>\n",
       "      <td>1</td>\n",
       "      <td>1</td>\n",
       "      <td>male</td>\n",
       "      <td>26.0</td>\n",
       "      <td>0</td>\n",
       "      <td>0</td>\n",
       "      <td>30.0000</td>\n",
       "      <td>C</td>\n",
       "    </tr>\n",
       "    <tr>\n",
       "      <th>890</th>\n",
       "      <td>0</td>\n",
       "      <td>3</td>\n",
       "      <td>male</td>\n",
       "      <td>32.0</td>\n",
       "      <td>0</td>\n",
       "      <td>0</td>\n",
       "      <td>7.7500</td>\n",
       "      <td>Q</td>\n",
       "    </tr>\n",
       "  </tbody>\n",
       "</table>\n",
       "<p>891 rows × 8 columns</p>\n",
       "</div>"
      ],
      "text/plain": [
       "     Survived  Pclass     Sex   Age  SibSp  Parch     Fare Embarked\n",
       "0           0       3    male  22.0      1      0   7.2500        S\n",
       "1           1       1  female  38.0      1      0  71.2833        C\n",
       "2           1       3  female  26.0      0      0   7.9250        S\n",
       "3           1       1  female  35.0      1      0  53.1000        S\n",
       "4           0       3    male  35.0      0      0   8.0500        S\n",
       "..        ...     ...     ...   ...    ...    ...      ...      ...\n",
       "886         0       2    male  27.0      0      0  13.0000        S\n",
       "887         1       1  female  19.0      0      0  30.0000        S\n",
       "888         0       3  female   NaN      1      2  23.4500        S\n",
       "889         1       1    male  26.0      0      0  30.0000        C\n",
       "890         0       3    male  32.0      0      0   7.7500        Q\n",
       "\n",
       "[891 rows x 8 columns]"
      ]
     },
     "execution_count": 18,
     "metadata": {},
     "output_type": "execute_result"
    }
   ],
   "source": [
    "dataframe.drop([\"PassengerId\", \"Name\", \"Ticket\", \"Cabin\"], axis = 1, inplace = True)\n",
    "dataframe"
   ]
  },
  {
   "cell_type": "markdown",
   "id": "f37ab028",
   "metadata": {},
   "source": [
    "As the age data was missing for some of the row we can fill the missing age data with the mean age of all the passengers\n"
   ]
  },
  {
   "cell_type": "markdown",
   "id": "083509d7",
   "metadata": {},
   "source": [
    "## Grouping data frame with respect to Pclass and calculating mean"
   ]
  },
  {
   "cell_type": "code",
   "execution_count": 20,
   "id": "5b31bddf",
   "metadata": {},
   "outputs": [
    {
     "data": {
      "text/html": [
       "<div>\n",
       "<style scoped>\n",
       "    .dataframe tbody tr th:only-of-type {\n",
       "        vertical-align: middle;\n",
       "    }\n",
       "\n",
       "    .dataframe tbody tr th {\n",
       "        vertical-align: top;\n",
       "    }\n",
       "\n",
       "    .dataframe thead th {\n",
       "        text-align: right;\n",
       "    }\n",
       "</style>\n",
       "<table border=\"1\" class=\"dataframe\">\n",
       "  <thead>\n",
       "    <tr style=\"text-align: right;\">\n",
       "      <th></th>\n",
       "      <th>Survived</th>\n",
       "      <th>Age</th>\n",
       "      <th>SibSp</th>\n",
       "      <th>Parch</th>\n",
       "      <th>Fare</th>\n",
       "    </tr>\n",
       "    <tr>\n",
       "      <th>Pclass</th>\n",
       "      <th></th>\n",
       "      <th></th>\n",
       "      <th></th>\n",
       "      <th></th>\n",
       "      <th></th>\n",
       "    </tr>\n",
       "  </thead>\n",
       "  <tbody>\n",
       "    <tr>\n",
       "      <th>1</th>\n",
       "      <td>0.629630</td>\n",
       "      <td>38.233441</td>\n",
       "      <td>0.416667</td>\n",
       "      <td>0.356481</td>\n",
       "      <td>84.154687</td>\n",
       "    </tr>\n",
       "    <tr>\n",
       "      <th>2</th>\n",
       "      <td>0.472826</td>\n",
       "      <td>29.877630</td>\n",
       "      <td>0.402174</td>\n",
       "      <td>0.380435</td>\n",
       "      <td>20.662183</td>\n",
       "    </tr>\n",
       "    <tr>\n",
       "      <th>3</th>\n",
       "      <td>0.242363</td>\n",
       "      <td>25.140620</td>\n",
       "      <td>0.615071</td>\n",
       "      <td>0.393075</td>\n",
       "      <td>13.675550</td>\n",
       "    </tr>\n",
       "  </tbody>\n",
       "</table>\n",
       "</div>"
      ],
      "text/plain": [
       "        Survived        Age     SibSp     Parch       Fare\n",
       "Pclass                                                    \n",
       "1       0.629630  38.233441  0.416667  0.356481  84.154687\n",
       "2       0.472826  29.877630  0.402174  0.380435  20.662183\n",
       "3       0.242363  25.140620  0.615071  0.393075  13.675550"
      ]
     },
     "execution_count": 20,
     "metadata": {},
     "output_type": "execute_result"
    }
   ],
   "source": [
    "pas_class = dataframe.groupby([\"Pclass\"]).mean()\n",
    "pas_class"
   ]
  },
  {
   "cell_type": "markdown",
   "id": "db907e09",
   "metadata": {},
   "source": [
    "## Box Plot to get an idea of mean age among Pclass"
   ]
  },
  {
   "cell_type": "code",
   "execution_count": 21,
   "id": "91315fd8",
   "metadata": {},
   "outputs": [
    {
     "data": {
      "text/plain": [
       "<AxesSubplot:xlabel='Pclass', ylabel='Age'>"
      ]
     },
     "execution_count": 21,
     "metadata": {},
     "output_type": "execute_result"
    },
    {
     "data": {
      "image/png": "[encoded data removed]",
      "text/plain": [
       "<Figure size 864x720 with 1 Axes>"
      ]
     },
     "metadata": {},
     "output_type": "display_data"
    }
   ],
   "source": [
    "plt.figure(figsize = (12,10))\n",
    "sns.boxplot(x = \"Pclass\", y = \"Age\", data = dataframe, palette = \"winter\")\n"
   ]
  },
  {
   "cell_type": "code",
   "execution_count": 22,
   "id": "a5506281",
   "metadata": {},
   "outputs": [],
   "source": [
    "# passengers in the higher classes were older which is also relatable because older people were probably the ones who could afford the \n",
    "# higher passenger classes"
   ]
  },
  {
   "cell_type": "markdown",
   "id": "b45a422a",
   "metadata": {},
   "source": [
    "## Creating function which will substitute age based on Pclass"
   ]
  },
  {
   "cell_type": "code",
   "execution_count": 25,
   "id": "0ca584df",
   "metadata": {},
   "outputs": [],
   "source": [
    "def fill_age(cols):\n",
    "    Age = cols[0]\n",
    "    Pclass = cols[1]\n",
    "    if pd.isnull(Age):\n",
    "        if Pclass == 1:\n",
    "            return 38\n",
    "#         return pas_class.loc(1, \"Age\")\n",
    "        elif Pclass == 2:\n",
    "            return 29\n",
    "#       return pas_class.loc(2, \"Age\")\n",
    "        else:\n",
    "           return 25\n",
    "#       return pas_class.loc(3, \"Age\")\n",
    "    else:\n",
    "        return Age\n"
   ]
  },
  {
   "cell_type": "code",
   "execution_count": 26,
   "id": "b4471abc",
   "metadata": {},
   "outputs": [],
   "source": [
    "dataframe['Age'] = dataframe[['Age', 'Pclass']].apply(fill_age, axis = 1)"
   ]
  },
  {
   "cell_type": "markdown",
   "id": "b3913103",
   "metadata": {},
   "source": [
    "## Checking missing data"
   ]
  },
  {
   "cell_type": "code",
   "execution_count": 27,
   "id": "be87bfa7",
   "metadata": {},
   "outputs": [
    {
     "data": {
      "text/plain": [
       "<AxesSubplot:>"
      ]
     },
     "execution_count": 27,
     "metadata": {},
     "output_type": "execute_result"
    },
    {
     "data": {
      "image/png": "[encoded data removed]",
      "text/plain": [
       "<Figure size 864x720 with 1 Axes>"
      ]
     },
     "metadata": {},
     "output_type": "display_data"
    }
   ],
   "source": [
    "plt.figure(figsize=(12,10))\n",
    "sns.heatmap(dataframe.isnull(), yticklabels = False, cbar = False, cmap = 'plasma')\n",
    "# yticklabels:- If you specify the labels, then the y-axis tick values and tick labels no longer update \n",
    "# automatically based on changes to the axes\n",
    "# cbar:- Colorbars are a visualization of the mapping from scalar values to colors\n",
    "# cmap:-  a colormap instance or registered colormap name"
   ]
  },
  {
   "cell_type": "code",
   "execution_count": 28,
   "id": "f0f87451",
   "metadata": {},
   "outputs": [
    {
     "data": {
      "text/plain": [
       "False    889\n",
       "True       2\n",
       "Name: Embarked, dtype: int64"
      ]
     },
     "execution_count": 28,
     "metadata": {},
     "output_type": "execute_result"
    }
   ],
   "source": [
    "dataframe[\"Embarked\"].isnull().value_counts()      \n",
    "# checking no of missing data counts"
   ]
  },
  {
   "cell_type": "markdown",
   "id": "a711f416",
   "metadata": {},
   "source": [
    "## Dropping missing data"
   ]
  },
  {
   "cell_type": "code",
   "execution_count": 30,
   "id": "6038babc",
   "metadata": {},
   "outputs": [],
   "source": [
    "dataframe.dropna(inplace = True)\n",
    "# Keep the DataFrame with valid entries in the same variable."
   ]
  },
  {
   "cell_type": "markdown",
   "id": "e9754df5",
   "metadata": {},
   "source": [
    "## Converting Categorical features\n",
    "Converting categorical features to dummy variable using pandas so that our model is able to directly take in those features as inputs"
   ]
  },
  {
   "cell_type": "code",
   "execution_count": 31,
   "id": "a0820d51",
   "metadata": {},
   "outputs": [
    {
     "data": {
      "text/plain": [
       "array(['S', 'C', 'Q'], dtype=object)"
      ]
     },
     "execution_count": 31,
     "metadata": {},
     "output_type": "execute_result"
    }
   ],
   "source": [
    "# A dummy variable is a variable that takes values of 0 and 1\n",
    "# A categorical variable (also called qualitative variable) is a variable that can take on one of a limited, \n",
    "# and usually fixed, number of possible values\n",
    "dataframe[\"Embarked\"].unique()\n",
    "# checking value of unique data in embarked column"
   ]
  },
  {
   "cell_type": "code",
   "execution_count": 32,
   "id": "c430efe6",
   "metadata": {},
   "outputs": [
    {
     "name": "stdout",
     "output_type": "stream",
     "text": [
      "<class 'pandas.core.frame.DataFrame'>\n",
      "Int64Index: 889 entries, 0 to 890\n",
      "Data columns (total 8 columns):\n",
      " #   Column    Non-Null Count  Dtype  \n",
      "---  ------    --------------  -----  \n",
      " 0   Survived  889 non-null    int64  \n",
      " 1   Pclass    889 non-null    int64  \n",
      " 2   Sex       889 non-null    object \n",
      " 3   Age       889 non-null    float64\n",
      " 4   SibSp     889 non-null    int64  \n",
      " 5   Parch     889 non-null    int64  \n",
      " 6   Fare      889 non-null    float64\n",
      " 7   Embarked  889 non-null    object \n",
      "dtypes: float64(2), int64(4), object(2)\n",
      "memory usage: 62.5+ KB\n"
     ]
    }
   ],
   "source": [
    "dataframe.info()"
   ]
  },
  {
   "cell_type": "code",
   "execution_count": 33,
   "id": "7f7e81eb",
   "metadata": {},
   "outputs": [],
   "source": [
    "# get dummies function will return a representation of data columns in binary format columns\n",
    "# drop_first will drop help the function to represent the data in unique-1 data columns\n",
    "sex = pd.get_dummies(dataframe['Sex'], drop_first = True)\n",
    "embark = pd.get_dummies(dataframe['Embarked'], drop_first = True)\n"
   ]
  },
  {
   "cell_type": "code",
   "execution_count": 34,
   "id": "192d9e24",
   "metadata": {},
   "outputs": [
    {
     "data": {
      "text/html": [
       "<div>\n",
       "<style scoped>\n",
       "    .dataframe tbody tr th:only-of-type {\n",
       "        vertical-align: middle;\n",
       "    }\n",
       "\n",
       "    .dataframe tbody tr th {\n",
       "        vertical-align: top;\n",
       "    }\n",
       "\n",
       "    .dataframe thead th {\n",
       "        text-align: right;\n",
       "    }\n",
       "</style>\n",
       "<table border=\"1\" class=\"dataframe\">\n",
       "  <thead>\n",
       "    <tr style=\"text-align: right;\">\n",
       "      <th></th>\n",
       "      <th>Q</th>\n",
       "      <th>S</th>\n",
       "    </tr>\n",
       "  </thead>\n",
       "  <tbody>\n",
       "    <tr>\n",
       "      <th>0</th>\n",
       "      <td>0</td>\n",
       "      <td>1</td>\n",
       "    </tr>\n",
       "    <tr>\n",
       "      <th>1</th>\n",
       "      <td>0</td>\n",
       "      <td>0</td>\n",
       "    </tr>\n",
       "    <tr>\n",
       "      <th>2</th>\n",
       "      <td>0</td>\n",
       "      <td>1</td>\n",
       "    </tr>\n",
       "    <tr>\n",
       "      <th>3</th>\n",
       "      <td>0</td>\n",
       "      <td>1</td>\n",
       "    </tr>\n",
       "    <tr>\n",
       "      <th>4</th>\n",
       "      <td>0</td>\n",
       "      <td>1</td>\n",
       "    </tr>\n",
       "  </tbody>\n",
       "</table>\n",
       "</div>"
      ],
      "text/plain": [
       "   Q  S\n",
       "0  0  1\n",
       "1  0  0\n",
       "2  0  1\n",
       "3  0  1\n",
       "4  0  1"
      ]
     },
     "execution_count": 34,
     "metadata": {},
     "output_type": "execute_result"
    }
   ],
   "source": [
    "embark.head()"
   ]
  },
  {
   "cell_type": "code",
   "execution_count": 35,
   "id": "4c289ea6",
   "metadata": {},
   "outputs": [
    {
     "data": {
      "text/html": [
       "<div>\n",
       "<style scoped>\n",
       "    .dataframe tbody tr th:only-of-type {\n",
       "        vertical-align: middle;\n",
       "    }\n",
       "\n",
       "    .dataframe tbody tr th {\n",
       "        vertical-align: top;\n",
       "    }\n",
       "\n",
       "    .dataframe thead th {\n",
       "        text-align: right;\n",
       "    }\n",
       "</style>\n",
       "<table border=\"1\" class=\"dataframe\">\n",
       "  <thead>\n",
       "    <tr style=\"text-align: right;\">\n",
       "      <th></th>\n",
       "      <th>male</th>\n",
       "    </tr>\n",
       "  </thead>\n",
       "  <tbody>\n",
       "    <tr>\n",
       "      <th>0</th>\n",
       "      <td>1</td>\n",
       "    </tr>\n",
       "    <tr>\n",
       "      <th>1</th>\n",
       "      <td>0</td>\n",
       "    </tr>\n",
       "    <tr>\n",
       "      <th>2</th>\n",
       "      <td>0</td>\n",
       "    </tr>\n",
       "    <tr>\n",
       "      <th>3</th>\n",
       "      <td>0</td>\n",
       "    </tr>\n",
       "    <tr>\n",
       "      <th>4</th>\n",
       "      <td>1</td>\n",
       "    </tr>\n",
       "  </tbody>\n",
       "</table>\n",
       "</div>"
      ],
      "text/plain": [
       "   male\n",
       "0     1\n",
       "1     0\n",
       "2     0\n",
       "3     0\n",
       "4     1"
      ]
     },
     "execution_count": 35,
     "metadata": {},
     "output_type": "execute_result"
    }
   ],
   "source": [
    "sex.head()"
   ]
  },
  {
   "cell_type": "markdown",
   "id": "8aae76cc",
   "metadata": {},
   "source": [
    "## Removing the columns for which dummy variables have been created"
   ]
  },
  {
   "cell_type": "code",
   "execution_count": 36,
   "id": "82030432",
   "metadata": {},
   "outputs": [],
   "source": [
    "dataframe.drop(['Embarked', 'Sex'], inplace = True, axis = 1)"
   ]
  },
  {
   "cell_type": "markdown",
   "id": "92e0e24f",
   "metadata": {},
   "source": [
    "## Concatenating dummy variable columns with dataframe"
   ]
  },
  {
   "cell_type": "code",
   "execution_count": 37,
   "id": "6708c689",
   "metadata": {},
   "outputs": [],
   "source": [
    "dataframe = pd.concat([dataframe, sex, embark], axis = 1)"
   ]
  },
  {
   "cell_type": "code",
   "execution_count": 38,
   "id": "9a9ee445",
   "metadata": {},
   "outputs": [
    {
     "data": {
      "text/html": [
       "<div>\n",
       "<style scoped>\n",
       "    .dataframe tbody tr th:only-of-type {\n",
       "        vertical-align: middle;\n",
       "    }\n",
       "\n",
       "    .dataframe tbody tr th {\n",
       "        vertical-align: top;\n",
       "    }\n",
       "\n",
       "    .dataframe thead th {\n",
       "        text-align: right;\n",
       "    }\n",
       "</style>\n",
       "<table border=\"1\" class=\"dataframe\">\n",
       "  <thead>\n",
       "    <tr style=\"text-align: right;\">\n",
       "      <th></th>\n",
       "      <th>Survived</th>\n",
       "      <th>Pclass</th>\n",
       "      <th>Age</th>\n",
       "      <th>SibSp</th>\n",
       "      <th>Parch</th>\n",
       "      <th>Fare</th>\n",
       "      <th>male</th>\n",
       "      <th>Q</th>\n",
       "      <th>S</th>\n",
       "    </tr>\n",
       "  </thead>\n",
       "  <tbody>\n",
       "    <tr>\n",
       "      <th>0</th>\n",
       "      <td>0</td>\n",
       "      <td>3</td>\n",
       "      <td>22.0</td>\n",
       "      <td>1</td>\n",
       "      <td>0</td>\n",
       "      <td>7.2500</td>\n",
       "      <td>1</td>\n",
       "      <td>0</td>\n",
       "      <td>1</td>\n",
       "    </tr>\n",
       "    <tr>\n",
       "      <th>1</th>\n",
       "      <td>1</td>\n",
       "      <td>1</td>\n",
       "      <td>38.0</td>\n",
       "      <td>1</td>\n",
       "      <td>0</td>\n",
       "      <td>71.2833</td>\n",
       "      <td>0</td>\n",
       "      <td>0</td>\n",
       "      <td>0</td>\n",
       "    </tr>\n",
       "    <tr>\n",
       "      <th>2</th>\n",
       "      <td>1</td>\n",
       "      <td>3</td>\n",
       "      <td>26.0</td>\n",
       "      <td>0</td>\n",
       "      <td>0</td>\n",
       "      <td>7.9250</td>\n",
       "      <td>0</td>\n",
       "      <td>0</td>\n",
       "      <td>1</td>\n",
       "    </tr>\n",
       "    <tr>\n",
       "      <th>3</th>\n",
       "      <td>1</td>\n",
       "      <td>1</td>\n",
       "      <td>35.0</td>\n",
       "      <td>1</td>\n",
       "      <td>0</td>\n",
       "      <td>53.1000</td>\n",
       "      <td>0</td>\n",
       "      <td>0</td>\n",
       "      <td>1</td>\n",
       "    </tr>\n",
       "    <tr>\n",
       "      <th>4</th>\n",
       "      <td>0</td>\n",
       "      <td>3</td>\n",
       "      <td>35.0</td>\n",
       "      <td>0</td>\n",
       "      <td>0</td>\n",
       "      <td>8.0500</td>\n",
       "      <td>1</td>\n",
       "      <td>0</td>\n",
       "      <td>1</td>\n",
       "    </tr>\n",
       "  </tbody>\n",
       "</table>\n",
       "</div>"
      ],
      "text/plain": [
       "   Survived  Pclass   Age  SibSp  Parch     Fare  male  Q  S\n",
       "0         0       3  22.0      1      0   7.2500     1  0  1\n",
       "1         1       1  38.0      1      0  71.2833     0  0  0\n",
       "2         1       3  26.0      0      0   7.9250     0  0  1\n",
       "3         1       1  35.0      1      0  53.1000     0  0  1\n",
       "4         0       3  35.0      0      0   8.0500     1  0  1"
      ]
     },
     "execution_count": 38,
     "metadata": {},
     "output_type": "execute_result"
    }
   ],
   "source": [
    "dataframe.head()"
   ]
  },
  {
   "cell_type": "markdown",
   "id": "02137c3c",
   "metadata": {},
   "source": [
    "## Logistics Regression Model\n",
    "### Train Test Split"
   ]
  },
  {
   "cell_type": "code",
   "execution_count": 39,
   "id": "3c10e8b2",
   "metadata": {},
   "outputs": [],
   "source": [
    "from sklearn.model_selection import train_test_split"
   ]
  },
  {
   "cell_type": "code",
   "execution_count": 41,
   "id": "e5921044",
   "metadata": {},
   "outputs": [],
   "source": [
    "X_train, X_test, y_train, y_test = train_test_split(dataframe.drop('Survived', axis = 1), \n",
    "                                                    dataframe['Survived'], test_size = 0.30, random_state = 101)"
   ]
  },
  {
   "cell_type": "markdown",
   "id": "6549df99",
   "metadata": {},
   "source": [
    "## Training and Predicting"
   ]
  },
  {
   "cell_type": "code",
   "execution_count": 42,
   "id": "d71bdbe9",
   "metadata": {},
   "outputs": [],
   "source": [
    "from sklearn.linear_model import LogisticRegression"
   ]
  },
  {
   "cell_type": "code",
   "execution_count": 44,
   "id": "9b7ed827",
   "metadata": {},
   "outputs": [
    {
     "data": {
      "text/plain": [
       "LogisticRegression(max_iter=800)"
      ]
     },
     "execution_count": 44,
     "metadata": {},
     "output_type": "execute_result"
    }
   ],
   "source": [
    "logmodel = LogisticRegression(max_iter = 800)\n",
    "logmodel.fit(X_train, y_train)"
   ]
  },
  {
   "cell_type": "code",
   "execution_count": 45,
   "id": "ca941304",
   "metadata": {},
   "outputs": [],
   "source": [
    "predictions = logmodel.predict(X_test)"
   ]
  },
  {
   "cell_type": "markdown",
   "id": "3441e5ff",
   "metadata": {},
   "source": [
    "## Evaluation"
   ]
  },
  {
   "cell_type": "code",
   "execution_count": 46,
   "id": "f736e161",
   "metadata": {},
   "outputs": [],
   "source": [
    "from sklearn.metrics import classification_report, confusion_matrix"
   ]
  },
  {
   "cell_type": "code",
   "execution_count": 47,
   "id": "c00b7aaf",
   "metadata": {},
   "outputs": [
    {
     "data": {
      "text/plain": [
       "array([[150,  13],\n",
       "       [ 31,  73]], dtype=int64)"
      ]
     },
     "execution_count": 47,
     "metadata": {},
     "output_type": "execute_result"
    }
   ],
   "source": [
    "cnf_matrix = confusion_matrix(y_test, predictions)\n",
    "cnf_matrix"
   ]
  },
  {
   "cell_type": "code",
   "execution_count": 48,
   "id": "e4025951",
   "metadata": {},
   "outputs": [
    {
     "data": {
      "text/plain": [
       "<AxesSubplot:>"
      ]
     },
     "execution_count": 48,
     "metadata": {},
     "output_type": "execute_result"
    },
    {
     "data": {
      "image/png": "[encoded data removed]",
      "text/plain": [
       "<Figure size 432x288 with 1 Axes>"
      ]
     },
     "metadata": {},
     "output_type": "display_data"
    }
   ],
   "source": [
    "sns.heatmap(cnf_matrix, annot = True, fmt = 'g', cbar = False)\n",
    "# creating heatmap for confusion matrix"
   ]
  },
  {
   "cell_type": "code",
   "execution_count": 49,
   "id": "7833fbca",
   "metadata": {},
   "outputs": [
    {
     "name": "stdout",
     "output_type": "stream",
     "text": [
      "              precision    recall  f1-score   support\n",
      "\n",
      "           0       0.83      0.92      0.87       163\n",
      "           1       0.85      0.70      0.77       104\n",
      "\n",
      "    accuracy                           0.84       267\n",
      "   macro avg       0.84      0.81      0.82       267\n",
      "weighted avg       0.84      0.84      0.83       267\n",
      "\n"
     ]
    }
   ],
   "source": [
    "print(classification_report(y_test, predictions))"
   ]
  },
  {
   "cell_type": "markdown",
   "id": "396374d2",
   "metadata": {},
   "source": [
    "### picking up 1 set of data, checking actual survival output, and feeding same set of data to our model and getting predicted output"
   ]
  },
  {
   "cell_type": "code",
   "execution_count": 50,
   "id": "12884986",
   "metadata": {},
   "outputs": [
    {
     "name": "stdout",
     "output_type": "stream",
     "text": [
      "Pclass     3.00\n",
      "Age       25.00\n",
      "SibSp      0.00\n",
      "Parch      0.00\n",
      "Fare       8.05\n",
      "male       1.00\n",
      "Q          0.00\n",
      "S          1.00\n",
      "Name: 511, dtype: float64\n",
      "\n",
      "\n",
      "Actually survived or not survived 0\n"
     ]
    }
   ],
   "source": [
    "index_num = 0\n",
    "# change this number to select row from testing data\n",
    "# number should be an index for testing data frame\n",
    "# test data was formed randomly, hence the index is not continous\n",
    "print(X_test.iloc[index_num])\n",
    "print(\"\\n\\nActually survived or not survived\", y_test.iloc[index_num])"
   ]
  },
  {
   "cell_type": "code",
   "execution_count": 51,
   "id": "8e4f5ed8",
   "metadata": {},
   "outputs": [
    {
     "name": "stdout",
     "output_type": "stream",
     "text": [
      "Prediction Result: [0]\n"
     ]
    }
   ],
   "source": [
    "test_sample = X_test.iloc[index_num].to_numpy().reshape(1,-1)\n",
    "predicted_result = logmodel.predict(test_sample)\n",
    "print(\"Prediction Result:\", predicted_result)"
   ]
  },
  {
   "cell_type": "markdown",
   "id": "b7ba355b",
   "metadata": {},
   "source": [
    "## Prediction Probability"
   ]
  },
  {
   "cell_type": "code",
   "execution_count": 53,
   "id": "75432cb8",
   "metadata": {},
   "outputs": [
    {
     "data": {
      "text/plain": [
       "array([0.10902359, 0.13329804, 0.76493645, 0.92040407, 0.1347678 ,\n",
       "       0.03315461, 0.11695405, 0.23100015, 0.07461718, 0.59169739,\n",
       "       0.78166597, 0.95464604, 0.10899912, 0.5976588 , 0.10925395,\n",
       "       0.13095604, 0.91417958, 0.82722944, 0.54590307, 0.10115813,\n",
       "       0.10912085, 0.08875558, 0.40676661, 0.32094003, 0.05780205,\n",
       "       0.45980339, 0.64301181, 0.49687759, 0.12404978, 0.32126469,\n",
       "       0.10449241, 0.24848593, 0.01530062, 0.10896012, 0.11305076,\n",
       "       0.13185867, 0.70183631, 0.05676217, 0.12346929, 0.11538905,\n",
       "       0.53232322, 0.15112197, 0.1262677 , 0.93531747, 0.6131405 ,\n",
       "       0.10714366, 0.63456321, 0.88828139, 0.10463803, 0.27839789,\n",
       "       0.50035472, 0.79409505, 0.16855447, 0.13132683, 0.10886498,\n",
       "       0.06640852, 0.44460518, 0.08373015, 0.10230636, 0.91253387,\n",
       "       0.59169739, 0.94269209, 0.8876232 , 0.09165984, 0.18094347,\n",
       "       0.0413497 , 0.12164586, 0.42776686, 0.05037002, 0.1084099 ,\n",
       "       0.35200556, 0.14580201, 0.62272671, 0.88529584, 0.07456543,\n",
       "       0.646975  , 0.07736724, 0.14580201, 0.08230779, 0.26083407,\n",
       "       0.23057216, 0.37884936, 0.54914938, 0.13095604, 0.25131457,\n",
       "       0.60757982, 0.07541978, 0.85301542, 0.10120496, 0.8916992 ,\n",
       "       0.54234319, 0.52894377, 0.08371448, 0.06767652, 0.36878042,\n",
       "       0.92372229, 0.73965892, 0.33835636, 0.14593771, 0.78516946,\n",
       "       0.11695405, 0.89568343, 0.13329804, 0.18101211, 0.6318641 ,\n",
       "       0.10897995, 0.95479799, 0.3944445 , 0.23750384, 0.40106239,\n",
       "       0.06681062, 0.41845419, 0.83846048, 0.7933217 , 0.10899912,\n",
       "       0.89901797, 0.14083318, 0.10694271, 0.76709585, 0.78767018,\n",
       "       0.47886758, 0.1460297 , 0.10127209, 0.16306848, 0.12629475,\n",
       "       0.3031932 , 0.76032066, 0.44924568, 0.88666969, 0.69791233,\n",
       "       0.23027532, 0.35768079, 0.9047504 , 0.60459636, 0.06387182,\n",
       "       0.07468395, 0.06248793, 0.13312981, 0.57896341, 0.15148391,\n",
       "       0.06632289, 0.13099245, 0.20862279, 0.12169725, 0.40377357,\n",
       "       0.59377846, 0.12638642, 0.35491245, 0.28689711, 0.83844337,\n",
       "       0.10897995, 0.746481  , 0.64264493, 0.80161859, 0.11744384,\n",
       "       0.24633579, 0.50401057, 0.05759861, 0.88462702, 0.36050103,\n",
       "       0.1331471 , 0.10899912, 0.08076108, 0.55006983, 0.09765912,\n",
       "       0.46432699, 0.23775108, 0.06142014, 0.26039201, 0.246207  ,\n",
       "       0.64702008, 0.22231963, 0.79316215, 0.34112151, 0.13476124,\n",
       "       0.09741401, 0.33012443, 0.15625396, 0.95927665, 0.3944445 ,\n",
       "       0.64703408, 0.08846966, 0.35825952, 0.64701542, 0.11280626,\n",
       "       0.67504466, 0.82624809, 0.19852559, 0.09380501, 0.15405143,\n",
       "       0.11297774, 0.42560267, 0.58231054, 0.11337953, 0.1537741 ,\n",
       "       0.24614935, 0.74185622, 0.05602879, 0.05990632, 0.45938335,\n",
       "       0.41829787, 0.33271943, 0.9486452 , 0.13329332, 0.71186169,\n",
       "       0.10894426, 0.11517463, 0.12629475, 0.05460367, 0.13578419,\n",
       "       0.33133068, 0.14580201, 0.53198255, 0.39731017, 0.3320087 ,\n",
       "       0.8702922 , 0.77041572, 0.13331299, 0.23773973, 0.10323592,\n",
       "       0.74894473, 0.0938189 , 0.30503538, 0.11299276, 0.74851511,\n",
       "       0.26116465, 0.22296587, 0.61815848, 0.15405143, 0.10899912,\n",
       "       0.72654791, 0.13578419, 0.10902359, 0.14580201, 0.77713271,\n",
       "       0.87971797, 0.64702008, 0.16741263, 0.73597484, 0.2868537 ,\n",
       "       0.11005154, 0.17107223, 0.32126469, 0.1737368 , 0.81584816,\n",
       "       0.14580115, 0.08371448, 0.33480568, 0.56787776, 0.81873368,\n",
       "       0.05249017, 0.5446154 , 0.39929747, 0.22784282, 0.20269973,\n",
       "       0.04667336, 0.09384322, 0.05248001, 0.05211727, 0.85978731,\n",
       "       0.59169046, 0.085594  , 0.15625396, 0.13329804, 0.23465591,\n",
       "       0.86487105, 0.53770891])"
      ]
     },
     "execution_count": 53,
     "metadata": {},
     "output_type": "execute_result"
    }
   ],
   "source": [
    "predict_prob = logmodel.predict_proba(X_test)[:,1]\n",
    "predict_prob"
   ]
  },
  {
   "cell_type": "markdown",
   "id": "2394f718",
   "metadata": {},
   "source": [
    "## Printing Survival probability of the above selected passenger"
   ]
  },
  {
   "cell_type": "code",
   "execution_count": 55,
   "id": "cdb876c0",
   "metadata": {},
   "outputs": [
    {
     "data": {
      "text/plain": [
       "array([0.10902359])"
      ]
     },
     "execution_count": 55,
     "metadata": {},
     "output_type": "execute_result"
    }
   ],
   "source": [
    "predict_sample_prob = logmodel.predict_proba(test_sample)[:,1]\n",
    "predict_sample_prob"
   ]
  },
  {
   "cell_type": "markdown",
   "id": "0dc20e46",
   "metadata": {},
   "source": [
    "## Scatter plot of predicted survivors and Non survivors wrt to age"
   ]
  },
  {
   "cell_type": "code",
   "execution_count": 56,
   "id": "2b8a44dc",
   "metadata": {},
   "outputs": [
    {
     "data": {
      "text/plain": [
       "<matplotlib.collections.PathCollection at 0x21ed6940550>"
      ]
     },
     "execution_count": 56,
     "metadata": {},
     "output_type": "execute_result"
    },
    {
     "data": {
      "image/png": "[encoded data removed]",
      "text/plain": [
       "<Figure size 432x288 with 1 Axes>"
      ]
     },
     "metadata": {},
     "output_type": "display_data"
    }
   ],
   "source": [
    "plt.scatter(X_test[\"Age\"] [predictions==0], predict_prob[predictions==0],color = \"red\")\n",
    "plt.scatter(X_test[\"Age\"] [predictions==1], predict_prob[predictions==1],color = \"green\")\n"
   ]
  },
  {
   "cell_type": "markdown",
   "id": "f506c175",
   "metadata": {},
   "source": [
    "## Manually thresholding probability"
   ]
  },
  {
   "cell_type": "code",
   "execution_count": null,
   "id": "324e5a5c",
   "metadata": {},
   "outputs": [],
   "source": [
    "plt.scatter(X_test[\"Age\"] [predictions==1], predict_prob[predict],color = \"green\")\n",
    "plt.scatter(X_test[\"Age\"] [predictions==1], predict_prob[predictions==1],color = \"green\")\n"
   ]
  }
 ],
 "metadata": {
  "kernelspec": {
   "display_name": "Python 3",
   "language": "python",
   "name": "python3"
  },
  "language_info": {
   "codemirror_mode": {
    "name": "ipython",
    "version": 3
   },
   "file_extension": ".py",
   "mimetype": "text/x-python",
   "name": "python",
   "nbconvert_exporter": "python",
   "pygments_lexer": "ipython3",
   "version": "3.8.8"
  }
 },
 "nbformat": 4,
 "nbformat_minor": 5
}
