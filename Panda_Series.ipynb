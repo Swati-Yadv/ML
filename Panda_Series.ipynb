{
 "cells": [
  {
   "cell_type": "markdown",
   "id": "5e9f79cb",
   "metadata": {},
   "source": [
    "# Panda"
   ]
  },
  {
   "cell_type": "markdown",
   "id": "a3a0ed3f",
   "metadata": {},
   "source": [
    "## Panda Data Structure"
   ]
  },
  {
   "cell_type": "markdown",
   "id": "683daf3b",
   "metadata": {},
   "source": [
    "### Series"
   ]
  },
  {
   "cell_type": "code",
   "execution_count": 2,
   "id": "97963cb5",
   "metadata": {},
   "outputs": [],
   "source": [
    "import numpy as np\n",
    "import pandas as pd"
   ]
  },
  {
   "cell_type": "markdown",
   "id": "948b02bf",
   "metadata": {},
   "source": [
    "### Creating panda series using lists"
   ]
  },
  {
   "cell_type": "code",
   "execution_count": 3,
   "id": "82f1b4d3",
   "metadata": {},
   "outputs": [],
   "source": [
    "fruits = ['Mango','Banana','Grapes','Oranges']\n",
    "quantity = [20,10,20, 10]"
   ]
  },
  {
   "cell_type": "code",
   "execution_count": 4,
   "id": "377be975",
   "metadata": {},
   "outputs": [
    {
     "name": "stdout",
     "output_type": "stream",
     "text": [
      "<class 'pandas.core.series.Series'>\n",
      "Mango      20\n",
      "Banana     10\n",
      "Grapes     20\n",
      "Oranges    10\n",
      "dtype: int64\n"
     ]
    }
   ],
   "source": [
    "fruit_inventory = pd.Series(quantity, index = fruits)\n",
    "print(type(fruit_inventory))\n",
    "print(fruit_inventory)\n"
   ]
  },
  {
   "cell_type": "code",
   "execution_count": 5,
   "id": "ca67a995",
   "metadata": {},
   "outputs": [
    {
     "name": "stdout",
     "output_type": "stream",
     "text": [
      "20\n"
     ]
    }
   ],
   "source": [
    "print(fruit_inventory['Mango'])"
   ]
  },
  {
   "cell_type": "code",
   "execution_count": 10,
   "id": "c057d230",
   "metadata": {},
   "outputs": [
    {
     "name": "stdout",
     "output_type": "stream",
     "text": [
      "[20 10 20 10]\n"
     ]
    }
   ],
   "source": [
    "print(fruit_inventory.values)"
   ]
  },
  {
   "cell_type": "code",
   "execution_count": 12,
   "id": "a4af28ff",
   "metadata": {},
   "outputs": [
    {
     "name": "stdout",
     "output_type": "stream",
     "text": [
      "Index(['Mango', 'Banana', 'Grapes', 'Oranges'], dtype='object')\n"
     ]
    }
   ],
   "source": [
    "print(fruit_inventory.index)"
   ]
  },
  {
   "cell_type": "code",
   "execution_count": 13,
   "id": "8a88ac93",
   "metadata": {},
   "outputs": [
    {
     "name": "stdout",
     "output_type": "stream",
     "text": [
      "15.0\n"
     ]
    }
   ],
   "source": [
    "print(fruit_inventory.mean())"
   ]
  },
  {
   "cell_type": "code",
   "execution_count": 15,
   "id": "438add66",
   "metadata": {},
   "outputs": [
    {
     "name": "stdout",
     "output_type": "stream",
     "text": [
      "10\n"
     ]
    }
   ],
   "source": [
    "print(fruit_inventory.min())"
   ]
  },
  {
   "cell_type": "code",
   "execution_count": 16,
   "id": "972e9c56",
   "metadata": {},
   "outputs": [
    {
     "name": "stdout",
     "output_type": "stream",
     "text": [
      "Mango 20\n",
      "Banana 10\n",
      "Grapes 20\n",
      "Oranges 10\n"
     ]
    }
   ],
   "source": [
    "#series iterations\n",
    "for ind, val in fruit_inventory.iteritems():\n",
    "    print(ind, val)"
   ]
  },
  {
   "cell_type": "markdown",
   "id": "7d523698",
   "metadata": {},
   "source": [
    "## Creating panda series from dictionary"
   ]
  },
  {
   "cell_type": "code",
   "execution_count": 18,
   "id": "84c1d4df",
   "metadata": {},
   "outputs": [
    {
     "name": "stdout",
     "output_type": "stream",
     "text": [
      "Mango      20\n",
      "Banana     10\n",
      "Grapes     20\n",
      "Oranges    10\n",
      "dtype: int64\n"
     ]
    }
   ],
   "source": [
    "fruit_dictionary = {'Mango': 20, 'Banana': 10,'Grapes': 20,'Oranges': 10}\n",
    "print(pd.Series(fruit_dictionary))"
   ]
  },
  {
   "cell_type": "markdown",
   "id": "34f287dc",
   "metadata": {},
   "source": [
    "## Creating panda series from numpy array"
   ]
  },
  {
   "cell_type": "code",
   "execution_count": 19,
   "id": "9e30d92a",
   "metadata": {},
   "outputs": [],
   "source": [
    "arr = np.arange(0,7)"
   ]
  },
  {
   "cell_type": "code",
   "execution_count": 20,
   "id": "20a34efd",
   "metadata": {},
   "outputs": [
    {
     "name": "stdout",
     "output_type": "stream",
     "text": [
      "0    0\n",
      "1    1\n",
      "2    2\n",
      "3    3\n",
      "4    4\n",
      "5    5\n",
      "6    6\n",
      "dtype: int32\n"
     ]
    }
   ],
   "source": [
    "series = pd.Series(arr)\n",
    "print(series)"
   ]
  },
  {
   "cell_type": "code",
   "execution_count": null,
   "id": "532b49a0",
   "metadata": {},
   "outputs": [],
   "source": [
    "ser"
   ]
  }
 ],
 "metadata": {
  "kernelspec": {
   "display_name": "Python 3",
   "language": "python",
   "name": "python3"
  },
  "language_info": {
   "codemirror_mode": {
    "name": "ipython",
    "version": 3
   },
   "file_extension": ".py",
   "mimetype": "text/x-python",
   "name": "python",
   "nbconvert_exporter": "python",
   "pygments_lexer": "ipython3",
   "version": "3.8.8"
  }
 },
 "nbformat": 4,
 "nbformat_minor": 5
}
