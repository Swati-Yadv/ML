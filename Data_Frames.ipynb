{
 "cells": [
  {
   "cell_type": "markdown",
   "id": "99c14148",
   "metadata": {},
   "source": [
    "# Data Frames"
   ]
  },
  {
   "cell_type": "code",
   "execution_count": 2,
   "id": "7cc2723c",
   "metadata": {},
   "outputs": [],
   "source": [
    "import numpy as np\n",
    "import pandas as pd"
   ]
  },
  {
   "cell_type": "code",
   "execution_count": 3,
   "id": "245f3ca3",
   "metadata": {},
   "outputs": [
    {
     "name": "stdout",
     "output_type": "stream",
     "text": [
      "[[ 0  1  2  3  4]\n",
      " [ 5  6  7  8  9]\n",
      " [10 11 12 13 14]\n",
      " [15 16 17 18 19]\n",
      " [20 21 22 23 24]]\n"
     ]
    }
   ],
   "source": [
    "new_data = np.arange(0,25).reshape(5,5)\n",
    "print(new_data)"
   ]
  },
  {
   "cell_type": "markdown",
   "id": "1abb25f2",
   "metadata": {},
   "source": [
    "## Creating the data frame"
   ]
  },
  {
   "cell_type": "code",
   "execution_count": 4,
   "id": "b47148f5",
   "metadata": {},
   "outputs": [
    {
     "name": "stdout",
     "output_type": "stream",
     "text": [
      "    C1  C2  C3  C4  C5\n",
      "R1   0   1   2   3   4\n",
      "R2   5   6   7   8   9\n",
      "R3  10  11  12  13  14\n",
      "R4  15  16  17  18  19\n",
      "R5  20  21  22  23  24\n"
     ]
    }
   ],
   "source": [
    "import pandas as pd\n",
    "data = pd.DataFrame(data = new_data, index = [\"R1\",\"R2\",\"R3\",\"R4\",\"R5\"], columns = [\"C1\",\"C2\",\"C3\",\"C4\",\"C5\"])\n",
    "print(data)"
   ]
  },
  {
   "cell_type": "code",
   "execution_count": 6,
   "id": "d8a9090e",
   "metadata": {},
   "outputs": [
    {
     "name": "stdout",
     "output_type": "stream",
     "text": [
      "    C1  C2  C3  C4  C5\n",
      "R1   0   1   2   3   4\n",
      "R2   5   6   7   8   9\n",
      "R3  10  11  12  13  14\n",
      "R4  15  16  17  18  19\n",
      "R5  20  21  22  23  24\n"
     ]
    }
   ],
   "source": [
    "frame = pd.DataFrame(new_data,[\"R1\",\"R2\",\"R3\",\"R4\",\"R5\"], [\"C1\",\"C2\",\"C3\",\"C4\",\"C5\"])\n",
    "print(frame)"
   ]
  },
  {
   "cell_type": "markdown",
   "id": "8c594117",
   "metadata": {},
   "source": [
    "# Indexing"
   ]
  },
  {
   "cell_type": "markdown",
   "id": "cac86234",
   "metadata": {},
   "source": [
    "## Column indexing"
   ]
  },
  {
   "cell_type": "code",
   "execution_count": 7,
   "id": "138abab5",
   "metadata": {},
   "outputs": [
    {
     "name": "stdout",
     "output_type": "stream",
     "text": [
      "R1     2\n",
      "R2     7\n",
      "R3    12\n",
      "R4    17\n",
      "R5    22\n",
      "Name: C3, dtype: int32\n"
     ]
    }
   ],
   "source": [
    "print(frame[\"C3\"])"
   ]
  },
  {
   "cell_type": "code",
   "execution_count": 8,
   "id": "9cb1aad9",
   "metadata": {},
   "outputs": [
    {
     "name": "stdout",
     "output_type": "stream",
     "text": [
      "<class 'pandas.core.series.Series'>\n"
     ]
    }
   ],
   "source": [
    "print(type(frame[\"C3\"]))"
   ]
  },
  {
   "cell_type": "code",
   "execution_count": 9,
   "id": "2be8aa7a",
   "metadata": {},
   "outputs": [
    {
     "name": "stdout",
     "output_type": "stream",
     "text": [
      "    C3  C1\n",
      "R1   2   0\n",
      "R2   7   5\n",
      "R3  12  10\n",
      "R4  17  15\n",
      "R5  22  20\n"
     ]
    }
   ],
   "source": [
    "print(frame[[\"C3\",\"C1\"]])"
   ]
  },
  {
   "cell_type": "code",
   "execution_count": 10,
   "id": "3ef07f48",
   "metadata": {},
   "outputs": [
    {
     "name": "stdout",
     "output_type": "stream",
     "text": [
      "    C1  C2\n",
      "R1   0   1\n",
      "R2   5   6\n",
      "R3  10  11\n",
      "R4  15  16\n",
      "R5  20  21\n"
     ]
    }
   ],
   "source": [
    "print(frame.iloc[:,[0,1]])"
   ]
  },
  {
   "cell_type": "code",
   "execution_count": 11,
   "id": "f32b7c0a",
   "metadata": {},
   "outputs": [
    {
     "name": "stdout",
     "output_type": "stream",
     "text": [
      "C1    0\n",
      "C2    1\n",
      "C3    2\n",
      "C4    3\n",
      "C5    4\n",
      "Name: R1, dtype: int32\n"
     ]
    }
   ],
   "source": [
    "print(frame.iloc[0])"
   ]
  },
  {
   "cell_type": "code",
   "execution_count": 13,
   "id": "312fd5f7",
   "metadata": {},
   "outputs": [
    {
     "name": "stdout",
     "output_type": "stream",
     "text": [
      "4\n"
     ]
    }
   ],
   "source": [
    "print(frame.iloc[0,4])"
   ]
  },
  {
   "cell_type": "markdown",
   "id": "0b92aeb2",
   "metadata": {},
   "source": [
    "## Row indexing"
   ]
  },
  {
   "cell_type": "code",
   "execution_count": 14,
   "id": "6fdc2fd5",
   "metadata": {},
   "outputs": [
    {
     "name": "stdout",
     "output_type": "stream",
     "text": [
      "C1    0\n",
      "C2    1\n",
      "C3    2\n",
      "C4    3\n",
      "C5    4\n",
      "Name: R1, dtype: int32\n"
     ]
    }
   ],
   "source": [
    "print(frame.loc[\"R1\"])"
   ]
  },
  {
   "cell_type": "code",
   "execution_count": 15,
   "id": "dc3f30ec",
   "metadata": {},
   "outputs": [
    {
     "name": "stdout",
     "output_type": "stream",
     "text": [
      "    C1  C2  C3  C4  C5\n",
      "R1   0   1   2   3   4\n",
      "R3  10  11  12  13  14\n"
     ]
    }
   ],
   "source": [
    "print(frame.loc[[\"R1\",\"R3\"]])"
   ]
  },
  {
   "cell_type": "code",
   "execution_count": 16,
   "id": "81a3ab2a",
   "metadata": {},
   "outputs": [
    {
     "name": "stdout",
     "output_type": "stream",
     "text": [
      "C1    0\n",
      "C2    1\n",
      "C3    2\n",
      "C4    3\n",
      "C5    4\n",
      "Name: R1, dtype: int32\n"
     ]
    }
   ],
   "source": [
    "print(frame.iloc[0])"
   ]
  },
  {
   "cell_type": "markdown",
   "id": "477b8f2c",
   "metadata": {},
   "source": [
    "## Row and Column indexing"
   ]
  },
  {
   "cell_type": "code",
   "execution_count": 17,
   "id": "f6f054c9",
   "metadata": {},
   "outputs": [
    {
     "name": "stdout",
     "output_type": "stream",
     "text": [
      "2\n"
     ]
    }
   ],
   "source": [
    "print(frame.loc[\"R1\",\"C3\"])"
   ]
  },
  {
   "cell_type": "code",
   "execution_count": 21,
   "id": "e27ad4a0",
   "metadata": {},
   "outputs": [
    {
     "name": "stdout",
     "output_type": "stream",
     "text": [
      "    C2  C1\n",
      "R2   6   5\n",
      "R4  16  15\n"
     ]
    }
   ],
   "source": [
    "print(frame.loc[[\"R2\",\"R4\"],[\"C2\",\"C1\"]])"
   ]
  },
  {
   "cell_type": "markdown",
   "id": "44712d0f",
   "metadata": {},
   "source": [
    "### Creating new column"
   ]
  },
  {
   "cell_type": "code",
   "execution_count": 22,
   "id": "3a3e5a4b",
   "metadata": {},
   "outputs": [
    {
     "name": "stdout",
     "output_type": "stream",
     "text": [
      "    C1  C2  C3  C4  C5   C6\n",
      "R1   0   1   2   3   4  100\n",
      "R2   5   6   7   8   9  200\n",
      "R3  10  11  12  13  14  300\n",
      "R4  15  16  17  18  19  400\n",
      "R5  20  21  22  23  24  500\n"
     ]
    }
   ],
   "source": [
    "frame[\"C6\"] = [\"100\",'200','300','400','500']\n",
    "print(frame)"
   ]
  },
  {
   "cell_type": "markdown",
   "id": "756c9091",
   "metadata": {},
   "source": [
    "### Deleting the columns"
   ]
  },
  {
   "cell_type": "code",
   "execution_count": 26,
   "id": "d5b40609",
   "metadata": {},
   "outputs": [
    {
     "name": "stdout",
     "output_type": "stream",
     "text": [
      "    C1  C2  C3  C4  C5\n",
      "R1   0   1   2   3   4\n",
      "R2   5   6   7   8   9\n",
      "R3  10  11  12  13  14\n",
      "R4  15  16  17  18  19\n",
      "R5  20  21  22  23  24\n"
     ]
    }
   ],
   "source": [
    "print(frame.drop([\"C6\"],axis = 1))"
   ]
  },
  {
   "cell_type": "code",
   "execution_count": 27,
   "id": "c02a6e33",
   "metadata": {},
   "outputs": [
    {
     "name": "stdout",
     "output_type": "stream",
     "text": [
      "    C1  C2  C3  C4  C5   C6\n",
      "R1   0   1   2   3   4  100\n",
      "R2   5   6   7   8   9  200\n",
      "R3  10  11  12  13  14  300\n",
      "R4  15  16  17  18  19  400\n",
      "R5  20  21  22  23  24  500\n"
     ]
    }
   ],
   "source": [
    "print(frame)     #dropped labels are not reflected in frame"
   ]
  },
  {
   "cell_type": "code",
   "execution_count": 29,
   "id": "3e3b65c3",
   "metadata": {},
   "outputs": [
    {
     "name": "stdout",
     "output_type": "stream",
     "text": [
      "    C1  C2  C3  C4  C5\n",
      "R1   0   1   2   3   4\n",
      "R2   5   6   7   8   9\n",
      "R3  10  11  12  13  14\n",
      "R4  15  16  17  18  19\n",
      "R5  20  21  22  23  24\n"
     ]
    }
   ],
   "source": [
    "frame.drop([\"C6\"],axis = 1,inplace = True)\n",
    "print(frame)"
   ]
  },
  {
   "cell_type": "code",
   "execution_count": 30,
   "id": "12740232",
   "metadata": {},
   "outputs": [
    {
     "name": "stdout",
     "output_type": "stream",
     "text": [
      "    C1  C2  C3  C4  C5\n",
      "R1   0   1   2   3   4\n",
      "R2   5   6   7   8   9\n",
      "R3  10  11  12  13  14\n",
      "R4  15  16  17  18  19\n",
      "R5  20  21  22  23  24\n"
     ]
    }
   ],
   "source": [
    "print(frame)           #Change is reflected"
   ]
  },
  {
   "cell_type": "markdown",
   "id": "4458ebba",
   "metadata": {},
   "source": [
    "## Creating new rows"
   ]
  },
  {
   "cell_type": "code",
   "execution_count": 52,
   "id": "b49a6821",
   "metadata": {},
   "outputs": [],
   "source": [
    "frame.loc[\"R6\"] = [99, 100, 101, 102, 103]"
   ]
  },
  {
   "cell_type": "code",
   "execution_count": 53,
   "id": "6de39647",
   "metadata": {},
   "outputs": [
    {
     "name": "stdout",
     "output_type": "stream",
     "text": [
      "    C1   C2   C3   C4   C5\n",
      "R1   0    1    2    3    4\n",
      "R2   5    6    7    8    9\n",
      "R3  10   11   12   13   14\n",
      "R4  15   16   17   18   19\n",
      "R5  20   21   22   23   24\n",
      "R6  99  100  101  102  103\n"
     ]
    }
   ],
   "source": [
    "print(frame)"
   ]
  },
  {
   "cell_type": "markdown",
   "id": "b7ffe6b0",
   "metadata": {},
   "source": [
    "## Deleting rows"
   ]
  },
  {
   "cell_type": "code",
   "execution_count": 54,
   "id": "45a51f8e",
   "metadata": {},
   "outputs": [
    {
     "name": "stdout",
     "output_type": "stream",
     "text": [
      "    C1   C2   C3   C4   C5\n",
      "R1   0    1    2    3    4\n",
      "R2   5    6    7    8    9\n",
      "R3  10   11   12   13   14\n",
      "R4  15   16   17   18   19\n",
      "R5  20   21   22   23   24\n",
      "R6  99  100  101  102  103\n"
     ]
    }
   ],
   "source": [
    "#Temporary deletion\n",
    "frame.drop([\"R6\"])        #or \"R6\", axis = 0 but by default axis is 0 \n",
    "print(frame)"
   ]
  },
  {
   "cell_type": "code",
   "execution_count": 34,
   "id": "7fbb10a4",
   "metadata": {},
   "outputs": [
    {
     "name": "stdout",
     "output_type": "stream",
     "text": [
      "    C1   C2   C3   C4   C5\n",
      "R1   0    1    2    3    4\n",
      "R2   5    6    7    8    9\n",
      "R3  10   11   12   13   14\n",
      "R4  15   16   17   18   19\n",
      "R5  20   21   22   23   24\n",
      "R6  99  100  101  102  103\n"
     ]
    }
   ],
   "source": [
    "print(frame)"
   ]
  },
  {
   "cell_type": "code",
   "execution_count": 55,
   "id": "05d4998f",
   "metadata": {},
   "outputs": [
    {
     "name": "stdout",
     "output_type": "stream",
     "text": [
      "    C1  C2  C3  C4  C5\n",
      "R1   0   1   2   3   4\n",
      "R2   5   6   7   8   9\n",
      "R3  10  11  12  13  14\n",
      "R4  15  16  17  18  19\n",
      "R5  20  21  22  23  24\n"
     ]
    }
   ],
   "source": [
    "frame.drop([\"R6\"], inplace = True)\n",
    "print(frame)"
   ]
  },
  {
   "cell_type": "markdown",
   "id": "eaab1722",
   "metadata": {},
   "source": [
    "## Conditional Indexing"
   ]
  },
  {
   "cell_type": "code",
   "execution_count": 56,
   "id": "1aaeadb8",
   "metadata": {},
   "outputs": [
    {
     "name": "stdout",
     "output_type": "stream",
     "text": [
      "[       C1     C2     C3     C4     C5\n",
      "R1  False  False  False  False  False\n",
      "R2  False  False  False  False  False\n",
      "R3  False   True   True   True   True\n",
      "R4   True   True   True   True   True\n",
      "R5   True   True   True   True   True]\n"
     ]
    }
   ],
   "source": [
    "print([frame>10])   #print all the boolean for values "
   ]
  },
  {
   "cell_type": "code",
   "execution_count": 57,
   "id": "25c249ad",
   "metadata": {},
   "outputs": [
    {
     "name": "stdout",
     "output_type": "stream",
     "text": [
      "      C1    C2    C3    C4    C5\n",
      "R1   NaN   NaN   NaN   NaN   NaN\n",
      "R2   NaN   NaN   NaN   NaN   NaN\n",
      "R3   NaN  11.0  12.0  13.0  14.0\n",
      "R4  15.0  16.0  17.0  18.0  19.0\n",
      "R5  20.0  21.0  22.0  23.0  24.0\n"
     ]
    }
   ],
   "source": [
    "print(frame[frame >10])   #prints element greater than 10"
   ]
  },
  {
   "cell_type": "code",
   "execution_count": 59,
   "id": "e71caf3a",
   "metadata": {},
   "outputs": [
    {
     "name": "stdout",
     "output_type": "stream",
     "text": [
      "R1    False\n",
      "R2    False\n",
      "R3     True\n",
      "R4     True\n",
      "R5     True\n",
      "Name: C2, dtype: bool\n"
     ]
    }
   ],
   "source": [
    "print(frame[\"C2\"]> 6)    #print boolean for elements of column 2 with condition that elements are greater than 6"
   ]
  },
  {
   "cell_type": "code",
   "execution_count": 61,
   "id": "62d846dc",
   "metadata": {},
   "outputs": [
    {
     "name": "stdout",
     "output_type": "stream",
     "text": [
      "    C1  C2  C3  C4  C5\n",
      "R3  10  11  12  13  14\n",
      "R4  15  16  17  18  19\n",
      "R5  20  21  22  23  24\n"
     ]
    }
   ],
   "source": [
    "print(frame[frame[\"C2\"]>6])\n",
    "#print all rows for which C2 > 6 is true"
   ]
  },
  {
   "cell_type": "code",
   "execution_count": 63,
   "id": "74c101fb",
   "metadata": {},
   "outputs": [
    {
     "name": "stdout",
     "output_type": "stream",
     "text": [
      "R3    11\n",
      "R4    16\n",
      "R5    21\n",
      "Name: C2, dtype: int64\n"
     ]
    }
   ],
   "source": [
    "print(frame[frame[\"C2\"]> 6][\"C2\"])     #print all rows of c2 for which c2 >6"
   ]
  },
  {
   "cell_type": "code",
   "execution_count": 64,
   "id": "8fc3abc4",
   "metadata": {},
   "outputs": [
    {
     "name": "stdout",
     "output_type": "stream",
     "text": [
      "    C1  C2  C3  C4  C5\n",
      "R3  10  11  12  13  14\n",
      "R4  15  16  17  18  19\n",
      "R5  20  21  22  23  24\n"
     ]
    }
   ],
   "source": [
    "print(frame[(frame[\"C2\"]>6) & (frame[\"C3\"]>10)])"
   ]
  },
  {
   "cell_type": "markdown",
   "id": "76e7c693",
   "metadata": {},
   "source": [
    "# Index Manipulation"
   ]
  },
  {
   "cell_type": "code",
   "execution_count": 66,
   "id": "5a7b3230",
   "metadata": {},
   "outputs": [
    {
     "name": "stdout",
     "output_type": "stream",
     "text": [
      "  index  C1  C2  C3  C4  C5\n",
      "0    R1   0   1   2   3   4\n",
      "1    R2   5   6   7   8   9\n",
      "2    R3  10  11  12  13  14\n",
      "3    R4  15  16  17  18  19\n",
      "4    R5  20  21  22  23  24\n"
     ]
    }
   ],
   "source": [
    "print(frame.reset_index())"
   ]
  },
  {
   "cell_type": "code",
   "execution_count": 67,
   "id": "a7cef4c0",
   "metadata": {},
   "outputs": [
    {
     "name": "stdout",
     "output_type": "stream",
     "text": [
      "    C1  C2  C3  C4  C5  new\n",
      "R1   0   1   2   3   4  R11\n",
      "R2   5   6   7   8   9  R22\n",
      "R3  10  11  12  13  14  R33\n",
      "R4  15  16  17  18  19  R44\n",
      "R5  20  21  22  23  24  R55\n"
     ]
    }
   ],
   "source": [
    "frame[\"new\"] = [\"R11\",\"R22\",\"R33\",\"R44\",\"R55\"]\n",
    "frame.set_index(\"new\")\n",
    "print(frame)"
   ]
  },
  {
   "cell_type": "code",
   "execution_count": 69,
   "id": "5312263e",
   "metadata": {},
   "outputs": [
    {
     "name": "stdout",
     "output_type": "stream",
     "text": [
      "[Index(['R1', 'R2', 'R3', 'R4', 'R5'], dtype='object'), Index(['C1', 'C2', 'C3', 'C4', 'C5', 'new'], dtype='object')]\n"
     ]
    }
   ],
   "source": [
    "print(frame.axes)"
   ]
  },
  {
   "cell_type": "code",
   "execution_count": 73,
   "id": "af633b21",
   "metadata": {},
   "outputs": [],
   "source": [
    "frame.rename_axis(\"columns\",axis = 1,inplace = True)\n",
    "frame.rename_axis(\"rows\",axis = 0,inplace = True)"
   ]
  },
  {
   "cell_type": "code",
   "execution_count": 74,
   "id": "3858062a",
   "metadata": {},
   "outputs": [
    {
     "name": "stdout",
     "output_type": "stream",
     "text": [
      "columns  C1  C2  C3  C4  C5  new\n",
      "rows                            \n",
      "R1        0   1   2   3   4  R11\n",
      "R2        5   6   7   8   9  R22\n",
      "R3       10  11  12  13  14  R33\n",
      "R4       15  16  17  18  19  R44\n",
      "R5       20  21  22  23  24  R55\n"
     ]
    }
   ],
   "source": [
    "print(frame)"
   ]
  },
  {
   "cell_type": "code",
   "execution_count": 76,
   "id": "b802fbaf",
   "metadata": {},
   "outputs": [],
   "source": [
    "frame.columns = [\"a\",\"b\",\"c\",\"d\",\"e\",\"f\"]"
   ]
  },
  {
   "cell_type": "code",
   "execution_count": 77,
   "id": "fef57ec9",
   "metadata": {},
   "outputs": [
    {
     "name": "stdout",
     "output_type": "stream",
     "text": [
      "       a   b   c   d   e    f\n",
      "rows                         \n",
      "R1     0   1   2   3   4  R11\n",
      "R2     5   6   7   8   9  R22\n",
      "R3    10  11  12  13  14  R33\n",
      "R4    15  16  17  18  19  R44\n",
      "R5    20  21  22  23  24  R55\n"
     ]
    }
   ],
   "source": [
    "print(frame)"
   ]
  },
  {
   "cell_type": "code",
   "execution_count": null,
   "id": "1c46f683",
   "metadata": {},
   "outputs": [],
   "source": []
  }
 ],
 "metadata": {
  "kernelspec": {
   "display_name": "Python 3 (ipykernel)",
   "language": "python",
   "name": "python3"
  },
  "language_info": {
   "codemirror_mode": {
    "name": "ipython",
    "version": 3
   },
   "file_extension": ".py",
   "mimetype": "text/x-python",
   "name": "python",
   "nbconvert_exporter": "python",
   "pygments_lexer": "ipython3",
   "version": "3.9.12"
  }
 },
 "nbformat": 4,
 "nbformat_minor": 5
}
