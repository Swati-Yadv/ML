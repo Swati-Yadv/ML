{
 "cells": [
  {
   "cell_type": "code",
   "execution_count": 1,
   "id": "63ff28b8",
   "metadata": {},
   "outputs": [],
   "source": [
    "import cv2"
   ]
  },
  {
   "cell_type": "code",
   "execution_count": 3,
   "id": "1b48e91c",
   "metadata": {},
   "outputs": [],
   "source": [
    "# Reading Image\n",
    "img_path = \"C:\\\\Users\\\\Swati\\\\Python_Basics\\\\sample_images\\\\messi5.jpg\"\n",
    "img = cv2.imread(img_path)"
   ]
  },
  {
   "cell_type": "code",
   "execution_count": 4,
   "id": "6586d24f",
   "metadata": {},
   "outputs": [],
   "source": [
    "# Displaying image\n",
    "cv2.imshow(\"Image\", img)\n",
    "cv2.waitKey(0)\n",
    "cv2.destroyAllWindows()"
   ]
  },
  {
   "cell_type": "code",
   "execution_count": 5,
   "id": "7a70a57e",
   "metadata": {},
   "outputs": [
    {
     "name": "stdout",
     "output_type": "stream",
     "text": [
      "[157 166 200]\n"
     ]
    }
   ],
   "source": [
    "# Fetching pixel value\n",
    "# For a color image every pixel contains 3 color values (Blue, Green, Red)\n",
    "# pixel at 100th row and 100th column\n",
    "px = img[100,100]\n",
    "print(px)"
   ]
  },
  {
   "cell_type": "code",
   "execution_count": 6,
   "id": "4b2cd781",
   "metadata": {},
   "outputs": [
    {
     "name": "stdout",
     "output_type": "stream",
     "text": [
      "(342, 548, 3)\n",
      "562248\n",
      "uint8\n"
     ]
    }
   ],
   "source": [
    "# Image Properties\n",
    "print(img.shape)   #will return height, width, channels(channels only in case of colour image)\n",
    "print(img.size)     #number of pixels(resolution)\n",
    "print(img.dtype)"
   ]
  },
  {
   "cell_type": "code",
   "execution_count": 7,
   "id": "1d6a248a",
   "metadata": {},
   "outputs": [],
   "source": [
    "# Creating ROI(Region of interest)\n",
    "#        rows    , columns\n",
    "px = img[100:350, 300:500]\n",
    "cv2.imshow(\"region\", px)\n",
    "cv2.waitKey(0)\n",
    "cv2.destroyAllWindows()"
   ]
  },
  {
   "cell_type": "code",
   "execution_count": 10,
   "id": "000a732d",
   "metadata": {},
   "outputs": [],
   "source": [
    "# Replicating ROI\n",
    "img = cv2.imread(img_path)\n",
    "ball = img[280:340, 330:390]     #roi to be copied\n",
    "org_img = img.copy()             #creating copy of image\n",
    "img[270:330, 100:160] = ball     #roi copied to another location\n",
    "cv2.imshow(\"Original Image\", org_img)\n",
    "cv2.imshow(\"Processed image\", img)\n",
    "cv2.waitKey(0)\n",
    "cv2.destroyAllWindows()"
   ]
  },
  {
   "cell_type": "code",
   "execution_count": 11,
   "id": "75e20a87",
   "metadata": {},
   "outputs": [],
   "source": [
    "# Accessing channels of image\n",
    "# Every colour image has 3 channels : blue, green, red\n",
    "# Here we are accessing the channels separately\n",
    "img = cv2.imread(img_path)\n",
    "b,g,r = cv2.split(img)\n",
    "cv2.imshow(\"Blue intensities\", b)\n",
    "cv2.imshow(\"Blue intensities\", g)\n",
    "cv2.imshow(\"Blue intensities\", r)\n",
    "\n",
    "cv2.waitKey(0)\n",
    "cv2.destroyAllWindows()\n"
   ]
  },
  {
   "cell_type": "code",
   "execution_count": 14,
   "id": "56fa7e4c",
   "metadata": {},
   "outputs": [],
   "source": [
    "img = cv2.imread(img_path)\n",
    "img[:, :, (0,2)] = 0    #channel 1(green) being accessed, change tuple(0,2) accordingly\n",
    "cv2.imshow(\"Channel\", img)\n",
    "cv2.waitKey(0)\n",
    "cv2.destroyAllWindows()"
   ]
  },
  {
   "cell_type": "code",
   "execution_count": null,
   "id": "5e0347ad",
   "metadata": {},
   "outputs": [],
   "source": []
  }
 ],
 "metadata": {
  "kernelspec": {
   "display_name": "Python 3 (ipykernel)",
   "language": "python",
   "name": "python3"
  },
  "language_info": {
   "codemirror_mode": {
    "name": "ipython",
    "version": 3
   },
   "file_extension": ".py",
   "mimetype": "text/x-python",
   "name": "python",
   "nbconvert_exporter": "python",
   "pygments_lexer": "ipython3",
   "version": "3.9.12"
  }
 },
 "nbformat": 4,
 "nbformat_minor": 5
}
