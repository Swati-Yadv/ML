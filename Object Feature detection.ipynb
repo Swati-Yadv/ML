{
 "cells": [
  {
   "cell_type": "markdown",
   "id": "3c0f6a02",
   "metadata": {},
   "source": [
    "## Face and Eyes detecction using haar cascade"
   ]
  },
  {
   "cell_type": "code",
   "execution_count": 2,
   "id": "ccf0da31",
   "metadata": {},
   "outputs": [],
   "source": [
    "import cv2\n",
    "import numpy as np\n",
    "import time\n"
   ]
  },
  {
   "cell_type": "code",
   "execution_count": 3,
   "id": "ea10d2a6",
   "metadata": {},
   "outputs": [
    {
     "data": {
      "text/plain": [
       "'C:\\\\Users\\\\Swati\\\\anaconda3\\\\lib\\\\site-packages\\\\cv2\\\\__init__.py'"
      ]
     },
     "execution_count": 3,
     "metadata": {},
     "output_type": "execute_result"
    }
   ],
   "source": [
    "cv2.__file__"
   ]
  },
  {
   "cell_type": "markdown",
   "id": "cde9dd4f",
   "metadata": {},
   "source": [
    "### Initiating Classifiers"
   ]
  },
  {
   "cell_type": "code",
   "execution_count": 4,
   "id": "75350040",
   "metadata": {},
   "outputs": [],
   "source": [
    "face_cascade = cv2.CascadeClassifier('haarcascade_frontalface_default.xml')\n",
    "eye_cascade = cv2.CascadeClassifier('haarcascade_eye.xml')"
   ]
  },
  {
   "cell_type": "markdown",
   "id": "acfa8102",
   "metadata": {},
   "source": [
    "## Reading image"
   ]
  },
  {
   "cell_type": "code",
   "execution_count": 5,
   "id": "728b976a",
   "metadata": {},
   "outputs": [
    {
     "name": "stdout",
     "output_type": "stream",
     "text": [
      "(320, 320, 3)\n"
     ]
    }
   ],
   "source": [
    "img = cv2.imread('federer.jpg')\n",
    "print(img.shape)\n",
    "gray = cv2.cvtColor(img, cv2.COLOR_BGR2GRAY)\n",
    "cv2.imshow(\"Original\", img)\n",
    "cv2.imshow(\"Grayscale\",gray)\n",
    "cv2.waitKey(0)\n",
    "cv2.destroyAllWindows()"
   ]
  },
  {
   "cell_type": "markdown",
   "id": "6f9b4b55",
   "metadata": {},
   "source": [
    "## Detecting face"
   ]
  },
  {
   "cell_type": "code",
   "execution_count": 6,
   "id": "2379c0ad",
   "metadata": {},
   "outputs": [
    {
     "name": "stdout",
     "output_type": "stream",
     "text": [
      "[[ 72  51 184 184]]\n"
     ]
    }
   ],
   "source": [
    "faces = face_cascade.detectMultiScale(gray, scaleFactor = 1.3, minNeighbors = 5)\n",
    "print(faces)"
   ]
  },
  {
   "cell_type": "markdown",
   "id": "56c67c20",
   "metadata": {},
   "source": [
    "## Enclosing Face with rectangle"
   ]
  },
  {
   "cell_type": "code",
   "execution_count": 8,
   "id": "952d648c",
   "metadata": {},
   "outputs": [],
   "source": [
    "x, y, h, w = faces[0]\n",
    "img = cv2.rectangle(img, (x,y), (x+ w, y+h), (0,0,255), 2)\n",
    "cv2.imshow('img', img)\n",
    "cv2.waitKey(0)\n",
    "cv2.destroyAllWindows()"
   ]
  },
  {
   "cell_type": "markdown",
   "id": "5961a2ac",
   "metadata": {},
   "source": [
    "## Creating ROI of face"
   ]
  },
  {
   "cell_type": "code",
   "execution_count": 9,
   "id": "9bec5bfc",
   "metadata": {},
   "outputs": [],
   "source": [
    "roi_gray = gray[y:y+h, x:x+w]\n",
    "roi_color = img[y:y+h, x:x+w]\n",
    "cv2.imshow('ROI Gray (Face)', roi_gray)\n",
    "cv2.imshow('ROI color (Face)', roi_color)\n",
    "cv2.waitKey(0)\n",
    "cv2.destroyAllWindows()"
   ]
  },
  {
   "cell_type": "markdown",
   "id": "89013cf7",
   "metadata": {},
   "source": [
    "## Detecting Eyes and Enclosing them with rectangles"
   ]
  },
  {
   "cell_type": "code",
   "execution_count": 10,
   "id": "e0770803",
   "metadata": {},
   "outputs": [
    {
     "name": "stdout",
     "output_type": "stream",
     "text": [
      "[[37 45 55 55]\n",
      " [95 48 50 50]]\n"
     ]
    }
   ],
   "source": [
    "eyes = eye_cascade.detectMultiScale(roi_gray)\n",
    "print(eyes)"
   ]
  },
  {
   "cell_type": "code",
   "execution_count": 11,
   "id": "039ef6f3",
   "metadata": {},
   "outputs": [],
   "source": [
    "for (ex, ey, ew, eh) in eyes:\n",
    "    cv2.rectangle(roi_color, (ex, ey), (ex+ew, ey+eh), (0,255, 255), 2)\n",
    "cv2.imshow('img', img)\n",
    "cv2.waitKey(0)\n",
    "cv2.destroyAllWindows()"
   ]
  },
  {
   "cell_type": "markdown",
   "id": "24f6e9bb",
   "metadata": {},
   "source": [
    "## Multiple faces in one image"
   ]
  },
  {
   "cell_type": "code",
   "execution_count": 12,
   "id": "21fec038",
   "metadata": {},
   "outputs": [],
   "source": [
    "img = cv2.imread('faces.jpeg')\n",
    "gray = cv2.cvtColor(img, cv2.COLOR_BGR2GRAY)\n",
    "cv2.imshow(\"Original\", img)\n",
    "cv2.imshow(\"Gray image\", gray)\n",
    "cv2.waitKey(0)\n",
    "cv2.destroyAllWindows()"
   ]
  },
  {
   "cell_type": "code",
   "execution_count": 1,
   "id": "7e946412",
   "metadata": {},
   "outputs": [],
   "source": [
    "\n",
    "# FACE DETECTION"
   ]
  },
  {
   "cell_type": "code",
   "execution_count": 1,
   "id": "5ef8c816",
   "metadata": {},
   "outputs": [],
   "source": [
    "import cv2\n",
    "import matplotlib.pyplot as plt\n",
    "import numpy as np\n",
    "%matplotlib inline\n",
    "\n"
   ]
  },
  {
   "cell_type": "code",
   "execution_count": 2,
   "id": "a694cbd1",
   "metadata": {},
   "outputs": [],
   "source": [
    "def face_det(cascade, image,scaleFactor = 1.5):\n",
    "    image_copy = image.copy()\n",
    "#     converting in gray image\n",
    "    gray_img = cv2.cvtColor(image_copy, cv2.COLOR_BGR2GRAY)\n",
    "#     using haar classifier\n",
    "    faces_detect = cascade.detectMultiScale(gray_img, scaleFactor = 1.5, minNeighbors = 2)\n",
    "    for(x,y,w,h) in faces_detect:\n",
    "        cv2.rectangle(image, (x,y), (x+w, y+h), (0,255,0), 5)\n",
    "    return image_copy\n",
    "\n",
    "# Loading image\n",
    "image = cv2.imread(\"faces.jpeg\")\n",
    "# converting to grayscale\n",
    "image_gray = cv2.cvtColor(image, cv2.COLOR_BGR2GRAY)\n",
    "# displaying gray image\n",
    "cv2.imshow(\"Gray image\",image_gray)\n",
    "faces = face_det(haar_face_cascade, image)\n",
    "cv2.imshow(\"Faces\",faces)"
   ]
  },
  {
   "cell_type": "code",
   "execution_count": null,
   "id": "f5350f17",
   "metadata": {},
   "outputs": [],
   "source": []
  }
 ],
 "metadata": {
  "kernelspec": {
   "display_name": "Python 3 (ipykernel)",
   "language": "python",
   "name": "python3"
  },
  "language_info": {
   "codemirror_mode": {
    "name": "ipython",
    "version": 3
   },
   "file_extension": ".py",
   "mimetype": "text/x-python",
   "name": "python",
   "nbconvert_exporter": "python",
   "pygments_lexer": "ipython3",
   "version": "3.9.12"
  }
 },
 "nbformat": 4,
 "nbformat_minor": 5
}
